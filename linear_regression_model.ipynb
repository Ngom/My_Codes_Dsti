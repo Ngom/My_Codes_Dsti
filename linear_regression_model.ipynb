{
  "nbformat": 4,
  "nbformat_minor": 0,
  "metadata": {
    "colab": {
      "name": "linear_regression_model.ipynb",
      "provenance": [],
      "authorship_tag": "ABX9TyM+puQUG/jpI6GhZkNKVLGH",
      "include_colab_link": true
    },
    "kernelspec": {
      "name": "python3",
      "display_name": "Python 3"
    },
    "language_info": {
      "name": "python"
    }
  },
  "cells": [
    {
      "cell_type": "markdown",
      "metadata": {
        "id": "view-in-github",
        "colab_type": "text"
      },
      "source": [
        "<a href=\"https://colab.research.google.com/github/engom/My_Codes_Dsti/blob/main/linear_regression_model.ipynb\" target=\"_parent\"><img src=\"https://colab.research.google.com/assets/colab-badge.svg\" alt=\"Open In Colab\"/></a>"
      ]
    },
    {
      "cell_type": "code",
      "execution_count": 18,
      "metadata": {
        "id": "nvVN54a8x6jB"
      },
      "outputs": [],
      "source": [
        "import matplotlib.pyplot as plt\n",
        "import numpy as np\n",
        "from sklearn import datasets, linear_model\n",
        "from sklearn.metrics import mean_squared_error, r2_score"
      ]
    },
    {
      "cell_type": "code",
      "source": [
        "# load the whole diabetes dataset and separate x and y\n",
        "diabetes_x, diabetes_y = datasets.load_diabetes(return_X_y=True)\n",
        "# check the shape \n",
        "diabetes_x.shape"
      ],
      "metadata": {
        "colab": {
          "base_uri": "https://localhost:8080/"
        },
        "id": "kxhHS9GOzH01",
        "outputId": "aaff70cc-6001-47af-b0c9-eb82ff3ae699"
      },
      "execution_count": 19,
      "outputs": [
        {
          "output_type": "execute_result",
          "data": {
            "text/plain": [
              "(442, 10)"
            ]
          },
          "metadata": {},
          "execution_count": 19
        }
      ]
    },
    {
      "cell_type": "code",
      "source": [
        "# check the length (it's a vector)\n",
        "len(diabetes_y)"
      ],
      "metadata": {
        "colab": {
          "base_uri": "https://localhost:8080/"
        },
        "id": "1nXdT1L11z-1",
        "outputId": "73c38e62-992a-4ec8-b287-bfd4451635ae"
      },
      "execution_count": 20,
      "outputs": [
        {
          "output_type": "execute_result",
          "data": {
            "text/plain": [
              "442"
            ]
          },
          "metadata": {},
          "execution_count": 20
        }
      ]
    },
    {
      "cell_type": "code",
      "source": [
        "# Use only one feature\n",
        "diabetes_x = diabetes_x[:, np.newaxis, 2]\n",
        "diabetes_x.shape"
      ],
      "metadata": {
        "colab": {
          "base_uri": "https://localhost:8080/"
        },
        "id": "TQlVNfM5PyjJ",
        "outputId": "6e5817d0-3546-4933-a6cb-a3a035c7e2fb"
      },
      "execution_count": 21,
      "outputs": [
        {
          "output_type": "execute_result",
          "data": {
            "text/plain": [
              "(442, 1)"
            ]
          },
          "metadata": {},
          "execution_count": 21
        }
      ]
    },
    {
      "cell_type": "code",
      "source": [
        "# plit x to get x_train and chose 8 columns \n",
        "diabetes_x_train = diabetes_x[:-20] # leave out 20 last rows\n",
        "print(diabetes_x_train.shape)\n",
        "\n",
        "# get x_test and coose 8 columns\n",
        "diabetes_x_test = diabetes_x[-20:] # take only last 20 rows\n",
        "print(diabetes_x_test.shape)"
      ],
      "metadata": {
        "colab": {
          "base_uri": "https://localhost:8080/"
        },
        "id": "hU58TVzS_y6c",
        "outputId": "3bfa8701-bc1a-47ef-d4ee-75e5126330bc"
      },
      "execution_count": 22,
      "outputs": [
        {
          "output_type": "stream",
          "name": "stdout",
          "text": [
            "(422, 1)\n",
            "(20, 1)\n"
          ]
        }
      ]
    },
    {
      "cell_type": "code",
      "source": [
        "# split y to get y_train\n",
        "diabetes_y_train = diabetes_y[:-20] # leave out 20 last rows\n",
        "print(len(diabetes_y_train))\n",
        "# get y_test\n",
        "diabetes_y_test = diabetes_y[-20:] # take only last 20 rows\n",
        "print(len(diabetes_y_test))"
      ],
      "metadata": {
        "colab": {
          "base_uri": "https://localhost:8080/"
        },
        "id": "SzMNIR7IApyS",
        "outputId": "b3ab7dfa-38b1-405f-c15a-2a57461b9282"
      },
      "execution_count": 23,
      "outputs": [
        {
          "output_type": "stream",
          "name": "stdout",
          "text": [
            "422\n",
            "20\n"
          ]
        }
      ]
    },
    {
      "cell_type": "code",
      "source": [
        "# instanciate the model\n",
        "lin_reg = linear_model.LinearRegression()\n",
        "\n",
        "# train\n",
        "lin_reg.fit(diabetes_x_train, diabetes_y_train)"
      ],
      "metadata": {
        "colab": {
          "base_uri": "https://localhost:8080/"
        },
        "id": "n31JZViBA-mX",
        "outputId": "16e0c72c-1556-4a0c-8f1a-4aae40db33eb"
      },
      "execution_count": 24,
      "outputs": [
        {
          "output_type": "execute_result",
          "data": {
            "text/plain": [
              "LinearRegression()"
            ]
          },
          "metadata": {},
          "execution_count": 24
        }
      ]
    },
    {
      "cell_type": "code",
      "source": [
        "# predict on x_test\n",
        "y_pred = lin_reg.predict(diabetes_x_test)"
      ],
      "metadata": {
        "id": "pNW6UZuLCawZ"
      },
      "execution_count": 25,
      "outputs": []
    },
    {
      "cell_type": "code",
      "source": [
        "# get mean square error\n",
        "print(f\"The mean square error of the model mse= {mean_squared_error(diabetes_y_test, y_pred)}\")"
      ],
      "metadata": {
        "colab": {
          "base_uri": "https://localhost:8080/"
        },
        "id": "PMcciuLSCa_P",
        "outputId": "2145ea78-cfac-4c7d-924c-e93b08cb0433"
      },
      "execution_count": 26,
      "outputs": [
        {
          "output_type": "stream",
          "name": "stdout",
          "text": [
            "The mean square error of the model mse= 2548.0723987259694\n"
          ]
        }
      ]
    },
    {
      "cell_type": "code",
      "source": [
        "# get coef de determinattion r2_score\n",
        "print(f\"The coefficient of determination r2_score = {r2_score(diabetes_y_test, y_pred)}\")"
      ],
      "metadata": {
        "colab": {
          "base_uri": "https://localhost:8080/"
        },
        "id": "AmzMrJVvCukB",
        "outputId": "1714c0ac-7074-4400-8ad7-bad71282d865"
      },
      "execution_count": 27,
      "outputs": [
        {
          "output_type": "stream",
          "name": "stdout",
          "text": [
            "The coefficient of determination r2_score = 0.47257544798227147\n"
          ]
        }
      ]
    },
    {
      "cell_type": "code",
      "source": [
        "# get the intercep = b0\n",
        "lin_reg.intercept_"
      ],
      "metadata": {
        "colab": {
          "base_uri": "https://localhost:8080/"
        },
        "id": "oWa9OLBhCuoB",
        "outputId": "d108c045-298f-4116-8539-e5cf51cdb149"
      },
      "execution_count": 28,
      "outputs": [
        {
          "output_type": "execute_result",
          "data": {
            "text/plain": [
              "152.91886182616167"
            ]
          },
          "metadata": {},
          "execution_count": 28
        }
      ]
    },
    {
      "cell_type": "code",
      "source": [
        "# get coefficientc (b1, ...., b4)\n",
        "lin_reg.coef_"
      ],
      "metadata": {
        "colab": {
          "base_uri": "https://localhost:8080/"
        },
        "id": "2G2J2cptCutC",
        "outputId": "1452c4f1-45d9-4407-cd90-9103e6cf402f"
      },
      "execution_count": 29,
      "outputs": [
        {
          "output_type": "execute_result",
          "data": {
            "text/plain": [
              "array([938.23786125])"
            ]
          },
          "metadata": {},
          "execution_count": 29
        }
      ]
    },
    {
      "cell_type": "code",
      "source": [
        "plt.scatter(diabetes_x_test, diabetes_y_test, color=\"red\")\n",
        "plt.plot(diabetes_x_test, y_pred, color=\"blue\", linewidth=3)\n",
        "plt.xlabel(\"x-test diabetes\")\n",
        "plt.ylabel(\"y-test targets\")\n",
        "plt.show()"
      ],
      "metadata": {
        "colab": {
          "base_uri": "https://localhost:8080/",
          "height": 279
        },
        "id": "5TAk_oKmLGnx",
        "outputId": "bc1f6a4d-bd71-4d71-9e55-1b887b7c24cc"
      },
      "execution_count": 37,
      "outputs": [
        {
          "output_type": "display_data",
          "data": {
            "text/plain": [
              "<Figure size 432x288 with 1 Axes>"
            ],
            "image/png": "[encoded data removed]"
          },
          "metadata": {
            "needs_background": "light"
          }
        }
      ]
    },
    {
      "cell_type": "code",
      "source": [
        "# slicing stategy used above explaned here\n",
        "a = [2, 1, 0, 5] # list or array-list\n",
        "print(f'Get all except the last 2 : {a[:-2]}') # get all except last :-n here n=2\n",
        "print(f'Get only the last item : {a[-1]}')  # get the last item of list or array-list"
      ],
      "metadata": {
        "colab": {
          "base_uri": "https://localhost:8080/"
        },
        "id": "uuyrDQppzpF2",
        "outputId": "7bdfe863-1af2-4b5c-90da-10458d193b60"
      },
      "execution_count": 31,
      "outputs": [
        {
          "output_type": "stream",
          "name": "stdout",
          "text": [
            "Get all except the last 2 : [2, 1]\n",
            "Get only the last item : 5\n"
          ]
        }
      ]
    },
    {
      "cell_type": "code",
      "source": [
        "#from sklearn.datasets import fetch_openml\n",
        "#mnist = fetch_openml('mnist_784', version=1, cache=True)\n",
        "#mnist.data.shape # or mnist['data'].shape"
      ],
      "metadata": {
        "id": "0GCmt7GUKq-Z"
      },
      "execution_count": 32,
      "outputs": []
    }
  ]
}