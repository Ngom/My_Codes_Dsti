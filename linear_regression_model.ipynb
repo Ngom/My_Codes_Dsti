{
  "nbformat": 4,
  "nbformat_minor": 0,
  "metadata": {
    "colab": {
      "name": "linear_regression_model.ipynb",
      "provenance": [],
      "collapsed_sections": [],
      "authorship_tag": "ABX9TyM/PlO3ao7gaIBLMj1174qT",
      "include_colab_link": true
    },
    "kernelspec": {
      "name": "python3",
      "display_name": "Python 3"
    },
    "language_info": {
      "name": "python"
    }
  },
  "cells": [
    {
      "cell_type": "markdown",
      "metadata": {
        "id": "view-in-github",
        "colab_type": "text"
      },
      "source": [
        "<a href=\"https://colab.research.google.com/github/engom/My_Codes_Dsti/blob/main/linear_regression_model.ipynb\" target=\"_parent\"><img src=\"https://colab.research.google.com/assets/colab-badge.svg\" alt=\"Open In Colab\"/></a>"
      ]
    },
    {
      "cell_type": "markdown",
      "source": [
        "# Part A: Build a linear model"
      ],
      "metadata": {
        "id": "wHsIeZWRaQsn"
      }
    },
    {
      "cell_type": "code",
      "execution_count": 19,
      "metadata": {
        "id": "nvVN54a8x6jB"
      },
      "outputs": [],
      "source": [
        "import matplotlib.pyplot as plt\n",
        "import numpy as np\n",
        "from sklearn import datasets, linear_model\n",
        "from sklearn.metrics import mean_squared_error, r2_score"
      ]
    },
    {
      "cell_type": "code",
      "source": [
        "# load the whole diabetes dataset and separate x and y\n",
        "diabetes_x, diabetes_y = datasets.load_diabetes(return_X_y=True)\n",
        "# check the shape \n",
        "diabetes_x.shape"
      ],
      "metadata": {
        "colab": {
          "base_uri": "https://localhost:8080/"
        },
        "id": "kxhHS9GOzH01",
        "outputId": "e30f504f-b4ce-48c6-9488-d610020198c9"
      },
      "execution_count": 20,
      "outputs": [
        {
          "output_type": "execute_result",
          "data": {
            "text/plain": [
              "(442, 10)"
            ]
          },
          "metadata": {},
          "execution_count": 20
        }
      ]
    },
    {
      "cell_type": "code",
      "source": [
        "# check the length (it's a vector)\n",
        "len(diabetes_y)"
      ],
      "metadata": {
        "colab": {
          "base_uri": "https://localhost:8080/"
        },
        "id": "1nXdT1L11z-1",
        "outputId": "357b63dd-3786-4797-da86-b9bad02cb198"
      },
      "execution_count": 21,
      "outputs": [
        {
          "output_type": "execute_result",
          "data": {
            "text/plain": [
              "442"
            ]
          },
          "metadata": {},
          "execution_count": 21
        }
      ]
    },
    {
      "cell_type": "code",
      "source": [
        "# Use only one feature\n",
        "diabetes_x = diabetes_x[:, np.newaxis, 2]\n",
        "diabetes_x.shape"
      ],
      "metadata": {
        "colab": {
          "base_uri": "https://localhost:8080/"
        },
        "id": "TQlVNfM5PyjJ",
        "outputId": "66955c1b-e5ac-477e-ae28-eadb2bd0564c"
      },
      "execution_count": 22,
      "outputs": [
        {
          "output_type": "execute_result",
          "data": {
            "text/plain": [
              "(442, 1)"
            ]
          },
          "metadata": {},
          "execution_count": 22
        }
      ]
    },
    {
      "cell_type": "code",
      "source": [
        "# plit x to get x_train and chose 8 columns \n",
        "diabetes_x_train = diabetes_x[:-20] # leave out 20 last rows\n",
        "print(diabetes_x_train.shape)\n",
        "\n",
        "# get x_test and coose 8 columns\n",
        "diabetes_x_test = diabetes_x[-20:] # take only last 20 rows\n",
        "print(diabetes_x_test.shape)"
      ],
      "metadata": {
        "colab": {
          "base_uri": "https://localhost:8080/"
        },
        "id": "hU58TVzS_y6c",
        "outputId": "931af4aa-8ed3-4c7f-891e-0819127a4da0"
      },
      "execution_count": 23,
      "outputs": [
        {
          "output_type": "stream",
          "name": "stdout",
          "text": [
            "(422, 1)\n",
            "(20, 1)\n"
          ]
        }
      ]
    },
    {
      "cell_type": "code",
      "source": [
        "# split y to get y_train\n",
        "diabetes_y_train = diabetes_y[:-20] # leave out 20 last rows\n",
        "print(len(diabetes_y_train))\n",
        "# get y_test\n",
        "diabetes_y_test = diabetes_y[-20:] # take only last 20 rows\n",
        "print(len(diabetes_y_test))"
      ],
      "metadata": {
        "colab": {
          "base_uri": "https://localhost:8080/"
        },
        "id": "SzMNIR7IApyS",
        "outputId": "65f9a4f9-9690-4b4d-e9df-01cca8a432f6"
      },
      "execution_count": 24,
      "outputs": [
        {
          "output_type": "stream",
          "name": "stdout",
          "text": [
            "422\n",
            "20\n"
          ]
        }
      ]
    },
    {
      "cell_type": "code",
      "source": [
        "# instanciate the model\n",
        "lin_reg = linear_model.LinearRegression()\n",
        "\n",
        "# train\n",
        "lin_reg.fit(diabetes_x_train, diabetes_y_train)"
      ],
      "metadata": {
        "colab": {
          "base_uri": "https://localhost:8080/"
        },
        "id": "n31JZViBA-mX",
        "outputId": "6e5d530e-a820-40ee-bde2-a2fa945036f4"
      },
      "execution_count": 25,
      "outputs": [
        {
          "output_type": "execute_result",
          "data": {
            "text/plain": [
              "LinearRegression()"
            ]
          },
          "metadata": {},
          "execution_count": 25
        }
      ]
    },
    {
      "cell_type": "code",
      "source": [
        "# predict on x_test\n",
        "y_pred = lin_reg.predict(diabetes_x_test)"
      ],
      "metadata": {
        "id": "pNW6UZuLCawZ"
      },
      "execution_count": 26,
      "outputs": []
    },
    {
      "cell_type": "code",
      "source": [
        "# get mean square error\n",
        "print(f\"The rooted mean square error of the model mse= {np.sqrt(mean_squared_error(diabetes_y_test, y_pred))}\")"
      ],
      "metadata": {
        "colab": {
          "base_uri": "https://localhost:8080/"
        },
        "id": "PMcciuLSCa_P",
        "outputId": "fca3a5aa-0101-4e06-c431-87e500958309"
      },
      "execution_count": 27,
      "outputs": [
        {
          "output_type": "stream",
          "name": "stdout",
          "text": [
            "The rooted mean square error of the model mse= 50.478434986892864\n"
          ]
        }
      ]
    },
    {
      "cell_type": "code",
      "source": [
        "# get coef de determinattion r2_score\n",
        "print(f\"The coefficient of determination r2_score = {r2_score(diabetes_y_test, y_pred)}\")"
      ],
      "metadata": {
        "colab": {
          "base_uri": "https://localhost:8080/"
        },
        "id": "AmzMrJVvCukB",
        "outputId": "0ee1f261-291a-4aa2-e91f-ea8d6b905044"
      },
      "execution_count": 28,
      "outputs": [
        {
          "output_type": "stream",
          "name": "stdout",
          "text": [
            "The coefficient of determination r2_score = 0.47257544798227147\n"
          ]
        }
      ]
    },
    {
      "cell_type": "code",
      "source": [
        "# get the intercep = b0\n",
        "lin_reg.intercept_"
      ],
      "metadata": {
        "colab": {
          "base_uri": "https://localhost:8080/"
        },
        "id": "oWa9OLBhCuoB",
        "outputId": "35348cb4-3ac3-44f0-b073-aa6e0e219f67"
      },
      "execution_count": 29,
      "outputs": [
        {
          "output_type": "execute_result",
          "data": {
            "text/plain": [
              "152.91886182616167"
            ]
          },
          "metadata": {},
          "execution_count": 29
        }
      ]
    },
    {
      "cell_type": "code",
      "source": [
        "# get coefficientc (b1, ...., b4)\n",
        "lin_reg.coef_"
      ],
      "metadata": {
        "colab": {
          "base_uri": "https://localhost:8080/"
        },
        "id": "2G2J2cptCutC",
        "outputId": "e77d0da6-1e2c-45fc-84ca-afeadb7e5a87"
      },
      "execution_count": 30,
      "outputs": [
        {
          "output_type": "execute_result",
          "data": {
            "text/plain": [
              "array([938.23786125])"
            ]
          },
          "metadata": {},
          "execution_count": 30
        }
      ]
    },
    {
      "cell_type": "code",
      "source": [
        "plt.scatter(diabetes_x_test, diabetes_y_test, color=\"red\")\n",
        "plt.plot(diabetes_x_test, y_pred, color=\"blue\", linewidth=3)\n",
        "plt.xlabel(\"x-test diabetes\")\n",
        "plt.ylabel(\"y-test targets\")\n",
        "plt.show()"
      ],
      "metadata": {
        "colab": {
          "base_uri": "https://localhost:8080/",
          "height": 279
        },
        "id": "5TAk_oKmLGnx",
        "outputId": "6a1459ff-1595-47a5-bf02-184e5a70187a"
      },
      "execution_count": 31,
      "outputs": [
        {
          "output_type": "display_data",
          "data": {
            "text/plain": [
              "<Figure size 432x288 with 1 Axes>"
            ],
            "image/png": "[encoded data removed]"
          },
          "metadata": {
            "needs_background": "light"
          }
        }
      ]
    },
    {
      "cell_type": "code",
      "source": [
        "# slicing stategy used above explaned here\n",
        "a = [2, 1, 0, 5] # list or array-list\n",
        "print(f'Get all except the last 2 : {a[:-2]}') # get all except last :-n here n=2\n",
        "print(f'Get only the last item : {a[-1]}')  # get the last item of list or array-list"
      ],
      "metadata": {
        "colab": {
          "base_uri": "https://localhost:8080/"
        },
        "id": "uuyrDQppzpF2",
        "outputId": "e1fa72c1-f21a-4868-9774-3da4e07bd4a8"
      },
      "execution_count": 32,
      "outputs": [
        {
          "output_type": "stream",
          "name": "stdout",
          "text": [
            "Get all except the last 2 : [2, 1]\n",
            "Get only the last item : 5\n"
          ]
        }
      ]
    },
    {
      "cell_type": "code",
      "source": [
        "#from sklearn.datasets import fetch_openml\n",
        "#mnist = fetch_openml('mnist_784', version=1, cache=True)\n",
        "#mnist.data.shape # or mnist['data'].shape"
      ],
      "metadata": {
        "id": "0GCmt7GUKq-Z"
      },
      "execution_count": 33,
      "outputs": []
    },
    {
      "cell_type": "markdown",
      "source": [
        "# Part B: MLFLOW to experiment the number of features used in the model"
      ],
      "metadata": {
        "id": "Dtxk23RtGCtw"
      }
    },
    {
      "cell_type": "code",
      "source": [
        "!pip install mlflow"
      ],
      "metadata": {
        "id": "MEduK6AVGO9H",
        "outputId": "4997013a-3426-4373-94fb-ec65bc731263",
        "colab": {
          "base_uri": "https://localhost:8080/"
        }
      },
      "execution_count": 34,
      "outputs": [
        {
          "output_type": "stream",
          "name": "stdout",
          "text": [
            "Collecting mlflow\n",
            "  Downloading mlflow-1.24.0-py3-none-any.whl (16.5 MB)\n",
            "\u001b[K     |████████████████████████████████| 16.5 MB 238 kB/s \n",
            "\u001b[?25hRequirement already satisfied: click>=7.0 in /usr/local/lib/python3.7/dist-packages (from mlflow) (7.1.2)\n",
            "Requirement already satisfied: cloudpickle in /usr/local/lib/python3.7/dist-packages (from mlflow) (1.3.0)\n",
            "Collecting gunicorn\n",
            "  Downloading gunicorn-20.1.0-py3-none-any.whl (79 kB)\n",
            "\u001b[K     |████████████████████████████████| 79 kB 7.2 MB/s \n",
            "\u001b[?25hRequirement already satisfied: protobuf>=3.7.0 in /usr/local/lib/python3.7/dist-packages (from mlflow) (3.17.3)\n",
            "Collecting pyyaml>=5.1\n",
            "  Downloading PyYAML-6.0-cp37-cp37m-manylinux_2_5_x86_64.manylinux1_x86_64.manylinux_2_12_x86_64.manylinux2010_x86_64.whl (596 kB)\n",
            "\u001b[K     |████████████████████████████████| 596 kB 48.1 MB/s \n",
            "\u001b[?25hRequirement already satisfied: requests>=2.17.3 in /usr/local/lib/python3.7/dist-packages (from mlflow) (2.23.0)\n",
            "Requirement already satisfied: entrypoints in /usr/local/lib/python3.7/dist-packages (from mlflow) (0.4)\n",
            "Requirement already satisfied: importlib-metadata!=4.7.0,>=3.7.0 in /usr/local/lib/python3.7/dist-packages (from mlflow) (4.11.3)\n",
            "Collecting prometheus-flask-exporter\n",
            "  Downloading prometheus_flask_exporter-0.19.0-py3-none-any.whl (18 kB)\n",
            "Collecting gitpython>=2.1.0\n",
            "  Downloading GitPython-3.1.27-py3-none-any.whl (181 kB)\n",
            "\u001b[K     |████████████████████████████████| 181 kB 41.0 MB/s \n",
            "\u001b[?25hCollecting docker>=4.0.0\n",
            "  Downloading docker-5.0.3-py2.py3-none-any.whl (146 kB)\n",
            "\u001b[K     |████████████████████████████████| 146 kB 45.1 MB/s \n",
            "\u001b[?25hRequirement already satisfied: pandas in /usr/local/lib/python3.7/dist-packages (from mlflow) (1.3.5)\n",
            "Collecting databricks-cli>=0.8.7\n",
            "  Downloading databricks-cli-0.16.4.tar.gz (58 kB)\n",
            "\u001b[K     |████████████████████████████████| 58 kB 5.1 MB/s \n",
            "\u001b[?25hRequirement already satisfied: sqlalchemy in /usr/local/lib/python3.7/dist-packages (from mlflow) (1.4.32)\n",
            "Requirement already satisfied: scipy in /usr/local/lib/python3.7/dist-packages (from mlflow) (1.4.1)\n",
            "Collecting alembic\n",
            "  Downloading alembic-1.7.7-py3-none-any.whl (210 kB)\n",
            "\u001b[K     |████████████████████████████████| 210 kB 44.8 MB/s \n",
            "\u001b[?25hRequirement already satisfied: pytz in /usr/local/lib/python3.7/dist-packages (from mlflow) (2018.9)\n",
            "Requirement already satisfied: Flask in /usr/local/lib/python3.7/dist-packages (from mlflow) (1.1.4)\n",
            "Requirement already satisfied: numpy in /usr/local/lib/python3.7/dist-packages (from mlflow) (1.21.5)\n",
            "Requirement already satisfied: sqlparse>=0.3.1 in /usr/local/lib/python3.7/dist-packages (from mlflow) (0.4.2)\n",
            "Requirement already satisfied: packaging in /usr/local/lib/python3.7/dist-packages (from mlflow) (21.3)\n",
            "Collecting querystring-parser\n",
            "  Downloading querystring_parser-1.2.4-py2.py3-none-any.whl (7.9 kB)\n",
            "Requirement already satisfied: tabulate>=0.7.7 in /usr/local/lib/python3.7/dist-packages (from databricks-cli>=0.8.7->mlflow) (0.8.9)\n",
            "Requirement already satisfied: six>=1.10.0 in /usr/local/lib/python3.7/dist-packages (from databricks-cli>=0.8.7->mlflow) (1.15.0)\n",
            "Collecting websocket-client>=0.32.0\n",
            "  Downloading websocket_client-1.3.1-py3-none-any.whl (54 kB)\n",
            "\u001b[K     |████████████████████████████████| 54 kB 2.0 MB/s \n",
            "\u001b[?25hRequirement already satisfied: typing-extensions>=3.7.4.3 in /usr/local/lib/python3.7/dist-packages (from gitpython>=2.1.0->mlflow) (3.10.0.2)\n",
            "Collecting gitdb<5,>=4.0.1\n",
            "  Downloading gitdb-4.0.9-py3-none-any.whl (63 kB)\n",
            "\u001b[K     |████████████████████████████████| 63 kB 1.4 MB/s \n",
            "\u001b[?25hCollecting smmap<6,>=3.0.1\n",
            "  Downloading smmap-5.0.0-py3-none-any.whl (24 kB)\n",
            "Requirement already satisfied: zipp>=0.5 in /usr/local/lib/python3.7/dist-packages (from importlib-metadata!=4.7.0,>=3.7.0->mlflow) (3.7.0)\n",
            "Requirement already satisfied: certifi>=2017.4.17 in /usr/local/lib/python3.7/dist-packages (from requests>=2.17.3->mlflow) (2021.10.8)\n",
            "Requirement already satisfied: chardet<4,>=3.0.2 in /usr/local/lib/python3.7/dist-packages (from requests>=2.17.3->mlflow) (3.0.4)\n",
            "Requirement already satisfied: idna<3,>=2.5 in /usr/local/lib/python3.7/dist-packages (from requests>=2.17.3->mlflow) (2.10)\n",
            "Requirement already satisfied: urllib3!=1.25.0,!=1.25.1,<1.26,>=1.21.1 in /usr/local/lib/python3.7/dist-packages (from requests>=2.17.3->mlflow) (1.24.3)\n",
            "Requirement already satisfied: importlib-resources in /usr/local/lib/python3.7/dist-packages (from alembic->mlflow) (5.4.0)\n",
            "Collecting Mako\n",
            "  Downloading Mako-1.2.0-py3-none-any.whl (78 kB)\n",
            "\u001b[K     |████████████████████████████████| 78 kB 6.3 MB/s \n",
            "\u001b[?25hRequirement already satisfied: greenlet!=0.4.17 in /usr/local/lib/python3.7/dist-packages (from sqlalchemy->mlflow) (1.1.2)\n",
            "Requirement already satisfied: Werkzeug<2.0,>=0.15 in /usr/local/lib/python3.7/dist-packages (from Flask->mlflow) (1.0.1)\n",
            "Requirement already satisfied: itsdangerous<2.0,>=0.24 in /usr/local/lib/python3.7/dist-packages (from Flask->mlflow) (1.1.0)\n",
            "Requirement already satisfied: Jinja2<3.0,>=2.10.1 in /usr/local/lib/python3.7/dist-packages (from Flask->mlflow) (2.11.3)\n",
            "Requirement already satisfied: MarkupSafe>=0.23 in /usr/local/lib/python3.7/dist-packages (from Jinja2<3.0,>=2.10.1->Flask->mlflow) (2.0.1)\n",
            "Requirement already satisfied: setuptools>=3.0 in /usr/local/lib/python3.7/dist-packages (from gunicorn->mlflow) (57.4.0)\n",
            "Requirement already satisfied: pyparsing!=3.0.5,>=2.0.2 in /usr/local/lib/python3.7/dist-packages (from packaging->mlflow) (3.0.7)\n",
            "Requirement already satisfied: python-dateutil>=2.7.3 in /usr/local/lib/python3.7/dist-packages (from pandas->mlflow) (2.8.2)\n",
            "Requirement already satisfied: prometheus-client in /usr/local/lib/python3.7/dist-packages (from prometheus-flask-exporter->mlflow) (0.13.1)\n",
            "Building wheels for collected packages: databricks-cli\n",
            "  Building wheel for databricks-cli (setup.py) ... \u001b[?25l\u001b[?25hdone\n",
            "  Created wheel for databricks-cli: filename=databricks_cli-0.16.4-py3-none-any.whl size=106877 sha256=fe23384ac8dbe0b6c6f13293d670cce583bbe63527f08f529f8cde3d51fe5f60\n",
            "  Stored in directory: /root/.cache/pip/wheels/a2/a1/6d/fa1d22ea25ed8593887437fe1c7e00f6ef307fc240ccd4dc5c\n",
            "Successfully built databricks-cli\n",
            "Installing collected packages: smmap, websocket-client, Mako, gitdb, querystring-parser, pyyaml, prometheus-flask-exporter, gunicorn, gitpython, docker, databricks-cli, alembic, mlflow\n",
            "  Attempting uninstall: pyyaml\n",
            "    Found existing installation: PyYAML 3.13\n",
            "    Uninstalling PyYAML-3.13:\n",
            "      Successfully uninstalled PyYAML-3.13\n",
            "Successfully installed Mako-1.2.0 alembic-1.7.7 databricks-cli-0.16.4 docker-5.0.3 gitdb-4.0.9 gitpython-3.1.27 gunicorn-20.1.0 mlflow-1.24.0 prometheus-flask-exporter-0.19.0 pyyaml-6.0 querystring-parser-1.2.4 smmap-5.0.0 websocket-client-1.3.1\n"
          ]
        }
      ]
    },
    {
      "cell_type": "code",
      "source": [
        "import mlflow\n",
        "import logging\n",
        "import warnings\n",
        "#import pandas as pd\n",
        "from sklearn.linear_model import LinearRegression\n",
        "from sklearn.model_selection import train_test_split\n",
        "from sklearn.metrics import mean_squared_error, mean_absolute_error, r2_score"
      ],
      "metadata": {
        "id": "DxEcwhg4HLbR"
      },
      "execution_count": 35,
      "outputs": []
    },
    {
      "cell_type": "code",
      "source": [
        "def run_train(n=5, test_size=0.2):\n",
        "  # Added experiment name\n",
        "  mlflow.set_experiment('experiment_lin_reg')\n",
        "\n",
        "  logging.basicConfig(level=logging.WARN)\n",
        "  logger = logging.getLogger(__name__)\n",
        "\n",
        "  def eval_metrics(actual, pred):\n",
        "    rmse = np.sqrt(mean_squared_error(actual, pred))\n",
        "    mae = mean_absolute_error(actual, pred)\n",
        "    r2 = r2_score(actual, pred)\n",
        "    return rmse, mae, r2\n",
        "\n",
        "  #warnings.filterwarnings(\"ignore\")\n",
        "  np.random.seed(50)\n",
        "\n",
        "  # load the whole diabetes dataset and separate x and y\n",
        "  diabetes_x, diabetes_y = datasets.load_diabetes(return_X_y=True)\n",
        "\n",
        "  # Use only one feature by default or the n first colums as x_data\n",
        "  if n == None:\n",
        "    diabetes_x = diabetes_x[:, np.newaxis, 2]\n",
        "    n = 1\n",
        "  else:\n",
        "    diabetes_x = diabetes_x[:, 0:n]\n",
        "\n",
        "  # plit train test \n",
        "  x_train, x_test, y_train, y_test = train_test_split(diabetes_x, diabetes_y, test_size=test_size)\n",
        "\n",
        "  # Useful for multiple runs (only doing one run in this sample notebook)    \n",
        "  with mlflow.start_run():\n",
        "    # instanciate the linear model\n",
        "    lin_reg = LinearRegression()\n",
        "\n",
        "    # train it \n",
        "    lin_reg.fit(x_train, y_train)\n",
        "\n",
        "    # predict \n",
        "    y_pred = lin_reg.predict(x_test)\n",
        "    # Evaluate Metrics\n",
        "    (rmse, mae, r2) = eval_metrics(y_test, y_pred)\n",
        "\n",
        "    # Print out metrics\n",
        "    print(\"Linear model with %d column(s) in the data\" % (n))\n",
        "    print('')\n",
        "    print(\"  RMSE: %s\" % rmse)\n",
        "    print('')\n",
        "    print(\"  MAE: %s\" % mae)\n",
        "    print('')\n",
        "    print(\"  R2: %s\" % r2)\n",
        "   \n",
        "    # Log parameter, metrics\n",
        "    mlflow.log_param(\"number of colums used\", n)\n",
        "    mlflow.log_param(\"test_size\", test_size)\n",
        "    mlflow.log_metric(\"rmse\", rmse)\n",
        "    mlflow.log_metric(\"r2\", r2)\n",
        "    mlflow.log_metric(\"mae\", mae)\n",
        "    #  and model to MLflow\n",
        "    mlflow.sklearn.log_model(lin_reg, \"model\")\n",
        "  "
      ],
      "metadata": {
        "id": "mPIFAE_1IK2W"
      },
      "execution_count": 36,
      "outputs": []
    },
    {
      "cell_type": "code",
      "source": [
        "# param: n number of features and test_size ratio\n",
        "run_train(n=9, test_size=np.round(20/422, 2))"
      ],
      "metadata": {
        "colab": {
          "base_uri": "https://localhost:8080/"
        },
        "id": "W0YUa4LgKQPg",
        "outputId": "fc10e31d-9489-496e-d1a9-09979785caa0"
      },
      "execution_count": 37,
      "outputs": [
        {
          "output_type": "stream",
          "name": "stderr",
          "text": [
            "2022/03/26 18:43:31 INFO mlflow.tracking.fluent: Experiment with name 'experiment_lin_reg' does not exist. Creating a new experiment.\n"
          ]
        },
        {
          "output_type": "stream",
          "name": "stdout",
          "text": [
            "Linear model with 9 column(s) in the data\n",
            "\n",
            "  RMSE: 35.2038708960983\n",
            "\n",
            "  MAE: 29.791527756066845\n",
            "\n",
            "  R2: 0.6404909846464311\n"
          ]
        }
      ]
    },
    {
      "cell_type": "code",
      "source": [
        "# add one column at each run\n",
        "for n in range(1,10):\n",
        "  run_train(n, test_size=np.round(22/422, 2))"
      ],
      "metadata": {
        "id": "m1gX7nl1h3WC",
        "outputId": "f35d23a2-aec0-4026-9ec0-f0b4f39eacae",
        "colab": {
          "base_uri": "https://localhost:8080/"
        }
      },
      "execution_count": 39,
      "outputs": [
        {
          "output_type": "stream",
          "name": "stdout",
          "text": [
            "Linear model with 1 column(s) in the data\n",
            "\n",
            "  RMSE: 69.48574118942092\n",
            "\n",
            "  MAE: 62.847275545095975\n",
            "\n",
            "  R2: -0.4006200375042206\n",
            "Linear model with 2 column(s) in the data\n",
            "\n",
            "  RMSE: 69.44494643449833\n",
            "\n",
            "  MAE: 62.836884278981664\n",
            "\n",
            "  R2: -0.39897592527401615\n",
            "Linear model with 3 column(s) in the data\n",
            "\n",
            "  RMSE: 46.85821600433537\n",
            "\n",
            "  MAE: 37.948508418135354\n",
            "\n",
            "  R2: 0.36305717993283826\n",
            "Linear model with 4 column(s) in the data\n",
            "\n",
            "  RMSE: 42.50632006600793\n",
            "\n",
            "  MAE: 36.897949801646796\n",
            "\n",
            "  R2: 0.4758736880819473\n",
            "Linear model with 5 column(s) in the data\n",
            "\n",
            "  RMSE: 42.995523907169805\n",
            "\n",
            "  MAE: 37.64911308057658\n",
            "\n",
            "  R2: 0.46373995922789923\n",
            "Linear model with 6 column(s) in the data\n",
            "\n",
            "  RMSE: 43.5481972229633\n",
            "\n",
            "  MAE: 37.77809376864048\n",
            "\n",
            "  R2: 0.44986495872708754\n",
            "Linear model with 7 column(s) in the data\n",
            "\n",
            "  RMSE: 35.942305605176166\n",
            "\n",
            "  MAE: 30.71118989711297\n",
            "\n",
            "  R2: 0.6252507163119084\n",
            "Linear model with 8 column(s) in the data\n",
            "\n",
            "  RMSE: 36.127431936660855\n",
            "\n",
            "  MAE: 31.179574537942006\n",
            "\n",
            "  R2: 0.6213803677251466\n",
            "Linear model with 9 column(s) in the data\n",
            "\n",
            "  RMSE: 35.2038708960983\n",
            "\n",
            "  MAE: 29.791527756066845\n",
            "\n",
            "  R2: 0.6404909846464311\n"
          ]
        }
      ]
    },
    {
      "cell_type": "code",
      "source": [
        "#!mlflow ui"
      ],
      "metadata": {
        "id": "_zSRhOaeScC_"
      },
      "execution_count": 40,
      "outputs": []
    },
    {
      "cell_type": "code",
      "source": [
        "# get x_test of 20 rows as in the first part.\n",
        "np.round(20/422, 2) # test_size in part A"
      ],
      "metadata": {
        "colab": {
          "base_uri": "https://localhost:8080/"
        },
        "id": "zIbDOF2AWeOM",
        "outputId": "e5bc1804-15c5-4f19-9593-a4c0625c789f"
      },
      "execution_count": 41,
      "outputs": [
        {
          "output_type": "execute_result",
          "data": {
            "text/plain": [
              "0.05"
            ]
          },
          "metadata": {},
          "execution_count": 41
        }
      ]
    }
  ]
}