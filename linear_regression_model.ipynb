{
  "nbformat": 4,
  "nbformat_minor": 0,
  "metadata": {
    "colab": {
      "name": "linear_regression_model.ipynb",
      "provenance": [],
      "authorship_tag": "ABX9TyPYmNLx51lkIY9i6oaZ6gSz",
      "include_colab_link": true
    },
    "kernelspec": {
      "name": "python3",
      "display_name": "Python 3"
    },
    "language_info": {
      "name": "python"
    }
  },
  "cells": [
    {
      "cell_type": "markdown",
      "metadata": {
        "id": "view-in-github",
        "colab_type": "text"
      },
      "source": [
        "<a href=\"https://colab.research.google.com/github/engom/My_Codes_Dsti/blob/main/linear_regression_model.ipynb\" target=\"_parent\"><img src=\"https://colab.research.google.com/assets/colab-badge.svg\" alt=\"Open In Colab\"/></a>"
      ]
    },
    {
      "cell_type": "code",
      "execution_count": 73,
      "metadata": {
        "id": "nvVN54a8x6jB"
      },
      "outputs": [],
      "source": [
        "import matplotlib.pyplot as plt\n",
        "import numpy as np\n",
        "from sklearn import datasets, linear_model\n",
        "from sklearn.metrics import mean_squared_error, r2_score"
      ]
    },
    {
      "cell_type": "code",
      "source": [
        "# load the whole diabetes dataset and separate x and y\n",
        "diabetes_x, diabetes_y = datasets.load_diabetes(return_X_y=True)\n",
        "# check the shape \n",
        "diabetes_x.shape"
      ],
      "metadata": {
        "colab": {
          "base_uri": "https://localhost:8080/"
        },
        "id": "kxhHS9GOzH01",
        "outputId": "1059c333-8bf3-4b50-960c-ea61225d8f75"
      },
      "execution_count": 74,
      "outputs": [
        {
          "output_type": "execute_result",
          "data": {
            "text/plain": [
              "(442, 10)"
            ]
          },
          "metadata": {},
          "execution_count": 74
        }
      ]
    },
    {
      "cell_type": "code",
      "source": [
        "# check the length (it's a vector)\n",
        "len(diabetes_y)"
      ],
      "metadata": {
        "colab": {
          "base_uri": "https://localhost:8080/"
        },
        "id": "1nXdT1L11z-1",
        "outputId": "f35de15f-6dbf-4c7f-9dc2-0412d21683b5"
      },
      "execution_count": 75,
      "outputs": [
        {
          "output_type": "execute_result",
          "data": {
            "text/plain": [
              "442"
            ]
          },
          "metadata": {},
          "execution_count": 75
        }
      ]
    },
    {
      "cell_type": "code",
      "source": [
        "# Use only one feature\n",
        "diabetes_x = diabetes_x[:, np.newaxis, 2]\n",
        "diabetes_x.shape"
      ],
      "metadata": {
        "colab": {
          "base_uri": "https://localhost:8080/"
        },
        "id": "TQlVNfM5PyjJ",
        "outputId": "9146e420-f981-45ef-a3d8-e67f3ce2cb7e"
      },
      "execution_count": 76,
      "outputs": [
        {
          "output_type": "execute_result",
          "data": {
            "text/plain": [
              "(442, 1)"
            ]
          },
          "metadata": {},
          "execution_count": 76
        }
      ]
    },
    {
      "cell_type": "code",
      "source": [
        "# plit x to get x_train and chose 8 columns \n",
        "diabetes_x_train = diabetes_x[:-20] # leave out 20 last rows\n",
        "print(diabetes_x_train.shape)\n",
        "\n",
        "# get x_test and coose 8 columns\n",
        "diabetes_x_test = diabetes_x[-20:] # take only last 20 rows\n",
        "print(diabetes_x_test.shape)"
      ],
      "metadata": {
        "colab": {
          "base_uri": "https://localhost:8080/"
        },
        "id": "hU58TVzS_y6c",
        "outputId": "28ed4e59-d891-4f18-a9dd-db7f06cd60d4"
      },
      "execution_count": 77,
      "outputs": [
        {
          "output_type": "stream",
          "name": "stdout",
          "text": [
            "(422, 1)\n",
            "(20, 1)\n"
          ]
        }
      ]
    },
    {
      "cell_type": "code",
      "source": [
        "# split y to get y_train\n",
        "diabetes_y_train = diabetes_y[:-20] # leave out 20 last rows\n",
        "print(len(diabetes_y_train))\n",
        "# get y_test\n",
        "diabetes_y_test = diabetes_y[-20:] # take only last 20 rows\n",
        "print(len(diabetes_y_test))"
      ],
      "metadata": {
        "colab": {
          "base_uri": "https://localhost:8080/"
        },
        "id": "SzMNIR7IApyS",
        "outputId": "4515d28f-fdfa-4be8-f037-6319ff25b4bc"
      },
      "execution_count": 78,
      "outputs": [
        {
          "output_type": "stream",
          "name": "stdout",
          "text": [
            "422\n",
            "20\n"
          ]
        }
      ]
    },
    {
      "cell_type": "code",
      "source": [
        "# instanciate the model\n",
        "lin_reg = linear_model.LinearRegression()\n",
        "\n",
        "# train\n",
        "lin_reg.fit(diabetes_x_train, diabetes_y_train)"
      ],
      "metadata": {
        "colab": {
          "base_uri": "https://localhost:8080/"
        },
        "id": "n31JZViBA-mX",
        "outputId": "fc8f7cd1-9ecf-47cb-d2b3-89f921db6566"
      },
      "execution_count": 79,
      "outputs": [
        {
          "output_type": "execute_result",
          "data": {
            "text/plain": [
              "LinearRegression()"
            ]
          },
          "metadata": {},
          "execution_count": 79
        }
      ]
    },
    {
      "cell_type": "code",
      "source": [
        "# predict on x_test\n",
        "y_pred = lin_reg.predict(diabetes_x_test)"
      ],
      "metadata": {
        "id": "pNW6UZuLCawZ"
      },
      "execution_count": 80,
      "outputs": []
    },
    {
      "cell_type": "code",
      "source": [
        "# get mean square error\n",
        "print(f\"The mean square error of the model mse= {mean_squared_error(diabetes_y_test, y_pred)}\")"
      ],
      "metadata": {
        "colab": {
          "base_uri": "https://localhost:8080/"
        },
        "id": "PMcciuLSCa_P",
        "outputId": "d86edbab-23f9-48b4-cfdf-301d062aa438"
      },
      "execution_count": 81,
      "outputs": [
        {
          "output_type": "stream",
          "name": "stdout",
          "text": [
            "The mean square error of the model mse= 2548.0723987259694\n"
          ]
        }
      ]
    },
    {
      "cell_type": "code",
      "source": [
        "# get coef de determinattion r2_score\n",
        "print(f\"The coefficient of determination r2_score = {r2_score(diabetes_y_test, y_pred)}\")"
      ],
      "metadata": {
        "colab": {
          "base_uri": "https://localhost:8080/"
        },
        "id": "AmzMrJVvCukB",
        "outputId": "798fff18-1311-4dd0-95b7-166e3361e2fa"
      },
      "execution_count": 82,
      "outputs": [
        {
          "output_type": "stream",
          "name": "stdout",
          "text": [
            "The coefficient of determination r2_score = 0.47257544798227147\n"
          ]
        }
      ]
    },
    {
      "cell_type": "code",
      "source": [
        "# get the intercep = b0\n",
        "lin_reg.intercept_"
      ],
      "metadata": {
        "colab": {
          "base_uri": "https://localhost:8080/"
        },
        "id": "oWa9OLBhCuoB",
        "outputId": "de5b8074-dd56-4b5f-b621-419bb6dbd482"
      },
      "execution_count": 83,
      "outputs": [
        {
          "output_type": "execute_result",
          "data": {
            "text/plain": [
              "152.91886182616167"
            ]
          },
          "metadata": {},
          "execution_count": 83
        }
      ]
    },
    {
      "cell_type": "code",
      "source": [
        "# get coefficientc (b1, ...., b4)\n",
        "lin_reg.coef_"
      ],
      "metadata": {
        "colab": {
          "base_uri": "https://localhost:8080/"
        },
        "id": "2G2J2cptCutC",
        "outputId": "23f70811-0df7-4e80-b5ac-0abdacc0de9c"
      },
      "execution_count": 84,
      "outputs": [
        {
          "output_type": "execute_result",
          "data": {
            "text/plain": [
              "array([938.23786125])"
            ]
          },
          "metadata": {},
          "execution_count": 84
        }
      ]
    },
    {
      "cell_type": "code",
      "source": [
        "plt.scatter(diabetes_x_test, diabetes_y_test, color=\"red\")\n",
        "plt.plot(diabetes_x_test, y_pred, linewidth=3)\n",
        "plt.xlabel(\"x - test diabetes\")\n",
        "plt.ylabel(\"y - test values\")\n",
        "plt.show()"
      ],
      "metadata": {
        "colab": {
          "base_uri": "https://localhost:8080/",
          "height": 279
        },
        "id": "5TAk_oKmLGnx",
        "outputId": "af96bcc1-76a0-4df4-b848-ae8e28c467b7"
      },
      "execution_count": 88,
      "outputs": [
        {
          "output_type": "display_data",
          "data": {
            "text/plain": [
              "<Figure size 432x288 with 1 Axes>"
            ],
            "image/png": "[encoded data removed]"
          },
          "metadata": {
            "needs_background": "light"
          }
        }
      ]
    },
    {
      "cell_type": "code",
      "source": [
        "# slicing stategy used above explaned here\n",
        "a = [2, 1, 0, 5] # list or array-list\n",
        "print(f'Get all except the last 2 : {a[:-2]}') # get all except last :-n here n=2\n",
        "print(f'Get only the last item : {a[-1]}')  # get the last item of list or array-list"
      ],
      "metadata": {
        "colab": {
          "base_uri": "https://localhost:8080/"
        },
        "id": "uuyrDQppzpF2",
        "outputId": "2e5c68dd-da9e-44f4-c78f-4fd20efe2862"
      },
      "execution_count": 86,
      "outputs": [
        {
          "output_type": "stream",
          "name": "stdout",
          "text": [
            "Get all except the last 2 : [2, 1]\n",
            "Get only the last item : 5\n"
          ]
        }
      ]
    },
    {
      "cell_type": "code",
      "source": [
        "#from sklearn.datasets import fetch_openml\n",
        "#mnist = fetch_openml('mnist_784', version=1, cache=True)\n",
        "#mnist.data.shape # or mnist['data'].shape"
      ],
      "metadata": {
        "id": "0GCmt7GUKq-Z"
      },
      "execution_count": 87,
      "outputs": []
    }
  ]
}