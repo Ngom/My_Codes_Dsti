{
  "cells": [
    {
      "cell_type": "markdown",
      "metadata": {
        "id": "view-in-github",
        "colab_type": "text"
      },
      "source": [
        "<a href=\"https://colab.research.google.com/github/Ngom/My_Codes_Dsti/blob/main/Images_processing.ipynb\" target=\"_parent\"><img src=\"https://colab.research.google.com/assets/colab-badge.svg\" alt=\"Open In Colab\"/></a>"
      ]
    },
    {
      "cell_type": "markdown",
      "metadata": {
        "id": "nb9ePXpG_OnM"
      },
      "source": [
        "**Image Resizer**"
      ]
    },
    {
      "cell_type": "code",
      "execution_count": 50,
      "metadata": {
        "id": "nSCyms1-_WEP"
      },
      "outputs": [],
      "source": [
        "# import libraries :\n",
        "# - os : for directory and folder paths\n",
        "# - cv2: for images processing\n",
        "# - glob: for files selection by extension\n",
        "# - itertools : to flaten lists, it is used to iterate over data structures that can be stepped over using a for-loop.\n",
        "import os\n",
        "import cv2\n",
        "import glob\n",
        "from itertools import chain\n",
        "import numpy as np"
      ]
    },
    {
      "cell_type": "code",
      "execution_count": 53,
      "metadata": {
        "id": "ESZABOsK_de1"
      },
      "outputs": [],
      "source": [
        "# define the Image data object\n",
        "class Img_dataset():\n",
        "  \"\"\"\n",
        "  This function read images from folder with the given path\n",
        "  Resize the images and generate an image dataset\n",
        "  \"\"\"\n",
        "  # Object attributes\n",
        "  def __init__ (self,folder_name):\n",
        "    # Check if the folder name exist in the taget dairectory\n",
        "    assert os.path.exists(folder_name), f\"The {self.folder_name} does not exists\"\n",
        "    # initiate folder name\n",
        "    self.folder_name = folder_name\n",
        "    # define resize attribute with provides images attribute\n",
        "    self.resize(32)\n",
        "      \n",
        "  # define resizer function with specific extension (png)\n",
        "  def resize(self,image_size):\n",
        "    # get all the images with .png in a list of paths with glob method\n",
        "    self.images = glob.glob(f\"{self.folder_name}/*.jpg\")\n",
        "    # read image with cv2 'imread()' and resize it with cv2 'resize()' using list comprehension way\n",
        "    self.thumbnails = [cv2.resize(cv2.imread(item), (image_size,image_size)) for item in self.images]\n",
        "    \n",
        "  # define resizer with many extensions in a list\n",
        "  def resize_with_extension(self, image_size, extension=[\"png\", \"jpg\", \"jpeg\"]):\n",
        "    # get all images having the extention in the list using fsrting and list comp.\n",
        "    self.images = [glob.glob(f\"{self.folder_name}/*.{ext}\") for ext in extension]\n",
        "    # get the images in list to iterate using chain.from_iterable()\n",
        "    self.images = list(chain.from_iterable(self.images))\n",
        "    # read image with cv2 'imread()' and resize it with cv2 'resize()' using list comprehension way\n",
        "    self.thumbnails = [cv2.resize(cv2.imread(item), (image_size,image_size)) for item in self.images]\n",
        "    return self.thumbnails"
      ]
    },
    {
      "cell_type": "code",
      "execution_count": 38,
      "metadata": {
        "colab": {
          "base_uri": "https://localhost:8080/"
        },
        "id": "2ubgrwfI_1oq",
        "outputId": "32eeef81-49ee-4651-cf73-049a705f0cdd"
      },
      "outputs": [
        {
          "output_type": "stream",
          "name": "stdout",
          "text": [
            "/content\n"
          ]
        }
      ],
      "source": [
        "folder1 = Img_dataset(folder_name=\"/content\")\n",
        "%cd /content/\n",
        "#!wget \"https://img-19.ccm2.net/WNCe54PoGxObY8PCXUxMGQ0Gwss=/480x270/smart/d8c10e7fd21a485c909a5b4c5d99e611/ccmcms-commentcamarche/20456790.jpg\"\n",
        "#!wget \"https://i.stack.imgur.com/ILTQq.png\"\n",
        "#!wget \"https://png.pngtree.com/png-clipart/20190517/original/pngtree-instagram-icon-png-image_3584853.png\""
      ]
    },
    {
      "cell_type": "code",
      "execution_count": 39,
      "metadata": {
        "colab": {
          "base_uri": "https://localhost:8080/"
        },
        "id": "mZTplTI0AATH",
        "outputId": "6c5e5c0f-3efc-45ab-e307-3b0376053432"
      },
      "outputs": [
        {
          "output_type": "execute_result",
          "data": {
            "text/plain": [
              "['/content/2456790.jpg', '/content/20456790.jpg']"
            ]
          },
          "metadata": {},
          "execution_count": 39
        }
      ],
      "source": [
        "folder1.images"
      ]
    },
    {
      "cell_type": "code",
      "execution_count": 48,
      "metadata": {
        "colab": {
          "base_uri": "https://localhost:8080/"
        },
        "id": "_efE_MEsAFuK",
        "outputId": "37b008ec-8b33-4cbb-d832-c267cfc9c163"
      },
      "outputs": [
        {
          "output_type": "execute_result",
          "data": {
            "text/plain": [
              "array([124, 126, 136], dtype=uint8)"
            ]
          },
          "metadata": {},
          "execution_count": 48
        }
      ],
      "source": [
        "folder1.thumbnails[0][3][0]"
      ]
    },
    {
      "cell_type": "code",
      "source": [
        "folder2 = Img_dataset('/content')\n",
        "folder2.images"
      ],
      "metadata": {
        "colab": {
          "base_uri": "https://localhost:8080/"
        },
        "id": "yZ6_EtUafoiO",
        "outputId": "dbceec80-05d5-40b6-8c48-3222ff78e109"
      },
      "execution_count": 41,
      "outputs": [
        {
          "output_type": "execute_result",
          "data": {
            "text/plain": [
              "['/content/2456790.jpg', '/content/20456790.jpg']"
            ]
          },
          "metadata": {},
          "execution_count": 41
        }
      ]
    },
    {
      "cell_type": "code",
      "source": [
        "folder2.thumbnails[0][0][6]"
      ],
      "metadata": {
        "colab": {
          "base_uri": "https://localhost:8080/"
        },
        "id": "K-WQmFtYgsgl",
        "outputId": "5e3335b9-9784-4d07-d2ca-c09ae1d6ae51"
      },
      "execution_count": 49,
      "outputs": [
        {
          "output_type": "execute_result",
          "data": {
            "text/plain": [
              "array([238, 238, 238], dtype=uint8)"
            ]
          },
          "metadata": {},
          "execution_count": 49
        }
      ]
    },
    {
      "cell_type": "code",
      "source": [
        "data = folder2.resize_with_extension(32)\n",
        "data = np.array(data)\n",
        "data.shape"
      ],
      "metadata": {
        "colab": {
          "base_uri": "https://localhost:8080/"
        },
        "id": "SftOqo5khcgK",
        "outputId": "fd60804b-daa4-4673-9149-64dd1cb0e3c6"
      },
      "execution_count": 43,
      "outputs": [
        {
          "output_type": "execute_result",
          "data": {
            "text/plain": [
              "(4, 32, 32, 3)"
            ]
          },
          "metadata": {},
          "execution_count": 43
        }
      ]
    }
  ],
  "metadata": {
    "colab": {
      "name": "Images_processing.ipynb",
      "provenance": [],
      "collapsed_sections": [],
      "authorship_tag": "ABX9TyOA+NYke8Dn0FrEIfSnHN3i",
      "include_colab_link": true
    },
    "kernelspec": {
      "display_name": "Python 3",
      "name": "python3"
    },
    "language_info": {
      "name": "python"
    }
  },
  "nbformat": 4,
  "nbformat_minor": 0
}