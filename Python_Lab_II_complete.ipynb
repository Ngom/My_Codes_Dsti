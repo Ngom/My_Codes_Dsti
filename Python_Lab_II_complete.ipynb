{
  "nbformat": 4,
  "nbformat_minor": 0,
  "metadata": {
    "colab": {
      "name": "Python_Lab_II_complete.ipynb",
      "provenance": [],
      "collapsed_sections": [],
      "include_colab_link": true
    },
    "kernelspec": {
      "name": "python3",
      "display_name": "Python 3"
    },
    "language_info": {
      "name": "python"
    }
  },
  "cells": [
    {
      "cell_type": "markdown",
      "metadata": {
        "id": "view-in-github",
        "colab_type": "text"
      },
      "source": [
        "<a href=\"https://colab.research.google.com/github/Ngom/My_Codes_Dsti/blob/main/Python_Lab_II_complete.ipynb\" target=\"_parent\"><img src=\"https://colab.research.google.com/assets/colab-badge.svg\" alt=\"Open In Colab\"/></a>"
      ]
    },
    {
      "cell_type": "markdown",
      "source": [
        "###**Question 1:**  ...should you choose to accept it*\n",
        "You are supposed to write an algorithm to dehaze images.<br>\n",
        "You are given this paper:\n",
        "https://arxiv.org/pdf/1601.07661.pdf\n",
        "* What is this website ?\n",
        "* What are the main takeaway ideas ?\n",
        "* Which field of AI is it dealing with ?\n",
        "* Do you have coffee nearby ?\n"
      ],
      "metadata": {
        "id": "K2bnGAin3hXO"
      }
    },
    {
      "cell_type": "markdown",
      "source": [
        "**Answers:**\n",
        "* This website hosts research papers. In terms of AI, go to **arXiv**\n",
        "* The topic is **image dehazing**: in output we have a hazy image, we want to have a clean image at the end --> they trained a **CNN model**\n",
        "* CNN model: non linear regression, we want to estimate the **transmission map t(x)**, that can be then used to recover the clean image\n",
        "* It seems to work b/c they show beautiful images at the end\n",
        "* Other paper: https://www.hindawi.com/journals/ijcgt/2014/308629/"
      ],
      "metadata": {
        "id": "6LcFXvSbWgs0"
      }
    },
    {
      "cell_type": "markdown",
      "source": [
        "###**Question 2:** *It all starts with a git clone*\n",
        "<br>You come across this repository:\n",
        "* https://github.com/thuBingo/DehazeNet_Pytorch\n",
        "\n",
        "Like always the code is not commented\n",
        "  * Where do you start ?"
      ],
      "metadata": {
        "id": "vk0QSw3Z4u2M"
      }
    },
    {
      "cell_type": "markdown",
      "source": [
        "* Read the Readme file: we expect comments on the code, explainations on how to use the code, a description of the librairies, requirements.txt, etc\n"
      ],
      "metadata": {
        "id": "jkNQlTqVgHTn"
      }
    },
    {
      "cell_type": "code",
      "source": [
        "# Command to generate the requirements.txt file:\n",
        "!pip freeze > requirements.txt"
      ],
      "metadata": {
        "id": "7yXGGPbrgHAQ"
      },
      "execution_count": null,
      "outputs": []
    },
    {
      "cell_type": "code",
      "source": [
        "#View the concent of requirements.txt\n",
        "!cat requirements.txt"
      ],
      "metadata": {
        "id": "OUSSi69LiMDv"
      },
      "execution_count": null,
      "outputs": []
    },
    {
      "cell_type": "code",
      "source": [
        "#Command to install libraries from a requirements.txt file\n",
        "!pip install -r requirements.txt"
      ],
      "metadata": {
        "id": "Y_MKxw6hifYl"
      },
      "execution_count": null,
      "outputs": []
    },
    {
      "cell_type": "code",
      "source": [
        "# Clone a repository\n",
        "!git clone https://github.com/thuBingo/DehazeNet_Pytorch"
      ],
      "metadata": {
        "colab": {
          "base_uri": "https://localhost:8080/"
        },
        "id": "n69N4flFjJ2I",
        "outputId": "02e55844-4e6c-4026-a5c0-901e84a9c43f"
      },
      "execution_count": null,
      "outputs": [
        {
          "output_type": "stream",
          "name": "stdout",
          "text": [
            "Cloning into 'DehazeNet_Pytorch'...\n",
            "remote: Enumerating objects: 22, done.\u001b[K\n",
            "remote: Counting objects: 100% (22/22), done.\u001b[K\n",
            "remote: Compressing objects: 100% (22/22), done.\u001b[K\n",
            "remote: Total 22 (delta 9), reused 0 (delta 0), pack-reused 0\u001b[K\n",
            "Unpacking objects: 100% (22/22), done.\n"
          ]
        }
      ]
    },
    {
      "cell_type": "code",
      "source": [
        "# Move to DehazeNet_Pytorch folder \n",
        "%cd /content/DehazeNet_Pytorch"
      ],
      "metadata": {
        "colab": {
          "base_uri": "https://localhost:8080/"
        },
        "id": "vfK_8hUB25XM",
        "outputId": "06e1041b-7620-4541-d600-0ee35e5b8ac3"
      },
      "execution_count": null,
      "outputs": [
        {
          "output_type": "stream",
          "name": "stdout",
          "text": [
            "/content/DehazeNet_Pytorch\n"
          ]
        }
      ]
    },
    {
      "cell_type": "markdown",
      "source": [
        "### **Question 3:** *relative paths, absolute paths...*\n",
        "* What is relative path vs hardcoded path ? Should you use one \n",
        "\n",
        "\n",
        "vs the other?\n",
        "* Can you comment the code and make it usable with relative paths"
      ],
      "metadata": {
        "id": "2puWcQL24-Vq"
      }
    },
    {
      "cell_type": "markdown",
      "source": [
        "**Answers:**\n",
        "* Hardcoded paths doesn't have any flexibility and comes from the root directory while the relative path is flexible and takes the last folders we are interested in. The relative path can be shared to other users"
      ],
      "metadata": {
        "id": "t2skSQlullnL"
      }
    },
    {
      "cell_type": "markdown",
      "source": [
        "**Remarks:**\n",
        "* Always add comments, docstrings to your code "
      ],
      "metadata": {
        "id": "DBeRFoUTm8Jl"
      }
    },
    {
      "cell_type": "code",
      "source": [
        "# Import the create_dataset function: from <module> import <function>\n",
        "# When we write code, try to name functions and modules differently\n",
        "# Make sure that the module is located in the working directory (%cd)\n",
        "from create_dataset import create_dataset"
      ],
      "metadata": {
        "id": "0sFMsaOj5beW"
      },
      "execution_count": null,
      "outputs": []
    },
    {
      "cell_type": "code",
      "source": [
        "# Create a directory with a few images\n",
        "!mkdir /content/DehazeNet_Pytorch/img\n",
        "!mkdir /content/DehazeNet_Pytorch/train_set"
      ],
      "metadata": {
        "colab": {
          "base_uri": "https://localhost:8080/"
        },
        "id": "ihuJb7o7OrAK",
        "outputId": "ccff1b46-c923-4e98-8f0a-44ba3b44c32e"
      },
      "execution_count": null,
      "outputs": [
        {
          "output_type": "stream",
          "name": "stdout",
          "text": [
            "mkdir: cannot create directory ‘/content/DehazeNet_Pytorch/img’: File exists\n"
          ]
        }
      ]
    },
    {
      "cell_type": "code",
      "source": [
        "!wget 'https://hips.hearstapps.com/hmg-prod.s3.amazonaws.com/images/close-up-of-red-rose-royalty-free-image-672727875-1546363000.jpg'\n",
        "!wget 'https://icatcare.org/app/uploads/2018/07/Thinking-of-getting-a-cat.png'\n",
        "!wget 'https://m0.her.ie/wp-content/uploads/2018/01/07093633/GettyImages-887815620.jpg'"
      ],
      "metadata": {
        "id": "IYOEl9e_PsTC"
      },
      "execution_count": null,
      "outputs": []
    },
    {
      "cell_type": "code",
      "source": [
        "pwd"
      ],
      "metadata": {
        "colab": {
          "base_uri": "https://localhost:8080/",
          "height": 36
        },
        "id": "Vffrzac-Qv-F",
        "outputId": "e1a4a21c-6c48-4556-c623-946f76b187b7"
      },
      "execution_count": null,
      "outputs": [
        {
          "output_type": "execute_result",
          "data": {
            "application/vnd.google.colaboratory.intrinsic+json": {
              "type": "string"
            },
            "text/plain": [
              "'/content/DehazeNet_Pytorch'"
            ]
          },
          "metadata": {},
          "execution_count": 49
        }
      ]
    },
    {
      "cell_type": "code",
      "source": [
        "# Call the function create_dataset\n",
        "img_dir = '/content/DehazeNet_Pytorch/img'\n",
        "data_dir = '/content/DehazeNet_Pytorch/train_set'\n",
        "create_dataset(img_dir, data_dir, num_t=10, patch_size=16)"
      ],
      "metadata": {
        "colab": {
          "base_uri": "https://localhost:8080/",
          "height": 335
        },
        "id": "IjrtWYOj4LHD",
        "outputId": "e1b1e7d8-de70-400b-babc-74da28174252"
      },
      "execution_count": null,
      "outputs": [
        {
          "output_type": "error",
          "ename": "AttributeError",
          "evalue": "ignored",
          "traceback": [
            "\u001b[0;31m---------------------------------------------------------------------------\u001b[0m",
            "\u001b[0;31mAttributeError\u001b[0m                            Traceback (most recent call last)",
            "\u001b[0;32m<ipython-input-90-c9c8dc41da22>\u001b[0m in \u001b[0;36m<module>\u001b[0;34m()\u001b[0m\n\u001b[1;32m      2\u001b[0m \u001b[0mimg_dir\u001b[0m \u001b[0;34m=\u001b[0m \u001b[0;34m'/content/DehazeNet_Pytorch/img'\u001b[0m\u001b[0;34m\u001b[0m\u001b[0;34m\u001b[0m\u001b[0m\n\u001b[1;32m      3\u001b[0m \u001b[0mdata_dir\u001b[0m \u001b[0;34m=\u001b[0m \u001b[0;34m'/content/DehazeNet_Pytorch/train_set'\u001b[0m\u001b[0;34m\u001b[0m\u001b[0;34m\u001b[0m\u001b[0m\n\u001b[0;32m----> 4\u001b[0;31m \u001b[0mcreate_dataset\u001b[0m\u001b[0;34m(\u001b[0m\u001b[0mimg_dir\u001b[0m\u001b[0;34m,\u001b[0m \u001b[0mdata_dir\u001b[0m\u001b[0;34m,\u001b[0m \u001b[0mnum_t\u001b[0m\u001b[0;34m=\u001b[0m\u001b[0;36m10\u001b[0m\u001b[0;34m,\u001b[0m \u001b[0mpatch_size\u001b[0m\u001b[0;34m=\u001b[0m\u001b[0;36m16\u001b[0m\u001b[0;34m)\u001b[0m\u001b[0;34m\u001b[0m\u001b[0;34m\u001b[0m\u001b[0m\n\u001b[0m",
            "\u001b[0;32m/content/DehazeNet_Pytorch/create_dataset.py\u001b[0m in \u001b[0;36mcreate_dataset\u001b[0;34m(img_dir, data_dir, num_t, patch_size)\u001b[0m\n\u001b[1;32m     28\u001b[0m                 \u001b[0mimg\u001b[0m \u001b[0;34m=\u001b[0m \u001b[0mcv2\u001b[0m\u001b[0;34m.\u001b[0m\u001b[0mimread\u001b[0m\u001b[0;34m(\u001b[0m\u001b[0mfullname\u001b[0m\u001b[0;34m)\u001b[0m\u001b[0;34m\u001b[0m\u001b[0;34m\u001b[0m\u001b[0m\n\u001b[1;32m     29\u001b[0m \u001b[0;34m\u001b[0m\u001b[0m\n\u001b[0;32m---> 30\u001b[0;31m                 \u001b[0mw\u001b[0m\u001b[0;34m,\u001b[0m \u001b[0mh\u001b[0m\u001b[0;34m,\u001b[0m \u001b[0m_\u001b[0m \u001b[0;34m=\u001b[0m \u001b[0mimg\u001b[0m\u001b[0;34m.\u001b[0m\u001b[0mshape\u001b[0m\u001b[0;34m\u001b[0m\u001b[0;34m\u001b[0m\u001b[0m\n\u001b[0m\u001b[1;32m     31\u001b[0m \u001b[0;34m\u001b[0m\u001b[0m\n\u001b[1;32m     32\u001b[0m     \u001b[0;31m# We want to get the nb of patches that we can put in an image and we\u001b[0m\u001b[0;34m\u001b[0m\u001b[0;34m\u001b[0m\u001b[0;34m\u001b[0m\u001b[0m\n",
            "\u001b[0;31mAttributeError\u001b[0m: 'NoneType' object has no attribute 'shape'"
          ]
        }
      ]
    },
    {
      "cell_type": "markdown",
      "source": [
        "###**Question 4:** *the good hunter and the bad hunter*\n",
        "\n",
        "All the code is in 1 file (DehazeNet-pytorch.py), how can we re-organize the code?\n",
        "Can we reorganize it in 3 files ?\n",
        "  * data processing\n",
        "  * model training\n",
        "  * model evaluation\n",
        "  * How are you going to deal with the imports?"
      ],
      "metadata": {
        "id": "sEJOd_Sl51pW"
      }
    },
    {
      "cell_type": "markdown",
      "source": [
        "**Answers:**\n",
        "We should create a folder (a package), in which we will put our 3 functions"
      ],
      "metadata": {
        "id": "lwOANMfWTjlz"
      }
    },
    {
      "cell_type": "code",
      "source": [
        "import shutil\n",
        "shutil.rmtree('/content/DehazeNet_Pytorch/train_set', ignore_errors=True)\n",
        "# pour détruire un directory et toute son arborescence."
      ],
      "metadata": {
        "id": "yZyPdaYIkFkU"
      },
      "execution_count": null,
      "outputs": []
    },
    {
      "cell_type": "code",
      "source": [
        "# Create a folder named Dehazing_functions\n",
        "!mkdir /content/DehazeNet_Pytorch/Dehazing_functions"
      ],
      "metadata": {
        "id": "rpg-8279T3Ey"
      },
      "execution_count": null,
      "outputs": []
    },
    {
      "cell_type": "code",
      "source": [
        "# Create an empty file\n",
        "!touch /content/DehazeNet_Pytorch/Dehazing_functions/data_processing.py\n",
        "!touch /content/DehazeNet_Pytorch/Dehazing_functions/model_training.py\n",
        "!touch /content/DehazeNet_Pytorch/Dehazing_functions/model_evaluation.py"
      ],
      "metadata": {
        "id": "ozJdDk16UR6C"
      },
      "execution_count": null,
      "outputs": []
    },
    {
      "cell_type": "code",
      "source": [
        "!touch /content/DehazeNet_Pytorch/Dehazing_functions/custom_transform.py\n",
        "!touch /content/DehazeNet_Pytorch/Dehazing_functions/config.py"
      ],
      "metadata": {
        "id": "W6GHcnd6cbeZ"
      },
      "execution_count": null,
      "outputs": []
    },
    {
      "cell_type": "code",
      "source": [
        "## Import all the functions we created\n",
        "import Dehazing_functions.config\n",
        "import Dehazing_functions.custom_transform"
      ],
      "metadata": {
        "id": "coSFbwHsfnTB"
      },
      "execution_count": null,
      "outputs": []
    },
    {
      "cell_type": "code",
      "source": [
        "import Dehazing_functions.data_processing"
      ],
      "metadata": {
        "id": "o6kHptOef9sD"
      },
      "execution_count": null,
      "outputs": []
    },
    {
      "cell_type": "code",
      "source": [
        "import Dehazing_functions.model_evaluation"
      ],
      "metadata": {
        "id": "_NAD-4pkg-Qr"
      },
      "execution_count": null,
      "outputs": []
    },
    {
      "cell_type": "code",
      "source": [
        "import Dehazing_functions.model_training"
      ],
      "metadata": {
        "id": "ruhfxk3LhI6y"
      },
      "execution_count": null,
      "outputs": []
    },
    {
      "cell_type": "markdown",
      "source": [
        "###**Question5** : *Don't worry if you don't understand Andrew NG*\n",
        "\n",
        "When it comes to dehazing there are 5 relevant features\n",
        "* According to the paper what are these relevant features ?"
      ],
      "metadata": {
        "id": "8Zk6cENw4mX7"
      }
    },
    {
      "cell_type": "markdown",
      "source": [
        "How to read one paper (Andrew NG) ?<br>\n",
        "**Don't start from the first page and finish at last one\n",
        "Read it in multiple passes**<br>\n",
        "1. Read the title, abstracts, figures, experiments\n",
        "2. Go through conclusion, Figures and skip the rest\n",
        "3. Read the rest but skip the math\n",
        "4. Read whole but skip the parts that don't make sense."
      ],
      "metadata": {
        "id": "YIVQgaXr8KuK"
      }
    },
    {
      "cell_type": "markdown",
      "source": [
        "###**Question 6:** *What did I just read?*\n",
        "* According to what you have read\n",
        "  * What is the goal of the neural network -\n",
        "classification ? regression ?\n",
        "  * according to the code  What is the goal of the code - classification ? regression ?"
      ],
      "metadata": {
        "id": "L94lOi7bLGOO"
      }
    },
    {
      "cell_type": "markdown",
      "source": [
        "__Answers__:\n",
        "\n",
        "* The neural netwok goal is classification\n",
        "\n",
        "* The goal code of this CNN is classifaction"
      ],
      "metadata": {
        "id": "yV_mWh8rMHSs"
      }
    },
    {
      "cell_type": "markdown",
      "source": [
        "###**Question7**: *a bit of jargon*\n",
        "<br>\n",
        "(Please provide an example for each question)\n",
        "\n",
        "* What is a \"weights\" file ? \n",
        "\n",
        "* What is a pickle file ?\n",
        "\n",
        "* What is *defog4_noaug.pth* ?"
      ],
      "metadata": {
        "id": "9bQ0w4755WQd"
      }
    },
    {
      "cell_type": "markdown",
      "source": [
        "**Answers:**\n",
        "- In any model, we want to save the weights (set of parameters) of the model. \n",
        "- Pickling: Save the model in a binary format, a tool to load the weights"
      ],
      "metadata": {
        "id": "m--aRALaqHTy"
      }
    },
    {
      "cell_type": "markdown",
      "source": [
        "**Question 8:** *good code is like art... or not*\n",
        "<br>\n",
        "In the defog function below you can see many statements:\n",
        "* Can you explain what the function actually does ?\n",
        "* Is it an efficient way to write code ?\n",
        "* what does the code below mean ?\n",
        "* Can you propose a more efficient way ? no more for loop ?\n",
        "https://stackoverflow.com/questions/31527755/extract-blocks-or-patches-from-numpy-array\n"
      ],
      "metadata": {
        "id": "jBZA49-W8gsB"
      }
    },
    {
      "cell_type": "markdown",
      "source": [
        "### Some numpy practice"
      ],
      "metadata": {
        "id": "cijso_aa7puU"
      }
    },
    {
      "cell_type": "code",
      "source": [
        "import numpy as np\n",
        "A= np.array(range(625)).reshape(25,25)\n",
        "# Print a slice of matrix A - every fifth element by row and column\n",
        "print(A[::5,::5])"
      ],
      "metadata": {
        "colab": {
          "base_uri": "https://localhost:8080/"
        },
        "id": "Df0vQ_M1CIR9",
        "outputId": "f046437d-c5c9-4a7c-a53f-ef8e4b97dc70"
      },
      "execution_count": null,
      "outputs": [
        {
          "output_type": "stream",
          "name": "stdout",
          "text": [
            "[[  0   5  10  15  20]\n",
            " [125 130 135 140 145]\n",
            " [250 255 260 265 270]\n",
            " [375 380 385 390 395]\n",
            " [500 505 510 515 520]]\n"
          ]
        }
      ]
    },
    {
      "cell_type": "code",
      "source": [
        "# Inspect the first row of the matrix\n",
        "# This notation returns a matrix\n",
        "print(A[:1])"
      ],
      "metadata": {
        "colab": {
          "base_uri": "https://localhost:8080/"
        },
        "id": "7fiVuVkz5yg2",
        "outputId": "b83eb6df-cb5c-475f-c9e6-0d92606b2eb6"
      },
      "execution_count": null,
      "outputs": [
        {
          "output_type": "stream",
          "name": "stdout",
          "text": [
            "[[ 0  1  2  3  4  5  6  7  8  9 10 11 12 13 14 15 16 17 18 19 20 21 22 23\n",
            "  24]]\n"
          ]
        }
      ]
    },
    {
      "cell_type": "code",
      "source": [
        "# Inspect the first row of the matrix\n",
        "# This notation returns a vector\n",
        "print(A[0])"
      ],
      "metadata": {
        "colab": {
          "base_uri": "https://localhost:8080/"
        },
        "id": "DLchQP3_6QLp",
        "outputId": "49c73b78-793f-499d-b3a8-8efe235437b5"
      },
      "execution_count": null,
      "outputs": [
        {
          "output_type": "stream",
          "name": "stdout",
          "text": [
            "[ 0  1  2  3  4  5  6  7  8  9 10 11 12 13 14 15 16 17 18 19 20 21 22 23\n",
            " 24]\n"
          ]
        }
      ]
    },
    {
      "cell_type": "code",
      "source": [
        "# Inspect the first two columns of the matrix\n",
        "print(A[:,:2])"
      ],
      "metadata": {
        "colab": {
          "base_uri": "https://localhost:8080/"
        },
        "id": "lr4wnX206tjY",
        "outputId": "0dffdea1-43a2-4ac2-cb6d-44832761bc66"
      },
      "execution_count": null,
      "outputs": [
        {
          "output_type": "stream",
          "name": "stdout",
          "text": [
            "[[  0   1]\n",
            " [ 25  26]\n",
            " [ 50  51]\n",
            " [ 75  76]\n",
            " [100 101]\n",
            " [125 126]\n",
            " [150 151]\n",
            " [175 176]\n",
            " [200 201]\n",
            " [225 226]\n",
            " [250 251]\n",
            " [275 276]\n",
            " [300 301]\n",
            " [325 326]\n",
            " [350 351]\n",
            " [375 376]\n",
            " [400 401]\n",
            " [425 426]\n",
            " [450 451]\n",
            " [475 476]\n",
            " [500 501]\n",
            " [525 526]\n",
            " [550 551]\n",
            " [575 576]\n",
            " [600 601]]\n"
          ]
        }
      ]
    },
    {
      "cell_type": "code",
      "source": [
        "# Transpose the first two columns of the matrix\n",
        "A[:,:2].transpose()"
      ],
      "metadata": {
        "colab": {
          "base_uri": "https://localhost:8080/"
        },
        "id": "VP41UDuI7NeR",
        "outputId": "3eb0c149-80bf-4eb7-cf90-cb2b9adbb493"
      },
      "execution_count": null,
      "outputs": [
        {
          "output_type": "execute_result",
          "data": {
            "text/plain": [
              "array([[  0,  25,  50,  75, 100, 125, 150, 175, 200, 225, 250, 275, 300,\n",
              "        325, 350, 375, 400, 425, 450, 475, 500, 525, 550, 575, 600],\n",
              "       [  1,  26,  51,  76, 101, 126, 151, 176, 201, 226, 251, 276, 301,\n",
              "        326, 351, 376, 401, 426, 451, 476, 501, 526, 551, 576, 601]])"
            ]
          },
          "metadata": {},
          "execution_count": 29
        }
      ]
    },
    {
      "cell_type": "code",
      "source": [
        "A[:,:2].T # gives the transpose "
      ],
      "metadata": {
        "id": "SZGNkvijNUEx"
      },
      "execution_count": null,
      "outputs": []
    },
    {
      "cell_type": "code",
      "source": [
        "# View the dimensions of the matrix by the 'shape' attribute\n",
        "# Note: You get a 'tuple is not callable' error if you try to \n",
        "# call an attribute as method\n",
        "A.shape"
      ],
      "metadata": {
        "colab": {
          "base_uri": "https://localhost:8080/"
        },
        "id": "6usd4AMQ7xlj",
        "outputId": "cb012d5a-866d-4ada-9a94-0710d733de88"
      },
      "execution_count": null,
      "outputs": [
        {
          "output_type": "execute_result",
          "data": {
            "text/plain": [
              "(25, 25)"
            ]
          },
          "metadata": {},
          "execution_count": 32
        }
      ]
    },
    {
      "cell_type": "markdown",
      "source": [
        "## Back to the problem: Extracting patches from an image"
      ],
      "metadata": {
        "id": "aYLlrUf_8I45"
      }
    },
    {
      "cell_type": "markdown",
      "source": [
        "First try: https://stackoverflow.com/a/31572112"
      ],
      "metadata": {
        "id": "t4gP8SIi5ZBJ"
      }
    },
    {
      "cell_type": "code",
      "source": [
        "# Use a Scikit utility to generate the patches\n",
        "from skimage.util import view_as_blocks"
      ],
      "metadata": {
        "id": "cN1ZbKIl5ULE"
      },
      "execution_count": null,
      "outputs": []
    },
    {
      "cell_type": "code",
      "source": [
        "# Use the view_as_blocks function on the test matrix A\n",
        "view_as_blocks(A, (5, 5))"
      ],
      "metadata": {
        "id": "ka-eaB2D8sUu"
      },
      "execution_count": null,
      "outputs": []
    },
    {
      "cell_type": "code",
      "source": [
        "# Check the return type of view_as_blocks\n",
        "test = view_as_blocks(A, (5, 5))\n",
        "type(test)"
      ],
      "metadata": {
        "colab": {
          "base_uri": "https://localhost:8080/"
        },
        "id": "U-x_J3gs9BdG",
        "outputId": "42e08cb5-8128-42ab-aeda-4216b8343fec"
      },
      "execution_count": null,
      "outputs": [
        {
          "output_type": "execute_result",
          "data": {
            "text/plain": [
              "numpy.ndarray"
            ]
          },
          "metadata": {},
          "execution_count": 38
        }
      ]
    },
    {
      "cell_type": "code",
      "source": [
        "# View the shape of the returned numpy object\n",
        "test.shape"
      ],
      "metadata": {
        "colab": {
          "base_uri": "https://localhost:8080/"
        },
        "id": "CivScpio9jes",
        "outputId": "52896bea-45b8-4221-d231-94edaa24dc95"
      },
      "execution_count": null,
      "outputs": [
        {
          "output_type": "execute_result",
          "data": {
            "text/plain": [
              "(5, 5, 5, 5)"
            ]
          },
          "metadata": {},
          "execution_count": 40
        }
      ]
    },
    {
      "cell_type": "code",
      "source": [
        "# Reshape the ndarray to get batches of size 25 in a 5x5 matrix\n",
        "reshaped_test = test.reshape(25,5,5)"
      ],
      "metadata": {
        "id": "PB-Av9qi97vy"
      },
      "execution_count": null,
      "outputs": []
    },
    {
      "cell_type": "code",
      "source": [
        "# Confirm the reshaped object has the expected dimensions\n",
        "reshaped_test.shape"
      ],
      "metadata": {
        "colab": {
          "base_uri": "https://localhost:8080/"
        },
        "id": "Zrw97z11-EVT",
        "outputId": "5f776514-badc-4f0f-8574-455110235fd7"
      },
      "execution_count": null,
      "outputs": [
        {
          "output_type": "execute_result",
          "data": {
            "text/plain": [
              "(25, 5, 5)"
            ]
          },
          "metadata": {},
          "execution_count": 44
        }
      ]
    },
    {
      "cell_type": "code",
      "source": [
        "# Confirm the first batch matches the top 5x5 matrix\n",
        "reshaped_test[0]"
      ],
      "metadata": {
        "colab": {
          "base_uri": "https://localhost:8080/"
        },
        "id": "DWRBQEX1-aoo",
        "outputId": "52873c80-903a-4c97-f7ad-89d4b2503ff4"
      },
      "execution_count": null,
      "outputs": [
        {
          "output_type": "execute_result",
          "data": {
            "text/plain": [
              "array([[  0,   1,   2,   3,   4],\n",
              "       [ 25,  26,  27,  28,  29],\n",
              "       [ 50,  51,  52,  53,  54],\n",
              "       [ 75,  76,  77,  78,  79],\n",
              "       [100, 101, 102, 103, 104]])"
            ]
          },
          "metadata": {},
          "execution_count": 45
        }
      ]
    },
    {
      "cell_type": "code",
      "source": [
        "# Test iteration over ndarray\n",
        "for k in range(3):\n",
        "    print(reshaped_test[k])"
      ],
      "metadata": {
        "colab": {
          "base_uri": "https://localhost:8080/"
        },
        "id": "-ppu6XI1-jmV",
        "outputId": "a7a08d90-fa18-4213-f3de-01307278df1f"
      },
      "execution_count": null,
      "outputs": [
        {
          "output_type": "stream",
          "name": "stdout",
          "text": [
            "[[  0   1   2   3   4]\n",
            " [ 25  26  27  28  29]\n",
            " [ 50  51  52  53  54]\n",
            " [ 75  76  77  78  79]\n",
            " [100 101 102 103 104]]\n",
            "[[  5   6   7   8   9]\n",
            " [ 30  31  32  33  34]\n",
            " [ 55  56  57  58  59]\n",
            " [ 80  81  82  83  84]\n",
            " [105 106 107 108 109]]\n",
            "[[ 10  11  12  13  14]\n",
            " [ 35  36  37  38  39]\n",
            " [ 60  61  62  63  64]\n",
            " [ 85  86  87  88  89]\n",
            " [110 111 112 113 114]]\n"
          ]
        }
      ]
    },
    {
      "cell_type": "markdown",
      "source": [
        "Let's attempt the above transformation on a simulated RGB image, since our actual problem requires us to work on ... an RGB image."
      ],
      "metadata": {
        "id": "hkMgFU7LDGJ1"
      }
    },
    {
      "cell_type": "code",
      "source": [
        "# Import OpenCV\n",
        "import cv2"
      ],
      "metadata": {
        "id": "-6v1EOt7AhjM"
      },
      "execution_count": null,
      "outputs": []
    },
    {
      "cell_type": "code",
      "source": [
        "# Simulate an RGB image based on the ndarray we generated before\n",
        "A_rgb = cv2.merge([A,A,A])"
      ],
      "metadata": {
        "id": "5uaj4y1NAlK1"
      },
      "execution_count": null,
      "outputs": []
    },
    {
      "cell_type": "code",
      "source": [
        "# Inspect the shape of our simulated image\n",
        "A_rgb.shape"
      ],
      "metadata": {
        "colab": {
          "base_uri": "https://localhost:8080/"
        },
        "id": "R7lsihbAAuEV",
        "outputId": "3d81145d-2ded-43bb-ca02-0a7fc8253d7c"
      },
      "execution_count": null,
      "outputs": [
        {
          "output_type": "execute_result",
          "data": {
            "text/plain": [
              "(25, 25, 3)"
            ]
          },
          "metadata": {},
          "execution_count": 50
        }
      ]
    },
    {
      "cell_type": "code",
      "source": [
        "A_rgb[0,1]"
      ],
      "metadata": {
        "colab": {
          "base_uri": "https://localhost:8080/"
        },
        "id": "Kq0uyolPIVMr",
        "outputId": "57905c73-973e-4399-f548-c8a808276e69"
      },
      "execution_count": null,
      "outputs": [
        {
          "output_type": "execute_result",
          "data": {
            "text/plain": [
              "array([1, 1, 1], dtype=int32)"
            ]
          },
          "metadata": {},
          "execution_count": 65
        }
      ]
    },
    {
      "cell_type": "code",
      "source": [
        "# Convert the simulated images into blocks\n",
        "A_rgb_in_blocks = view_as_blocks(A_rgb, (5, 5, 1))"
      ],
      "metadata": {
        "id": "gG1d0uA0A2jV"
      },
      "execution_count": null,
      "outputs": []
    },
    {
      "cell_type": "code",
      "source": [
        "A_rgb_in_blocks"
      ],
      "metadata": {
        "id": "DmzGI7NmIN1a"
      },
      "execution_count": null,
      "outputs": []
    },
    {
      "cell_type": "code",
      "source": [
        "A_rgb_in_blocks.shape"
      ],
      "metadata": {
        "colab": {
          "base_uri": "https://localhost:8080/"
        },
        "id": "xwwQBsX2BgJe",
        "outputId": "07a4a50f-6cef-417e-effb-258d673da1e8"
      },
      "execution_count": null,
      "outputs": [
        {
          "output_type": "execute_result",
          "data": {
            "text/plain": [
              "(5, 5, 3, 5, 5, 1)"
            ]
          },
          "metadata": {},
          "execution_count": 58
        }
      ]
    },
    {
      "cell_type": "code",
      "source": [
        "# Try to reshape the image into a useable form\n",
        "A_rgb_in_blocks.reshape(-1,5,5)"
      ],
      "metadata": {
        "id": "K4w0POEvBoN6"
      },
      "execution_count": null,
      "outputs": []
    },
    {
      "cell_type": "markdown",
      "source": [
        "Since we can't find a way to make this work with all three image channels simultaneously, we'll divide and conquer and process channel by channel."
      ],
      "metadata": {
        "id": "MSNPWSMYWUFW"
      }
    },
    {
      "cell_type": "code",
      "source": [
        "# re-create the simulated A_rgb image\n",
        "A_rgb = cv2.merge([A,A,A])"
      ],
      "metadata": {
        "id": "scdY0Lg8WgLa"
      },
      "execution_count": null,
      "outputs": []
    },
    {
      "cell_type": "code",
      "source": [
        "A_rgb.shape"
      ],
      "metadata": {
        "colab": {
          "base_uri": "https://localhost:8080/"
        },
        "id": "EeN_NoSxX4IR",
        "outputId": "4e738b4c-1da0-4d99-c845-a60659b6b998"
      },
      "execution_count": null,
      "outputs": [
        {
          "output_type": "execute_result",
          "data": {
            "text/plain": [
              "(25, 25, 3)"
            ]
          },
          "metadata": {},
          "execution_count": 104
        }
      ]
    },
    {
      "cell_type": "code",
      "source": [
        "# Seperate the three channels\n",
        "A_red, A_green, A_blue = A_rgb[:,:,0], A_rgb[:,:,1], A_rgb[:,:,2]\n",
        "\n",
        "# The above code is shorthand for:\n",
        "#\n",
        "# A_red = A_rgb[:,:,0]\n",
        "# A_green = A_rgb[:,:,1]\n",
        "# A_blue = A_rgb[:,:,2]"
      ],
      "metadata": {
        "id": "o10N-NB-Wpcg"
      },
      "execution_count": null,
      "outputs": []
    },
    {
      "cell_type": "code",
      "source": [
        "# Inspect the shape of our color channel arrays\n",
        "A_red.shape"
      ],
      "metadata": {
        "colab": {
          "base_uri": "https://localhost:8080/"
        },
        "id": "Xb3CcxH2Xgm8",
        "outputId": "f340cb58-b0c5-4744-ecfb-c07c96d06894"
      },
      "execution_count": null,
      "outputs": [
        {
          "output_type": "execute_result",
          "data": {
            "text/plain": [
              "(25, 25)"
            ]
          },
          "metadata": {},
          "execution_count": 103
        }
      ]
    },
    {
      "cell_type": "code",
      "source": [
        "# Process each channel with the skimage function we used above\n",
        "A_red_patches = view_as_blocks(A_red, (5, 5)).reshape(-1, 5, 5)\n",
        "A_green_patches = view_as_blocks(A_green, (5, 5)).reshape(-1, 5, 5)\n",
        "A_blue_patches = view_as_blocks(A_blue, (5, 5)).reshape(-1, 5, 5)"
      ],
      "metadata": {
        "id": "PdnHssfQYHXW"
      },
      "execution_count": null,
      "outputs": []
    },
    {
      "cell_type": "code",
      "source": [
        "# Inspect the re-shaped color channel arrays\n",
        "A_red_patches.shape"
      ],
      "metadata": {
        "colab": {
          "base_uri": "https://localhost:8080/"
        },
        "id": "LItEDNh1Ye3H",
        "outputId": "2ce8cb61-8eba-4bfb-831f-36fd4723a1d5"
      },
      "execution_count": null,
      "outputs": [
        {
          "output_type": "execute_result",
          "data": {
            "text/plain": [
              "(25, 5, 5)"
            ]
          },
          "metadata": {},
          "execution_count": 128
        }
      ]
    },
    {
      "cell_type": "code",
      "source": [
        "# Re-assemble the color channels \n",
        "stacked_patches = np.stack([A_red_patches, A_green_patches, A_blue_patches], axis=3)"
      ],
      "metadata": {
        "id": "uXwwVzcGZ6gg"
      },
      "execution_count": null,
      "outputs": []
    },
    {
      "cell_type": "code",
      "source": [
        "my_stacked_patch = stacked_patches[0]"
      ],
      "metadata": {
        "id": "sAsc_ovaahjF"
      },
      "execution_count": null,
      "outputs": []
    },
    {
      "cell_type": "code",
      "source": [
        "import matplotlib.pyplot as plt"
      ],
      "metadata": {
        "id": "IJt69gNicfej"
      },
      "execution_count": null,
      "outputs": []
    },
    {
      "cell_type": "code",
      "source": [
        "# Saving the image so we can inspect it. Note that to save an\n",
        "# image in pyplot, it needs to be stored as 8-bit integer.\n",
        "plt.imsave('testimage.jpg', my_stacked_patch.astype(np.uint8))"
      ],
      "metadata": {
        "id": "SYpPDtiTcj8H"
      },
      "execution_count": null,
      "outputs": []
    },
    {
      "cell_type": "code",
      "source": [
        "A_red_patches[0]"
      ],
      "metadata": {
        "colab": {
          "base_uri": "https://localhost:8080/"
        },
        "id": "U57bdAaTZMPK",
        "outputId": "3103ab38-6ef7-4c3d-f5b3-b8ef34416aa8"
      },
      "execution_count": null,
      "outputs": [
        {
          "output_type": "execute_result",
          "data": {
            "text/plain": [
              "array([[  0,   1,   2,   3,   4],\n",
              "       [ 25,  26,  27,  28,  29],\n",
              "       [ 50,  51,  52,  53,  54],\n",
              "       [ 75,  76,  77,  78,  79],\n",
              "       [100, 101, 102, 103, 104]], dtype=int32)"
            ]
          },
          "metadata": {},
          "execution_count": 127
        }
      ]
    },
    {
      "cell_type": "code",
      "source": [
        "# Process each channel with the skimage function we used above\n",
        "A_red_patches_flat = view_as_blocks(A_red, (5, 5)).reshape(-1, 5, 5)\n",
        "A_green_patches_flat = view_as_blocks(A_green, (5, 5)).reshape(-1, 5, 5)\n",
        "A_blue_patches_flat = view_as_blocks(A_blue, (5, 5)).reshape(-1, 5, 5)"
      ],
      "metadata": {
        "id": "jxnw0aJIazWX"
      },
      "execution_count": null,
      "outputs": []
    },
    {
      "cell_type": "code",
      "source": [
        "vstacked_patches = np.stack([A_red_patches_flat, A_green_patches_flat, A_blue_patches_flat], axis=1)"
      ],
      "metadata": {
        "id": "Uai1jh1YbViW"
      },
      "execution_count": null,
      "outputs": []
    },
    {
      "cell_type": "code",
      "source": [
        "vstacked_patches.shape"
      ],
      "metadata": {
        "colab": {
          "base_uri": "https://localhost:8080/"
        },
        "id": "gXaEK69Pbku2",
        "outputId": "864e231f-4f79-4da9-ea8c-004b302489fc"
      },
      "execution_count": null,
      "outputs": [
        {
          "output_type": "execute_result",
          "data": {
            "text/plain": [
              "(25, 3, 5, 5)"
            ]
          },
          "metadata": {},
          "execution_count": 123
        }
      ]
    },
    {
      "cell_type": "code",
      "source": [
        "vstacked_patches[0][:]"
      ],
      "metadata": {
        "colab": {
          "base_uri": "https://localhost:8080/"
        },
        "id": "aqSP-9njbpqi",
        "outputId": "627e99ec-61e8-4e10-85bd-539477bce5ee"
      },
      "execution_count": null,
      "outputs": [
        {
          "output_type": "execute_result",
          "data": {
            "text/plain": [
              "array([[[  0,   1,   2,   3,   4],\n",
              "        [ 25,  26,  27,  28,  29],\n",
              "        [ 50,  51,  52,  53,  54],\n",
              "        [ 75,  76,  77,  78,  79],\n",
              "        [100, 101, 102, 103, 104]],\n",
              "\n",
              "       [[  0,   1,   2,   3,   4],\n",
              "        [ 25,  26,  27,  28,  29],\n",
              "        [ 50,  51,  52,  53,  54],\n",
              "        [ 75,  76,  77,  78,  79],\n",
              "        [100, 101, 102, 103, 104]],\n",
              "\n",
              "       [[  0,   1,   2,   3,   4],\n",
              "        [ 25,  26,  27,  28,  29],\n",
              "        [ 50,  51,  52,  53,  54],\n",
              "        [ 75,  76,  77,  78,  79],\n",
              "        [100, 101, 102, 103, 104]]], dtype=int32)"
            ]
          },
          "metadata": {},
          "execution_count": 126
        }
      ]
    },
    {
      "cell_type": "markdown",
      "source": [
        "We couldn't make this work for our 3d-array, so we'll investigate another response from Stackoverflow: https://stackoverflow.com/a/31529389\n",
        "\n",
        "```\n",
        "In [60]: x\n",
        "Out[60]: \n",
        "array([[2, 1, 2, 2, 0, 2, 2, 1, 3, 2],\n",
        "       [3, 1, 2, 1, 0, 1, 2, 3, 1, 0],\n",
        "       [2, 0, 3, 1, 3, 2, 1, 0, 0, 0],\n",
        "       [0, 1, 3, 3, 2, 0, 3, 2, 0, 3],\n",
        "       [0, 1, 0, 3, 1, 3, 0, 0, 0, 2],\n",
        "       [1, 1, 2, 2, 3, 2, 1, 0, 0, 3],\n",
        "       [2, 1, 0, 3, 2, 2, 2, 2, 1, 2],\n",
        "       [0, 3, 3, 3, 1, 0, 2, 0, 2, 1]])\n",
        "\n",
        "In [61]: result1 = x.reshape(x.shape[0]//2, 2, x.shape[1]//2, 2).swapaxes(1, 2).reshape(-1, 2, 2)\n",
        "```"
      ],
      "metadata": {
        "id": "Fxn0MqW5PjU-"
      }
    },
    {
      "cell_type": "markdown",
      "source": [
        "To better understand what is happening, we'll run the code part by part:"
      ],
      "metadata": {
        "id": "rCGT5e-RP6rm"
      }
    },
    {
      "cell_type": "code",
      "source": [
        "A_rgb.shape"
      ],
      "metadata": {
        "colab": {
          "base_uri": "https://localhost:8080/"
        },
        "id": "Cfyy19MhQAlW",
        "outputId": "a9ddfe9e-863c-45c6-efa6-383c06e836cf"
      },
      "execution_count": null,
      "outputs": [
        {
          "output_type": "execute_result",
          "data": {
            "text/plain": [
              "(25, 25, 3)"
            ]
          },
          "metadata": {},
          "execution_count": 69
        }
      ]
    },
    {
      "cell_type": "code",
      "source": [
        "test_1 = A_rgb.reshape(3, A_rgb.shape[0]//5, 5, A_rgb.shape[1]//5, 5)"
      ],
      "metadata": {
        "id": "qDZK2Q5OQRjy"
      },
      "execution_count": null,
      "outputs": []
    },
    {
      "cell_type": "code",
      "source": [
        "test_1.shape"
      ],
      "metadata": {
        "colab": {
          "base_uri": "https://localhost:8080/"
        },
        "id": "6Lwebi28RkpV",
        "outputId": "6fea3882-a5a8-4d1c-a486-02215ca763e4"
      },
      "execution_count": null,
      "outputs": [
        {
          "output_type": "execute_result",
          "data": {
            "text/plain": [
              "(3, 5, 5, 5, 5)"
            ]
          },
          "metadata": {},
          "execution_count": 96
        }
      ]
    },
    {
      "cell_type": "code",
      "source": [
        "test_1_sliced = test_1[0][0][0][:][:]"
      ],
      "metadata": {
        "id": "keLczaqgRqmL"
      },
      "execution_count": null,
      "outputs": []
    },
    {
      "cell_type": "code",
      "source": [
        "test_1_sliced"
      ],
      "metadata": {
        "colab": {
          "base_uri": "https://localhost:8080/"
        },
        "id": "ozGOBV5iTQJy",
        "outputId": "1d60e5cd-1fa2-4340-8262-173bb6e23df4"
      },
      "execution_count": null,
      "outputs": [
        {
          "output_type": "execute_result",
          "data": {
            "text/plain": [
              "array([[0, 0, 0, 1, 1],\n",
              "       [1, 2, 2, 2, 3],\n",
              "       [3, 3, 4, 4, 4],\n",
              "       [5, 5, 5, 6, 6],\n",
              "       [6, 7, 7, 7, 8]], dtype=int32)"
            ]
          },
          "metadata": {},
          "execution_count": 98
        }
      ]
    },
    {
      "cell_type": "code",
      "source": [
        "test_1_sliced[0]"
      ],
      "metadata": {
        "colab": {
          "base_uri": "https://localhost:8080/"
        },
        "id": "Y5YepTxsTByD",
        "outputId": "ede9c999-927d-4ee0-d8c0-f4e2009b2698"
      },
      "execution_count": null,
      "outputs": [
        {
          "output_type": "execute_result",
          "data": {
            "text/plain": [
              "array([[0, 0, 0],\n",
              "       [1, 1, 1],\n",
              "       [2, 2, 2],\n",
              "       [3, 3, 3],\n",
              "       [4, 4, 4]], dtype=int32)"
            ]
          },
          "metadata": {},
          "execution_count": 86
        }
      ]
    },
    {
      "cell_type": "code",
      "source": [
        "test_2 = test_1.swapaxes(1, 2)"
      ],
      "metadata": {
        "id": "Gk8lFZ4bUMZl"
      },
      "execution_count": null,
      "outputs": []
    },
    {
      "cell_type": "code",
      "source": [
        "test_2.shape"
      ],
      "metadata": {
        "colab": {
          "base_uri": "https://localhost:8080/"
        },
        "id": "HoQAAHhcURMu",
        "outputId": "e62eb764-b266-42f8-c4fa-08d98723ca32"
      },
      "execution_count": null,
      "outputs": [
        {
          "output_type": "execute_result",
          "data": {
            "text/plain": [
              "(5, 5, 5, 5, 3)"
            ]
          },
          "metadata": {},
          "execution_count": 90
        }
      ]
    },
    {
      "cell_type": "code",
      "source": [
        "test_2[0][0][:][:][:]"
      ],
      "metadata": {
        "id": "q8_wDITKUVLy"
      },
      "execution_count": null,
      "outputs": []
    },
    {
      "cell_type": "code",
      "source": [
        "test_3 = test_2.reshape(-1, 5, 5)"
      ],
      "metadata": {
        "id": "VhJLd1pqUhD_"
      },
      "execution_count": null,
      "outputs": []
    },
    {
      "cell_type": "code",
      "source": [
        "test_3.shape"
      ],
      "metadata": {
        "colab": {
          "base_uri": "https://localhost:8080/"
        },
        "id": "sgiF0TgEUlpj",
        "outputId": "ef4a692c-7368-4499-b590-1b504a516f2b"
      },
      "execution_count": null,
      "outputs": [
        {
          "output_type": "execute_result",
          "data": {
            "text/plain": [
              "(75, 5, 5)"
            ]
          },
          "metadata": {},
          "execution_count": 93
        }
      ]
    },
    {
      "cell_type": "code",
      "source": [
        "test_3[0]"
      ],
      "metadata": {
        "colab": {
          "base_uri": "https://localhost:8080/"
        },
        "id": "b4l9Yb3wUpqY",
        "outputId": "6383f471-62c8-4d19-d2c3-49a6472df33e"
      },
      "execution_count": null,
      "outputs": [
        {
          "output_type": "execute_result",
          "data": {
            "text/plain": [
              "array([[ 0,  0,  0,  1,  1],\n",
              "       [ 1,  2,  2,  2,  3],\n",
              "       [ 3,  3,  4,  4,  4],\n",
              "       [25, 25, 25, 26, 26],\n",
              "       [26, 27, 27, 27, 28]], dtype=int32)"
            ]
          },
          "metadata": {},
          "execution_count": 94
        }
      ]
    },
    {
      "cell_type": "code",
      "source": [
        "from PIL import Image\n",
        "from skimage.util import view_as_blocks\n",
        "\n",
        "def defog(pic_dir):\n",
        "\timg = Image.open(pic_dir)\n",
        "\timg1 = loader(img)\n",
        "\timg2 = transforms.ToTensor()(img)\n",
        "\tc, h, w = img1.shape\n",
        "\tpatch_size = 16\n",
        "\tnum_w = int(w / patch_size)\n",
        "\tnum_h = int(h / patch_size)\n",
        "\t\n",
        "\t# Creating the patches\n",
        "\n",
        "\t# Separate color channels\n",
        "\timg2_red = img2[:,:,0]\n",
        "\timg2_green = img2[:,:,1]\n",
        "\timg2_blue = img2[:,:,2]\n",
        "\n",
        "\t# For each color channel, create the patches\t\n",
        "\tA_red_patches = view_as_blocks(img2_red, (patch_size, patch_size)).reshape(-1, 5, 5)\n",
        "\tA_green_patches = view_as_blocks(img2_green, (patch_size, patch_size)).reshape(-1, 5, 5)\n",
        "\tA_blue_patches = view_as_blocks(img2_blue, (patch_size, patch_size)).reshape(-1, 5, 5)\n",
        "\n",
        "\t# Restack the color channels into colored patches\n",
        "\timg2_patches = np.stack([img2_red, img2_green, img2_blue], axis=3)\n",
        "\n",
        "\t# torch.unsqueeze() adds one dimension to \n",
        "\t# patch = torch.unsqueeze(img2_patches, dim=0)\n",
        " \t\n",
        "\t # net takes an array of patches as input and will\n",
        "\t # output an array of predicted t values. Note that\n",
        "\t # we should not do any of these two things:\n",
        "\n",
        "\t # (1) Send one patch after the other\n",
        "\t # (2) Send all patches at once\n",
        "\t \n",
        "\t # Instead, we send the patches in batches and\n",
        "\t # append the predictions in order to a new array.\n",
        "\t # These values can be appened to an array. (note: note implemented)\n",
        "\t t = net(img2_patches)\n",
        "\t\n",
        "\t# From the array of predictions, we compute the maximum \n",
        "\t# alpha value.\n",
        "\tt_list = sorted(t_list, key=lambda t_list:t_list[2])\n",
        "\ta_list = t_list[:len(t_list)//100]\n",
        "\t\n",
        "\ta0 = 0\n",
        "\t\n",
        "\tfor k in range(0,len(a_list)):\n",
        "\t\tpatch = img2[:, 0 + a_list[k][1] * patch_size:patch_size + a_list[k][1] * patch_size,\n",
        "\t\t\t\t0 + a_list[k][0] * patch_size:patch_size + a_list[k][0] * patch_size]\n",
        "\t\t\n",
        "\t\ta = torch.max(patch)\n",
        "\t\tif a0 < a.item():\n",
        "\t\t\ta0 = a.item()\n",
        "\t\n",
        "\tfor k in range(0,len(t_list)):\n",
        "\t\timg2[:, 0 + t_list[k][1] * patch_size:patch_size + t_list[k][1] * patch_size,\n",
        "\t\t\t0 + t_list[k][0] * patch_size:patch_size + t_list[k][0] * patch_size] = (img2[:,\n",
        "\t\t\t0 + t_list[k][1] * patch_size:patch_size + t_list[k][1] * patch_size,\n",
        "\t\t\t0 + t_list[k][0] * patch_size:patch_size + t_list[k][0] * patch_size] - a0*(1-t_list[k][2]))/t_list[k][2]\n",
        "\t\n",
        "\tdefog_img = transforms.ToPILImage()(img2)\n",
        "\t#defog_img.save('/home/panbing/PycharmProjects/defog/test/test.jpg')\n",
        "\n",
        "\n",
        "#defog('/home/panbing/PycharmProjects/defog/test/fogpic.jpg')"
      ],
      "metadata": {
        "id": "WmlhUPow5YfM"
      },
      "execution_count": null,
      "outputs": []
    },
    {
      "cell_type": "markdown",
      "source": [
        "###**Question26:** Classes"
      ],
      "metadata": {
        "id": "z5kY8CZqrfmm"
      }
    },
    {
      "cell_type": "markdown",
      "source": [
        "We want to define a class \"car\" with colour and brand as attribute"
      ],
      "metadata": {
        "id": "9wA2t8lVrjTs"
      }
    },
    {
      "cell_type": "code",
      "source": [
        "# Class definition\n",
        "class Car():\n",
        "  # Parameters to instantiate/create a 'car' object\n",
        "  def __init__(self, brand='Peugeot', color='red', max_velocity=358):\n",
        "    self.color  = color\n",
        "    self.brand = brand\n",
        "    self.max_velocity = max_velocity\n",
        "    self.wheels = self.get_num_wheels()\n",
        "    self.speed = self.get_speed()\n",
        "\n",
        "  # Defining a method (function)\n",
        "  def get_speed(self):\n",
        "    if self.brand == 'Ferrari':\n",
        "      self.speed = 250\n",
        "    else:\n",
        "      self.speed = 120\n",
        "    return self.speed\n",
        "\n",
        "  # Another method\n",
        "  def get_num_wheels(self):\n",
        "    self.wheels = 4\n",
        "    return self.wheels"
      ],
      "metadata": {
        "id": "1J6WYT8frrYx"
      },
      "execution_count": null,
      "outputs": []
    },
    {
      "cell_type": "code",
      "source": [
        "# Instantiate a 'car' object\n",
        "my_car = Car('Ferrari', 'Yellow')"
      ],
      "metadata": {
        "id": "x0vOUhqfslCa"
      },
      "execution_count": null,
      "outputs": []
    },
    {
      "cell_type": "code",
      "source": [
        "# Call the get_speed() method\n",
        "my_car.get_speed()"
      ],
      "metadata": {
        "colab": {
          "base_uri": "https://localhost:8080/"
        },
        "id": "JCwAYZO2stDV",
        "outputId": "9e5f758c-30cd-4cc3-ba85-4ee8533c68e0"
      },
      "execution_count": null,
      "outputs": [
        {
          "output_type": "execute_result",
          "data": {
            "text/plain": [
              "250"
            ]
          },
          "metadata": {},
          "execution_count": 12
        }
      ]
    },
    {
      "cell_type": "code",
      "source": [
        "# Get the parameters of my_car: my_car.color, my_car.brand, my_car.speed, my_car.max_velocity, my_car.wheels\n",
        "my_car.speed"
      ],
      "metadata": {
        "colab": {
          "base_uri": "https://localhost:8080/"
        },
        "id": "fcv7BSjItPAB",
        "outputId": "4d6603d3-d6c3-4c20-9185-06af4a45cb9d"
      },
      "execution_count": null,
      "outputs": [
        {
          "output_type": "execute_result",
          "data": {
            "text/plain": [
              "250"
            ]
          },
          "metadata": {},
          "execution_count": 28
        }
      ]
    },
    {
      "cell_type": "code",
      "source": [
        "my_car.wheels"
      ],
      "metadata": {
        "colab": {
          "base_uri": "https://localhost:8080/"
        },
        "id": "0A0RNedyteWA",
        "outputId": "c1119993-971e-434e-f731-e411659cb932"
      },
      "execution_count": null,
      "outputs": [
        {
          "output_type": "execute_result",
          "data": {
            "text/plain": [
              "4"
            ]
          },
          "metadata": {},
          "execution_count": 29
        }
      ]
    },
    {
      "cell_type": "markdown",
      "source": [
        "###**Question27 bis:**  Abstract classes"
      ],
      "metadata": {
        "id": "VO6VJI_xlokq"
      }
    },
    {
      "cell_type": "markdown",
      "source": [
        "**Question 27**: *My second class*\n",
        "\n",
        "* Have you heard of class inheritance ?$\n",
        "* Let's define a class named **vehicle**\n",
        "  * attributes = color,brand, max velocity\n",
        "  * function = give the number of wheels, give the max speed\n",
        "\n",
        "* Let's define a class named **moto**\n",
        "  * attributes = color,brand, max velocity\n",
        "  * function = give the number of wheels, give the max speed\n",
        "* Let's define a class named car\n",
        "  * attributes = color,brand, max velocity\n",
        "  * function = give the number of wheels, give the max speed"
      ],
      "metadata": {
        "id": "Wxc7s-jrmdkw"
      }
    },
    {
      "cell_type": "code",
      "source": [
        "# Class definition\n",
        "from abc import ABC, abstractmethod\n",
        "class Vehicle(ABC):\n",
        "  # Should not be initialized\n",
        "  # Decorator: should be added above each function\n",
        "  # An abstract method is a method that has a declaration but does not have an implementation\n",
        "  @abstractmethod\n",
        "  def get_wheels(self):\n",
        "    pass\n",
        "  # Another method with the decorator above\n",
        "  @abstractmethod\n",
        "  def get_speed(self):\n",
        "    pass"
      ],
      "metadata": {
        "id": "kotMTYB6mOqP"
      },
      "execution_count": 4,
      "outputs": []
    },
    {
      "cell_type": "code",
      "source": [
        "# Defining a class that inherite from the Vehicle class\n",
        "class Moto(Vehicle):\n",
        "  def __init__(self , year, brand , color, max_velocity):\n",
        "    # Parameters that are specific to Moto\n",
        "    self.year = year\n",
        "    self.color  = color\n",
        "    self.brand = brand\n",
        "    self.max_velocity = max_velocity\n",
        "    self.wheels = self.get_wheels()\n",
        "    self.speed = self.get_speed()\n",
        "\n",
        "  # Defining a method (function) specific to Moto\n",
        "  def get_speed(self):\n",
        "    if self.brand == 'Toyota':\n",
        "      self.speed = 300\n",
        "    else:\n",
        "      self.speed = 200\n",
        "    return self.speed\n",
        "    \n",
        "  def get_wheels(self):\n",
        "    self.wheels = 2\n",
        "    return self.wheels"
      ],
      "metadata": {
        "id": "8iNGa6cCm2_J"
      },
      "execution_count": 5,
      "outputs": []
    },
    {
      "cell_type": "code",
      "source": [
        "my_moto = Moto(2020, 'Toyota', 'red', 158)"
      ],
      "metadata": {
        "id": "YlORam52vWLD"
      },
      "execution_count": 6,
      "outputs": []
    },
    {
      "cell_type": "code",
      "source": [
        "my_moto.brand"
      ],
      "metadata": {
        "colab": {
          "base_uri": "https://localhost:8080/",
          "height": 35
        },
        "id": "BBTvLS5gwh95",
        "outputId": "c46825b2-4e5c-409b-cba0-dfa80733ab43"
      },
      "execution_count": 7,
      "outputs": [
        {
          "output_type": "execute_result",
          "data": {
            "application/vnd.google.colaboratory.intrinsic+json": {
              "type": "string"
            },
            "text/plain": [
              "'Toyota'"
            ]
          },
          "metadata": {},
          "execution_count": 7
        }
      ]
    },
    {
      "cell_type": "markdown",
      "source": [
        "Extra question: Can we create a class based on an abstract class but 'pass' on a required method?"
      ],
      "metadata": {
        "id": "CgHmZuMV0dSQ"
      }
    },
    {
      "cell_type": "code",
      "source": [
        "# Define a new class\n",
        "class Truck(Vehicle):\n",
        "    def __init__(self, year, brand, color, max_velocity):\n",
        "        self.year = year\n",
        "        self.color  = color\n",
        "        self.brand = brand\n",
        "        self.max_velocity = max_velocity\n",
        "        self.wheels = self.get_wheels()\n",
        "        self.speed = self.get_speed()\n",
        "\n",
        "    # Define speed as required by Vehicle\n",
        "    def get_speed(self):\n",
        "        pass\n",
        "    \n",
        "    # Define get_wheels as required by Vehicle\n",
        "    def get_wheels(self):\n",
        "        self.wheels = 2\n",
        "        return self.wheels"
      ],
      "metadata": {
        "id": "P1LNEiJ20j73"
      },
      "execution_count": null,
      "outputs": []
    },
    {
      "cell_type": "code",
      "source": [
        "my_truck= Truck(1995, 'MAN', 'Red', 123)"
      ],
      "metadata": {
        "id": "7pVzDdcH1Eom"
      },
      "execution_count": null,
      "outputs": []
    },
    {
      "cell_type": "code",
      "source": [
        "# Testing if my_truck has a speed attribute\n",
        "my_truck.speed\n",
        "\n",
        "# The code executes so there is a speed attribute but since the function \n",
        "# defininig it did not return anything, no value is returned."
      ],
      "metadata": {
        "id": "xUBMWBIY1Nrl"
      },
      "execution_count": null,
      "outputs": []
    },
    {
      "cell_type": "code",
      "source": [
        "# Check the type of my_truck.speed, expect NoneType\n",
        "type(my_truck.speed)"
      ],
      "metadata": {
        "colab": {
          "base_uri": "https://localhost:8080/"
        },
        "id": "bSfA53RX1mJR",
        "outputId": "37ae9381-3675-4605-b021-0871c0b05203"
      },
      "execution_count": null,
      "outputs": [
        {
          "output_type": "execute_result",
          "data": {
            "text/plain": [
              "NoneType"
            ]
          },
          "metadata": {},
          "execution_count": 11
        }
      ]
    },
    {
      "cell_type": "markdown",
      "source": [
        "Answer: Yes, we can pass on a method defined by an abstract class."
      ],
      "metadata": {
        "id": "Q1I8YzGH2cbw"
      }
    },
    {
      "cell_type": "markdown",
      "source": [
        "Extra question 2: Can we add methods not defined in the abstract class?"
      ],
      "metadata": {
        "id": "0QgDHygB2S-J"
      }
    },
    {
      "cell_type": "code",
      "source": [
        "# Define a new class\n",
        "class Truck2(Vehicle):\n",
        "    def __init__(self, year, brand, color, max_velocity):\n",
        "        self.year = year\n",
        "        self.color  = color\n",
        "        self.brand = brand\n",
        "        self.max_velocity = max_velocity\n",
        "        self.wheels = self.get_wheels()\n",
        "        self.speed = self.get_speed()\n",
        "        self.capacity = self.get_capacity()\n",
        "\n",
        "    # Define speed as required by Vehicle\n",
        "    def get_speed(self):\n",
        "        pass\n",
        "    \n",
        "    # Define get_wheels as required by Vehicle\n",
        "    def get_wheels(self):\n",
        "        self.wheels = 2\n",
        "        return self.wheels\n",
        "\n",
        "    # Define a new method \n",
        "    def get_capacity(self):\n",
        "        self.capacity = 25\n",
        "        return self.capacity"
      ],
      "metadata": {
        "id": "uMNeABx512YJ"
      },
      "execution_count": null,
      "outputs": []
    },
    {
      "cell_type": "code",
      "source": [
        "# Testing if my truck can be created\n",
        "my_truck2 = Truck2(1995, 'MAN', 'Red', 123)"
      ],
      "metadata": {
        "id": "hJVa2fir2FZX"
      },
      "execution_count": null,
      "outputs": []
    },
    {
      "cell_type": "code",
      "source": [
        "# Testing if my_truck2 has a capacity attribute\n",
        "my_truck2.capacity"
      ],
      "metadata": {
        "colab": {
          "base_uri": "https://localhost:8080/"
        },
        "id": "q5mlOOJY2Nvn",
        "outputId": "b38336d3-6a12-4381-a912-8d7de7530396"
      },
      "execution_count": null,
      "outputs": [
        {
          "output_type": "execute_result",
          "data": {
            "text/plain": [
              "25"
            ]
          },
          "metadata": {},
          "execution_count": 14
        }
      ]
    },
    {
      "cell_type": "markdown",
      "source": [
        "Answer: Yes, we can add additional methods to daugther classes."
      ],
      "metadata": {
        "id": "xumW57TZ2i8w"
      }
    },
    {
      "cell_type": "markdown",
      "source": [
        "---"
      ],
      "metadata": {
        "id": "LrHnu5xT2oES"
      }
    },
    {
      "cell_type": "markdown",
      "source": [
        "**Question 09**: *one command that chnaged everything*\n",
        "* One friend of ours is not 100% sure of his/her Docker skills& shell commands, can you explain what the commands below would do ?\n"
      ],
      "metadata": {
        "id": "R2XdqfT7y8dR"
      }
    },
    {
      "cell_type": "code",
      "source": [
        "!git clone https://github.com/thuBingo/DehazeNet_Pytorch.git"
      ],
      "metadata": {
        "colab": {
          "base_uri": "https://localhost:8080/"
        },
        "id": "SS4CzPan-dZD",
        "outputId": "a937a508-5a31-4851-cce4-c02256fb09f4"
      },
      "execution_count": null,
      "outputs": [
        {
          "output_type": "stream",
          "name": "stdout",
          "text": [
            "Cloning into 'DehazeNet_Pytorch'...\n",
            "remote: Enumerating objects: 22, done.\u001b[K\n",
            "remote: Counting objects: 100% (22/22), done.\u001b[K\n",
            "remote: Compressing objects: 100% (22/22), done.\u001b[K\n",
            "remote: Total 22 (delta 9), reused 0 (delta 0), pack-reused 0\u001b[K\n",
            "Unpacking objects: 100% (22/22), done.\n"
          ]
        }
      ]
    },
    {
      "cell_type": "code",
      "source": [
        "cd /content/DehazeNet_Pytorch"
      ],
      "metadata": {
        "colab": {
          "base_uri": "https://localhost:8080/"
        },
        "id": "ry4UK9sm-l85",
        "outputId": "b7c227c8-a02b-4528-8b43-084715c38a54"
      },
      "execution_count": null,
      "outputs": [
        {
          "output_type": "stream",
          "name": "stdout",
          "text": [
            "/content/DehazeNet_Pytorch\n"
          ]
        }
      ]
    },
    {
      "cell_type": "code",
      "source": [
        "mkdir ./dataset"
      ],
      "metadata": {
        "id": "4DlzNXzW-vgy"
      },
      "execution_count": null,
      "outputs": []
    },
    {
      "cell_type": "markdown",
      "source": [
        "**Question 10:** *copy paste* \n",
        "\n",
        "* If you have not cloned  the project, please clone it. what command are you going to use ?\n",
        "* Your dehazing function should work, how do you update your github  repository"
      ],
      "metadata": {
        "id": "XwrHT5EdLZyf"
      }
    },
    {
      "cell_type": "code",
      "source": [
        ""
      ],
      "metadata": {
        "id": "_T4jTZkLLjs1"
      },
      "execution_count": null,
      "outputs": []
    },
    {
      "cell_type": "markdown",
      "source": [
        "**Question 11**: *kaggle and its open sea of datasets*"
      ],
      "metadata": {
        "id": "tjF6l4GmzPHH"
      }
    },
    {
      "cell_type": "markdown",
      "source": [
        "* You have been told that there is a great dataset of underwater images available on kaggle.\n",
        "* How do you programmatically download it ?\n",
        "* Where will you run this command ?\n",
        "* Is there a problem with colab ?\n",
        "if yes what is the solution ?"
      ],
      "metadata": {
        "id": "67EqMTNk_G24"
      }
    },
    {
      "cell_type": "markdown",
      "source": [
        "### Describe problem 1"
      ],
      "metadata": {
        "id": "Dufp0zJbNI4R"
      }
    },
    {
      "cell_type": "markdown",
      "source": [
        "### Describe  problem 2"
      ],
      "metadata": {
        "id": "TtpCIEWzNK1Y"
      }
    },
    {
      "cell_type": "markdown",
      "source": [
        "**Question 12** *GUI, CLI... API*\n",
        "* What is a CLI?\n",
        "* What do you need to interact with kaggle CLI ?"
      ],
      "metadata": {
        "id": "SEPDivvwzdr2"
      }
    },
    {
      "cell_type": "code",
      "source": [
        "# vous uploadez le fichier kaggle.json dans le répertoire : /root/.kaggle\n",
        "!mkdir /root/.kaggle/\n",
        "!cp /content/kaggle.json /root/.kaggle/"
      ],
      "metadata": {
        "id": "-X1c7oQd_joD"
      },
      "execution_count": null,
      "outputs": []
    },
    {
      "cell_type": "markdown",
      "source": [
        "**Question 13** *kaggle data*\n",
        "* What are the commands below ?\n",
        "* What is missing in the second cell ?"
      ],
      "metadata": {
        "id": "hPAd00otzv43"
      }
    },
    {
      "cell_type": "code",
      "source": [
        "!chmod 600 /root/.kaggle/kaggle.json"
      ],
      "metadata": {
        "id": "Wq9GHk5HA-hi"
      },
      "execution_count": null,
      "outputs": []
    },
    {
      "cell_type": "code",
      "source": [
        "!pip uninstall -y kaggle\n",
        "!pip install --upgrade pip\n",
        "!pip install kaggle==1.5.6"
      ],
      "metadata": {
        "id": "Gxsw5X9eCqGq"
      },
      "execution_count": null,
      "outputs": []
    },
    {
      "cell_type": "code",
      "source": [
        "kaggle competitions download -c tensorflow-great-barrier-reef"
      ],
      "metadata": {
        "id": "Vt9g_Scg-zb2"
      },
      "execution_count": null,
      "outputs": []
    },
    {
      "cell_type": "code",
      "source": [
        "!kaggle competitions download -c tensorflow-great-barrier-reef --force\n"
      ],
      "metadata": {
        "colab": {
          "base_uri": "https://localhost:8080/"
        },
        "id": "SJLKcvtYC46L",
        "outputId": "c7e294df-18c4-448d-d711-1c01e66911c9"
      },
      "execution_count": null,
      "outputs": [
        {
          "output_type": "stream",
          "name": "stdout",
          "text": [
            "Downloading tensorflow-great-barrier-reef.zip to /content/DehazeNet_Pytorch\n",
            "100% 14.2G/14.2G [01:56<00:00, 86.4MB/s]\n",
            "100% 14.2G/14.2G [01:56<00:00, 131MB/s] \n"
          ]
        }
      ]
    },
    {
      "cell_type": "markdown",
      "source": [
        "**Question 14** *deal with zip*\n",
        "* Let's assume you unzipped the file in the **WRONG** folder:\n",
        "  * which command can help you out ?\n",
        "  * How do you zip a folder ?\n",
        "  * How do you zip a file ?\n",
        "  * How many files have you unzipped?\n",
        "  * Where can you see this info?"
      ],
      "metadata": {
        "id": "VEbz7XxnMUQI"
      }
    },
    {
      "cell_type": "code",
      "source": [
        " /content/DehazeNet_Pytorch/*.jpg /content/DehazeNet_Pytorch/dataset/"
      ],
      "metadata": {
        "id": "R-dcPyal_rX3"
      },
      "execution_count": null,
      "outputs": []
    },
    {
      "cell_type": "markdown",
      "source": [
        "**Question 15** \"just import it\""
      ],
      "metadata": {
        "id": "Q8aDdCmp0QjV"
      }
    },
    {
      "cell_type": "markdown",
      "source": [
        "* You want to try the commands in the code: *test.py* (supplied in the aforementionned Github repository)\n",
        "  * Can you import it as a module ?\n",
        "  * Do you have to be placed in a particular folder ? "
      ],
      "metadata": {
        "id": "y9LMFNRsL5NK"
      }
    },
    {
      "cell_type": "code",
      "source": [
        "import create_dataset"
      ],
      "metadata": {
        "colab": {
          "base_uri": "https://localhost:8080/"
        },
        "id": "igFvtrfgAMry",
        "outputId": "2322c98d-fd64-437e-d696-8daec23c9a01"
      },
      "execution_count": null,
      "outputs": [
        {
          "output_type": "stream",
          "name": "stderr",
          "text": [
            "100%|██████████| 34/34 [01:11<00:00,  2.11s/it]\n"
          ]
        }
      ]
    },
    {
      "cell_type": "markdown",
      "source": [
        "* If  you run create_dataset does it work ?\n",
        "\n",
        "* If you import create_dataset, what happens?"
      ],
      "metadata": {
        "id": "lxxBLmcGKn3I"
      }
    },
    {
      "cell_type": "markdown",
      "source": [
        "**Question 16:** *important matter*\n",
        "<br>About import and reload: say you've modified the .py file and you want to reload a cell :"
      ],
      "metadata": {
        "id": "SVc9XGm3NQsW"
      }
    },
    {
      "cell_type": "markdown",
      "source": [
        "* If you modify the code in the editor can you run python code in Jupyter without reloading ?\n",
        "* Is there any python commands which let you reload automatically ?"
      ],
      "metadata": {
        "id": "XOoHEwMRMXhp"
      }
    },
    {
      "cell_type": "markdown",
      "source": [
        "**Question 17:** *module update*\n",
        "* What is %load_ext autoreload ?\n",
        "* What is %autoreload 2 ?"
      ],
      "metadata": {
        "id": "9aqf0k-n09lZ"
      }
    },
    {
      "cell_type": "code",
      "source": [
        "%load_ext autoreload\n",
        "%autoreload 2\n",
        "import create_dataset"
      ],
      "metadata": {
        "id": "GLJLeDVHCUgY"
      },
      "execution_count": null,
      "outputs": []
    },
    {
      "cell_type": "markdown",
      "source": [
        "**Question 18:** *if name =='__main__'*\n",
        "<br>\n",
        "In the code you often see \"if name =='__main__'. * Is it necessary ?\n",
        "* what does it do. ?"
      ],
      "metadata": {
        "id": "iM6grKg3MovC"
      }
    },
    {
      "cell_type": "markdown",
      "source": [
        "* what does the command below do ?\n",
        "  * what does -r mean ?\n",
        "  * what does -f mean ?"
      ],
      "metadata": {
        "id": "ZSXbz99lM1HI"
      }
    },
    {
      "cell_type": "markdown",
      "source": [
        "**Question 19:** *with great power comes great responsability*\n",
        "\n",
        "* Does this statement applies for the command below?\n",
        "* What does it do ?"
      ],
      "metadata": {
        "id": "YsttIMpL1NLn"
      }
    },
    {
      "cell_type": "code",
      "source": [
        "!rm -rf  /content/DehazeNet_Pytorch/fogged_dataset"
      ],
      "metadata": {
        "id": "wNSFn5DbKDu3"
      },
      "execution_count": null,
      "outputs": []
    },
    {
      "cell_type": "markdown",
      "source": [
        "**Question 20:** *Python is so pythonesque*\n",
        "* What is the language below ?\n",
        "* What is it doing ?"
      ],
      "metadata": {
        "id": "75KuEoGD1blF"
      }
    },
    {
      "cell_type": "code",
      "source": [
        "!ls /content/DehazeNet_Pytorch/fogged_dataset | wc -l"
      ],
      "metadata": {
        "colab": {
          "base_uri": "https://localhost:8080/"
        },
        "id": "PXkD3li2HwCw",
        "outputId": "cadf5b54-499f-4fab-9e9b-9e7eb024c09a"
      },
      "execution_count": null,
      "outputs": [
        {
          "output_type": "stream",
          "name": "stdout",
          "text": [
            "1064286\n"
          ]
        }
      ]
    },
    {
      "cell_type": "code",
      "source": [
        "!cat /content/DehazeNet_Pytorch/path_train.txt | head -10"
      ],
      "metadata": {
        "colab": {
          "base_uri": "https://localhost:8080/"
        },
        "id": "Si97sSBjDLFd",
        "outputId": "1f6ea4b9-a26a-4f4b-e5ef-0c795eb3c100"
      },
      "execution_count": null,
      "outputs": [
        {
          "output_type": "stream",
          "name": "stdout",
          "text": [
            "/content/DehazeNet_Pytorch/fogged_dataset/11110008.jpg\n",
            "/content/DehazeNet_Pytorch/fogged_dataset/11310008.jpg\n",
            "/content/DehazeNet_Pytorch/fogged_dataset/12110008.jpg\n",
            "/content/DehazeNet_Pytorch/fogged_dataset/12410008.jpg\n",
            "/content/DehazeNet_Pytorch/fogged_dataset/12610008.jpg\n",
            "/content/DehazeNet_Pytorch/fogged_dataset/12710008.jpg\n",
            "/content/DehazeNet_Pytorch/fogged_dataset/13310008.jpg\n",
            "/content/DehazeNet_Pytorch/fogged_dataset/13510008.jpg\n",
            "/content/DehazeNet_Pytorch/fogged_dataset/13710008.jpg\n",
            "/content/DehazeNet_Pytorch/fogged_dataset/13810008.jpg\n"
          ]
        }
      ]
    },
    {
      "cell_type": "code",
      "source": [
        "!echo \"$(ls -d /content/DehazeNet_Pytorch/fogged_dataset| head -1)/$(ls /content/DehazeNet_Pytorch/fogged_dataset| head -1)\" >adder.txt"
      ],
      "metadata": {
        "id": "U9xJEWoEOLU4"
      },
      "execution_count": null,
      "outputs": []
    },
    {
      "cell_type": "code",
      "source": [
        "!cp \"$(ls -d /content/DehazeNet_Pytorch/fogged_dataset| head -1)/$(ls /content/DehazeNet_Pytorch/fogged_dataset| head -1)\" /content/DehazeNet_Pytorch/test"
      ],
      "metadata": {
        "id": "mOAtO4axOwVN"
      },
      "execution_count": null,
      "outputs": []
    },
    {
      "cell_type": "markdown",
      "source": [
        "**Question 21** : *a matter of pixel values*\n",
        "* You have generated the files and yet you can't see them.\n",
        "* why is that ?\n",
        "* How can you check a couple of files ?\n",
        "* Which commands can you run ? (to see the n first files ?)"
      ],
      "metadata": {
        "id": "YkavWEXHOLGC"
      }
    },
    {
      "cell_type": "markdown",
      "source": [
        "**Question 22:** *a matter of imports*\n",
        "\n",
        "Can you import DehazeNet-pytorch.py ?\n",
        "* If not why ?\n",
        "* Does the code work ?\n",
        "* Can you import a module when there is a mistake/typo?\n"
      ],
      "metadata": {
        "id": "wNhXgbxAUKWl"
      }
    },
    {
      "cell_type": "markdown",
      "source": [
        "**Question23**: *Getting them images*\n",
        "\n",
        "* How to download random image on the  web ?\n",
        "* What is PIL? \n",
        "> The Python Imaging Library adds image processing capabilities to your Python interpreter.\n",
        "* How do you open an image with \n",
        "  * PIL ?\n",
        "  * opencv ?\n",
        "  * matplotlib ?"
      ],
      "metadata": {
        "id": "pccQNOrCUmnL"
      }
    },
    {
      "cell_type": "code",
      "source": [
        "!wget https://cdn.pixabay.com/photo/2019/12/03/20/51/fog-4671042_960_720.jpg"
      ],
      "metadata": {
        "colab": {
          "base_uri": "https://localhost:8080/"
        },
        "id": "ATTkt3woUqWf",
        "outputId": "321136e0-f556-4ccd-add4-42b71697d27b"
      },
      "execution_count": null,
      "outputs": [
        {
          "output_type": "stream",
          "name": "stdout",
          "text": [
            "--2022-01-23 19:03:49--  https://cdn.pixabay.com/photo/2019/12/03/20/51/fog-4671042_960_720.jpg\n",
            "Resolving cdn.pixabay.com (cdn.pixabay.com)... 104.18.20.183, 104.18.21.183, 2606:4700::6812:14b7, ...\n",
            "Connecting to cdn.pixabay.com (cdn.pixabay.com)|104.18.20.183|:443... connected.\n",
            "HTTP request sent, awaiting response... 200 OK\n",
            "Length: 135630 (132K) [image/jpeg]\n",
            "Saving to: ‘fog-4671042_960_720.jpg’\n",
            "\n",
            "fog-4671042_960_720 100%[===================>] 132.45K  --.-KB/s    in 0.02s   \n",
            "\n",
            "2022-01-23 19:03:50 (5.67 MB/s) - ‘fog-4671042_960_720.jpg’ saved [135630/135630]\n",
            "\n"
          ]
        }
      ]
    },
    {
      "cell_type": "markdown",
      "source": [
        "**Question 24**: *say import one more time*\n",
        "<br>\n",
        "You want to test the code on an image, will the code below work ?"
      ],
      "metadata": {
        "id": "2ZhvOYDpVdb3"
      }
    },
    {
      "cell_type": "code",
      "source": [
        "%load_ext autoreload\n",
        "%autoreload 2\n",
        "import DehazeNet_pytorch"
      ],
      "metadata": {
        "colab": {
          "base_uri": "https://localhost:8080/"
        },
        "id": "Jrp2d20HSFfb",
        "outputId": "aec4f7db-a4eb-442b-e0b6-b463fc4e5f25"
      },
      "execution_count": null,
      "outputs": [
        {
          "output_type": "stream",
          "name": "stderr",
          "text": [
            "/content/DehazeNet_Pytorch/DehazeNet_pytorch.py:45: UserWarning: nn.init.normal is now deprecated in favor of nn.init.normal_.\n",
            "  if m.bias is not None:\n"
          ]
        },
        {
          "output_type": "stream",
          "name": "stdout",
          "text": [
            "The autoreload extension is already loaded. To reload it, use:\n",
            "  %reload_ext autoreload\n"
          ]
        }
      ]
    },
    {
      "cell_type": "markdown",
      "source": [
        "**Question 24**: *AI detected*\n",
        "* In the code, where is the predictive model declared ?\n",
        "* We don't want to reexecute longparts of the code all the time, what should we do ? \n",
        "  * Is it a good practice to have the code separated in many parts?"
      ],
      "metadata": {
        "id": "LydKSn__V3-m"
      }
    },
    {
      "cell_type": "markdown",
      "source": [
        "**Question 25**: *Hardcoding for life*\n",
        "* In the code, how is the destination path is defined ?\n",
        "* Is it correct ?\n",
        "* What is ARGPARSE ?\n",
        "  * Can we add argparse parameters to make this code easier to run ?"
      ],
      "metadata": {
        "id": "29PmrdMoWs8n"
      }
    },
    {
      "cell_type": "markdown",
      "source": [
        "**Question 25**: *time to smash that button*\n",
        "<br>\n",
        "<br>\n",
        "You might be ready to execute the code.\n",
        "* Is it working - are you running the code on Colab?\n",
        "* Why is it not - What happened?"
      ],
      "metadata": {
        "id": "yWFfB294vfcx"
      }
    },
    {
      "cell_type": "code",
      "source": [
        "%load_ext autoreload\n",
        "%autoreload 2\n",
        "import DehazeNet_pytorch"
      ],
      "metadata": {
        "colab": {
          "base_uri": "https://localhost:8080/"
        },
        "id": "ZLrmyjnVWYaJ",
        "outputId": "7cd70cda-4706-45bd-e67c-3064ed9e743d"
      },
      "execution_count": 2,
      "outputs": [
        {
          "output_type": "stream",
          "name": "stdout",
          "text": [
            "The autoreload extension is already loaded. To reload it, use:\n",
            "  %reload_ext autoreload\n"
          ]
        }
      ]
    },
    {
      "cell_type": "markdown",
      "source": [
        "**Question 26**: *My first class*\n",
        "\n",
        "* Let's define a class named car\n",
        "  * attributes = color,brand, max velocity\n",
        "  * function = give the number of wheels, give the max speed"
      ],
      "metadata": {
        "id": "Oechn_vgwMZt"
      }
    },
    {
      "cell_type": "markdown",
      "source": [
        "Must-read : https://realpython.com/python-super/"
      ],
      "metadata": {
        "id": "E0cUz_8q3hOp"
      }
    },
    {
      "cell_type": "markdown",
      "source": [
        "**Question 27**: *My second class*\n",
        "\n",
        "* Have you heard of class inheritance ?$\n",
        "* Let's define a class named **vehicle**\n",
        "  * attributes = color,brand, max velocity\n",
        "  * function = give the number of wheels, give the max speed\n",
        "\n",
        "* Let's define a class named **moto**\n",
        "  * attributes = color,brand, max velocity\n",
        "  * function = give the number of wheels, give the max speed\n",
        "* Let's define a class named car\n",
        "  * attributes = color,brand, max velocity\n",
        "  * function = give the number of wheels, give the max speed"
      ],
      "metadata": {
        "id": "eRDukFjh3POx"
      }
    },
    {
      "cell_type": "markdown",
      "source": [
        "[\"Simple examples - in case you are stuck\"](https://www.edureka.co/blog/inheritance-in-python/)"
      ],
      "metadata": {
        "id": "BLdHoImh_qTC"
      }
    },
    {
      "cell_type": "markdown",
      "source": [
        "**Question 28**: *Torch class*\n",
        "* here is the example\n",
        "* how would you apply it to this particular example ?"
      ],
      "metadata": {
        "id": "KtHYlXCW5_S_"
      }
    },
    {
      "cell_type": "code",
      "source": [
        "import os\n",
        "import pandas as pd\n",
        "\n",
        "from torchvision.io import read_image\n",
        "\n",
        "# inherits from the Dataset class\n",
        "class CustomImageDataset(Dataset):\n",
        "\n",
        "    # init function will be executed when instnatiated\n",
        "    def __init__(self, annotations_file, img_dir, transform=None, target_transform=None):\n",
        "        self.img_labels = pd.read_csv(annotations_file)   # attributes\n",
        "        self.img_dir = img_dir                            # attributes\n",
        "        self.transform = transform                        # attributes\n",
        "        self.target_transform = target_transform          # attributes\n",
        "\n",
        "    # allows you to calculate the length of the instantiated Dataset\n",
        "    def __len__(self):\n",
        "        return len(self.img_labels)\n",
        "\n",
        "    # allows you to  pick 1 element in the dataset\n",
        "    def __getitem__(self, idx):\n",
        "        img_path = os.path.join(self.img_dir, self.img_labels.iloc[idx, 0])\n",
        "        image = read_image(img_path)\n",
        "        label = self.img_labels.iloc[idx, 1]\n",
        "        if self.transform:\n",
        "            image = self.transform(image)\n",
        "        if self.target_transform:\n",
        "            label = self.target_transform(label)\n",
        "        return image, label"
      ],
      "metadata": {
        "id": "i7sJ_UySUBiW"
      },
      "execution_count": null,
      "outputs": []
    },
    {
      "cell_type": "markdown",
      "source": [
        "**Question 29**: *Torch class*\n",
        "* Here is the example\n",
        "* How would you apply it to this particular example ?\n",
        "* please look @ the example below"
      ],
      "metadata": {
        "id": "5tepkx_c7BFH"
      }
    },
    {
      "cell_type": "markdown",
      "source": [
        "https://stanford.edu/~shervine/blog/pytorch-how-to-generate-data-parallel"
      ],
      "metadata": {
        "id": "dYBglv846xnX"
      }
    },
    {
      "cell_type": "markdown",
      "source": [
        "https://medium.com/analytics-vidhya/pytorch-for-deep-learning-feed-forward-neural-network-d24f5870c18"
      ],
      "metadata": {
        "id": "CATYXl8z68v2"
      }
    },
    {
      "cell_type": "markdown",
      "source": [
        "**Question 30**: *Time to nut up or shut up*\n",
        "* Launch the training !\n"
      ],
      "metadata": {
        "id": "dRpcHWC77Ky5"
      }
    },
    {
      "cell_type": "code",
      "source": [
        ""
      ],
      "metadata": {
        "id": "Et97mPb-7RDx"
      },
      "execution_count": null,
      "outputs": []
    }
  ]
}