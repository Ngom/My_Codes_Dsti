{
  "nbformat": 4,
  "nbformat_minor": 0,
  "metadata": {
    "colab": {
      "name": "Python_labs_Day2.ipynb",
      "provenance": [],
      "collapsed_sections": [],
      "authorship_tag": "ABX9TyNIp0sQcBIQTV9cPiwTzI9f",
      "include_colab_link": true
    },
    "kernelspec": {
      "name": "python3",
      "display_name": "Python 3"
    },
    "language_info": {
      "name": "python"
    }
  },
  "cells": [
    {
      "cell_type": "markdown",
      "metadata": {
        "id": "view-in-github",
        "colab_type": "text"
      },
      "source": [
        "<a href=\"https://colab.research.google.com/github/Ngom/My_Codes_Dsti/blob/main/Python_labs_Day2.ipynb\" target=\"_parent\"><img src=\"https://colab.research.google.com/assets/colab-badge.svg\" alt=\"Open In Colab\"/></a>"
      ]
    },
    {
      "cell_type": "markdown",
      "metadata": {
        "id": "1SkLGOjaV8BA"
      },
      "source": [
        "When we use here _install + \"packagename\"_ we don't use conda install in colab\n",
        "\n",
        "# Review Functions"
      ]
    },
    {
      "cell_type": "code",
      "metadata": {
        "colab": {
          "base_uri": "https://localhost:8080/"
        },
        "id": "8dQqmJK6We7g",
        "outputId": "2b3c3feb-ca80-42fc-bd5f-f13135cd72ac"
      },
      "source": [
        "# Read line function and retur \n",
        "def printline(my_path, my_option):\n",
        "  \"\"\"\n",
        "  This function read the file content and\n",
        "  return it according to bulk option.\n",
        "  \"\"\"\n",
        "\n",
        "  with open(my_path, \"r\") as f:\n",
        "    if  my_option == 'B': # if bulk option is specified\n",
        "      lines = f.read() # read the whole text\n",
        "      f.close() # close it open\n",
        "    else: # read line by line \n",
        "      lines = f.readlines()\n",
        "      f.close() # close open\n",
        "  return lines\n",
        "\n",
        "# to see the path\n",
        "!pwd"
      ],
      "execution_count": 25,
      "outputs": [
        {
          "output_type": "stream",
          "name": "stdout",
          "text": [
            "/content\n"
          ]
        }
      ]
    },
    {
      "cell_type": "code",
      "metadata": {
        "colab": {
          "base_uri": "https://localhost:8080/",
          "height": 53
        },
        "id": "--dHtCZsYqjp",
        "outputId": "abb0178a-e326-4319-b3d1-1c1711955b39"
      },
      "source": [
        "# declare the path\n",
        "input_path = \"/content/test.txt\"\n",
        "\n",
        "# call the function \n",
        "printline(input_path, 'B')"
      ],
      "execution_count": 26,
      "outputs": [
        {
          "output_type": "execute_result",
          "data": {
            "application/vnd.google.colaboratory.intrinsic+json": {
              "type": "string"
            },
            "text/plain": [
              "'This file contains some words that I can read with my function from colab.\\n\\nThis is the last sentence.\\n\\nOh thank you !!'"
            ]
          },
          "metadata": {},
          "execution_count": 26
        }
      ]
    },
    {
      "cell_type": "markdown",
      "metadata": {
        "id": "ApvXXkizbuRZ"
      },
      "source": [
        "Use try ... except now "
      ]
    },
    {
      "cell_type": "code",
      "metadata": {
        "id": "ZMIrc6wJbzk0"
      },
      "source": [
        "# Read line function and retur \n",
        "def printline2(my_path, my_option):\n",
        "  \"\"\"\n",
        "  This function read the file content and\n",
        "  return it according to bulk option.\n",
        "  If the file does not exist, the raise the error.\n",
        "  \"\"\"\n",
        "  try:\n",
        "    with open(my_path, \"r\") as f:\n",
        "      if  my_option == 'B': # if bulk option is specified, read the whole text\n",
        "        lines = f.read() # read the whole content once\n",
        "        f.close() # close it open\n",
        "      else: # read line by line \n",
        "        lines = f.readlines() # read line by line\n",
        "        f.close() # close open\n",
        "      return lines\n",
        "\n",
        "  except FileNotFoundError:\n",
        "    lines = 'No such file'\n",
        "    print(\"File not found, chek the name !\") # raise the error\n",
        "    return lines\n",
        "  "
      ],
      "execution_count": 22,
      "outputs": []
    },
    {
      "cell_type": "code",
      "metadata": {
        "colab": {
          "base_uri": "https://localhost:8080/"
        },
        "id": "eQ66WWN_eGqW",
        "outputId": "ba741d7e-3aa4-4da4-f0f4-7327c9443e4c"
      },
      "source": [
        "# call the function with correct path\n",
        "printline2(input_path, 'K')"
      ],
      "execution_count": 23,
      "outputs": [
        {
          "output_type": "execute_result",
          "data": {
            "text/plain": [
              "['This file contains some words that I can read with my function from colab.\\n',\n",
              " '\\n',\n",
              " 'This is the last sentence.\\n',\n",
              " '\\n',\n",
              " 'Oh thank you !!']"
            ]
          },
          "metadata": {},
          "execution_count": 23
        }
      ]
    },
    {
      "cell_type": "code",
      "metadata": {
        "colab": {
          "base_uri": "https://localhost:8080/",
          "height": 53
        },
        "id": "gUSgHoP5ei9o",
        "outputId": "4a2c73bd-890a-439b-bf95-f59c7faa8f7a"
      },
      "source": [
        "# call function with inccorrect path\n",
        "path_error = \"/content/test.txt0\"\n",
        "printline2(path_error, 'B')"
      ],
      "execution_count": 28,
      "outputs": [
        {
          "output_type": "stream",
          "name": "stdout",
          "text": [
            "File not found, chek the name !\n"
          ]
        },
        {
          "output_type": "execute_result",
          "data": {
            "application/vnd.google.colaboratory.intrinsic+json": {
              "type": "string"
            },
            "text/plain": [
              "'No such file'"
            ]
          },
          "metadata": {},
          "execution_count": 28
        }
      ]
    },
    {
      "cell_type": "markdown",
      "metadata": {
        "id": "bxiXmSvjk8PU"
      },
      "source": [
        "Import Python file"
      ]
    },
    {
      "cell_type": "code",
      "metadata": {
        "colab": {
          "base_uri": "https://localhost:8080/"
        },
        "id": "Y2xBsdf2lC2M",
        "outputId": "c870370e-ff00-4442-a7bc-51da35f47e8f"
      },
      "source": [
        "#import python_labs_day2.py\n",
        "import python_labs_day2\n",
        "!pwd"
      ],
      "execution_count": 33,
      "outputs": [
        {
          "output_type": "stream",
          "name": "stdout",
          "text": [
            "/content\n"
          ]
        }
      ]
    }
  ]
}