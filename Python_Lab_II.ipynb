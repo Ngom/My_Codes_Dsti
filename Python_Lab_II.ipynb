{
  "nbformat": 4,
  "nbformat_minor": 0,
  "metadata": {
    "colab": {
      "name": "Python_Lab_II.ipynb",
      "provenance": [],
      "collapsed_sections": [],
      "authorship_tag": "ABX9TyOxwe4NS4qVvgqQZuA7R4Hm",
      "include_colab_link": true
    },
    "kernelspec": {
      "name": "python3",
      "display_name": "Python 3"
    },
    "language_info": {
      "name": "python"
    }
  },
  "cells": [
    {
      "cell_type": "markdown",
      "metadata": {
        "id": "view-in-github",
        "colab_type": "text"
      },
      "source": [
        "<a href=\"https://colab.research.google.com/github/Ngom/My_Codes_Dsti/blob/main/Python_Lab_II.ipynb\" target=\"_parent\"><img src=\"https://colab.research.google.com/assets/colab-badge.svg\" alt=\"Open In Colab\"/></a>"
      ]
    },
    {
      "cell_type": "code",
      "execution_count": null,
      "metadata": {
        "colab": {
          "base_uri": "https://localhost:8080/"
        },
        "id": "RW0zh7GCn-x9",
        "outputId": "30bd98f8-6139-45bf-c92f-42a837bf5835"
      },
      "outputs": [
        {
          "output_type": "stream",
          "name": "stdout",
          "text": [
            "Cloning into 'DehazeNet_Pytorch'...\n",
            "remote: Enumerating objects: 22, done.\u001b[K\n",
            "remote: Counting objects: 100% (22/22), done.\u001b[K\n",
            "remote: Compressing objects: 100% (22/22), done.\u001b[K\n",
            "remote: Total 22 (delta 9), reused 0 (delta 0), pack-reused 0\u001b[K\n",
            "Unpacking objects: 100% (22/22), done.\n"
          ]
        }
      ],
      "source": [
        "# clone DehazeNet repository from git hub:\n",
        "!git clone https://github.com/thuBingo/DehazeNet_Pytorch"
      ]
    },
    {
      "cell_type": "code",
      "source": [
        "# show downloaded repository\n",
        "%cd /content/DehazeNet_Pytorch"
      ],
      "metadata": {
        "id": "hQetedj5oFYN",
        "colab": {
          "base_uri": "https://localhost:8080/"
        },
        "outputId": "953587a6-1810-4931-90bd-a82da225b237"
      },
      "execution_count": null,
      "outputs": [
        {
          "output_type": "stream",
          "name": "stdout",
          "text": [
            "/content/DehazeNet_Pytorch\n"
          ]
        }
      ]
    },
    {
      "cell_type": "code",
      "source": [
        "!ls -a"
      ],
      "metadata": {
        "colab": {
          "base_uri": "https://localhost:8080/"
        },
        "id": "Kulth6sh4mqW",
        "outputId": "4a7be3c6-1068-4ae9-ccc7-c8497bb956d6"
      },
      "execution_count": null,
      "outputs": [
        {
          "output_type": "stream",
          "name": "stdout",
          "text": [
            ".  ..  .config\tDehazeNet_Pytorch  sample_data\n"
          ]
        }
      ]
    },
    {
      "cell_type": "code",
      "source": [
        "!pwd"
      ],
      "metadata": {
        "colab": {
          "base_uri": "https://localhost:8080/"
        },
        "id": "BeSEb4QtLieW",
        "outputId": "4762892c-06c8-47e8-c211-a32c2c318670"
      },
      "execution_count": null,
      "outputs": [
        {
          "output_type": "stream",
          "name": "stdout",
          "text": [
            "/content/DehazeNet_Pytorch\n"
          ]
        }
      ]
    },
    {
      "cell_type": "code",
      "source": [
        "!cd /content/DehazeNet_Pytorch/\n",
        "# import the code as module\n",
        "# from create_dataset import create_dataset"
      ],
      "metadata": {
        "id": "_NzAEH4-oNjs"
      },
      "execution_count": null,
      "outputs": []
    },
    {
      "cell_type": "code",
      "source": [
        "# create  directories to store da\n",
        "!mkdir /content/DehazeNet_Pytorch/img\n",
        "!mkdir /content/DehazeNet_Pytorch/dest"
      ],
      "metadata": {
        "id": "Ucgdzlcm1yNi"
      },
      "execution_count": null,
      "outputs": []
    },
    {
      "cell_type": "code",
      "source": [
        "%cd img/\n",
        "!wget https://image.shutterstock.com/image-illustration/beautiful-aurora-universe-milky-way-260nw-1787056478.jpg"
      ],
      "metadata": {
        "colab": {
          "base_uri": "https://localhost:8080/"
        },
        "id": "bchLEvPLPHvI",
        "outputId": "da4377de-556e-4923-d350-f4a63bc96284"
      },
      "execution_count": null,
      "outputs": [
        {
          "output_type": "stream",
          "name": "stdout",
          "text": [
            "[Errno 2] No such file or directory: 'img/'\n",
            "/content/DehazeNet_Pytorch/img\n",
            "--2022-01-24 13:26:37--  https://image.shutterstock.com/image-illustration/beautiful-aurora-universe-milky-way-260nw-1787056478.jpg\n",
            "Resolving image.shutterstock.com (image.shutterstock.com)... 54.192.86.46, 54.192.86.41, 54.192.86.18, ...\n",
            "Connecting to image.shutterstock.com (image.shutterstock.com)|54.192.86.46|:443... connected.\n",
            "HTTP request sent, awaiting response... 200 OK\n",
            "Length: 21350 (21K) [image/jpeg]\n",
            "Saving to: ‘beautiful-aurora-universe-milky-way-260nw-1787056478.jpg’\n",
            "\n",
            "beautiful-aurora-un 100%[===================>]  20.85K  --.-KB/s    in 0s      \n",
            "\n",
            "2022-01-24 13:26:38 (87.4 MB/s) - ‘beautiful-aurora-universe-milky-way-260nw-1787056478.jpg’ saved [21350/21350]\n",
            "\n"
          ]
        }
      ]
    },
    {
      "cell_type": "code",
      "source": [
        "%cd /content/DehazeNet_Pytorch/"
      ],
      "metadata": {
        "colab": {
          "base_uri": "https://localhost:8080/"
        },
        "id": "eOCzFxOUQsQe",
        "outputId": "d0997c51-5293-4953-fffc-9d42b9a46b20"
      },
      "execution_count": null,
      "outputs": [
        {
          "output_type": "stream",
          "name": "stdout",
          "text": [
            "/content/DehazeNet_Pytorch\n"
          ]
        }
      ]
    },
    {
      "cell_type": "code",
      "source": [
        "# create_dataset('img/', 'dest/', num_t=10, patch_size=16)"
      ],
      "metadata": {
        "id": "Odh4L81zRSrq"
      },
      "execution_count": null,
      "outputs": []
    },
    {
      "cell_type": "code",
      "source": [
        "!mkdir /content/DehazeNet_Pytorch/dehaze\n",
        "!touch /content/DehazeNet_Pytorch/dehaze/evaluation.py\n",
        "!touch /content/DehazeNet_Pytorch/dehaze/processing.py\n",
        "!touch /content/DehazeNet_Pytorch/dehaze/training.py"
      ],
      "metadata": {
        "id": "MfZnFAmKRqZ3"
      },
      "execution_count": null,
      "outputs": []
    },
    {
      "cell_type": "markdown",
      "source": [
        "# Classes in Python - Object Oriented Programming"
      ],
      "metadata": {
        "id": "DTfkSGmYth6U"
      }
    },
    {
      "cell_type": "markdown",
      "source": [
        "### Question 26: My first class"
      ],
      "metadata": {
        "id": "gdyo1hZ4nwUn"
      }
    },
    {
      "cell_type": "markdown",
      "source": [
        ""
      ],
      "metadata": {
        "id": "t9vYz_iErnrs"
      }
    },
    {
      "cell_type": "code",
      "source": [
        "# we create class with two attributes and three methods\n",
        "# class name start by an upper case\n",
        "# a class blueprint\n",
        "class Car:\n",
        "  # initialization function and its attributes\n",
        "  def __init__(self, color, brand, max_velocity):\n",
        "    self.color = color\n",
        "    self.brand = brand\n",
        "    self.max_velocity = max_velocity\n",
        "    # initialze the attribute wheels by getting value from get_numb_wheels()\n",
        "    self.wheels = self.get_numb_wheels()\n",
        "\n",
        "  # our firs method\n",
        "  def get_speed(self):\n",
        "    if self.brand == 'Ferrari':\n",
        "      self.speed = 250\n",
        "    else:\n",
        "      self.speed = 120\n",
        "    return self.speed\n",
        "\n",
        "  # our second method\n",
        "  def get_type(self):\n",
        "    self.color = self.color.lower()\n",
        "    if self.color == \"blue\":\n",
        "      self.categ = 'Automatique'\n",
        "    else:\n",
        "      self.categ = 'Manuelle'\n",
        "    return self.categ\n",
        "\n",
        "  # our third method\n",
        "  def get_numb_wheels(self):\n",
        "    return 4"
      ],
      "metadata": {
        "id": "c7RXyALUrtvD"
      },
      "execution_count": null,
      "outputs": []
    },
    {
      "cell_type": "code",
      "source": [
        "# a class blueprint\n",
        "class Car2:\n",
        "  # initialization function\n",
        "  def __init__(self, color, brand, max_velocity):\n",
        "    self.color = color\n",
        "    self.brand = brand\n",
        "    self.max_velocity = max_velocity\n",
        "\n",
        "  # method one\n",
        "  def get_speed(self):\n",
        "    if self.brand == 'Ferrari':\n",
        "      self.speed = 250\n",
        "    else:\n",
        "      self.speed = 120\n",
        "    return self.speed\n",
        "      \n",
        "  # method two\n",
        "  def get_type(self):\n",
        "    if self.max_velocity <= 50:\n",
        "      self.categ = 'Automatique'\n",
        "    else:\n",
        "      self.categ = 'Manuelle'\n",
        "    return self.categ"
      ],
      "metadata": {
        "id": "7RtPuyl0iSoo"
      },
      "execution_count": 15,
      "outputs": []
    },
    {
      "cell_type": "code",
      "source": [
        "# Instantiate a first Car2 object\n",
        "my_car = Car2('Blue', 'Ferrari', 300)"
      ],
      "metadata": {
        "id": "QK3jF05StAW2"
      },
      "execution_count": 16,
      "outputs": []
    },
    {
      "cell_type": "code",
      "source": [
        "my_car.color"
      ],
      "metadata": {
        "colab": {
          "base_uri": "https://localhost:8080/",
          "height": 35
        },
        "id": "TxDnaQNTtPT1",
        "outputId": "51967749-e792-45f9-8c1b-587efb9be254"
      },
      "execution_count": 17,
      "outputs": [
        {
          "output_type": "execute_result",
          "data": {
            "application/vnd.google.colaboratory.intrinsic+json": {
              "type": "string"
            },
            "text/plain": [
              "'Blue'"
            ]
          },
          "metadata": {},
          "execution_count": 17
        }
      ]
    },
    {
      "cell_type": "code",
      "source": [
        "my_car.brand"
      ],
      "metadata": {
        "colab": {
          "base_uri": "https://localhost:8080/",
          "height": 35
        },
        "id": "4SUa-y7ttSt1",
        "outputId": "ac6b57ff-03f1-4604-f916-3bab7171f32b"
      },
      "execution_count": 18,
      "outputs": [
        {
          "output_type": "execute_result",
          "data": {
            "application/vnd.google.colaboratory.intrinsic+json": {
              "type": "string"
            },
            "text/plain": [
              "'Ferrari'"
            ]
          },
          "metadata": {},
          "execution_count": 18
        }
      ]
    },
    {
      "cell_type": "code",
      "source": [
        "my_car.max_velocity"
      ],
      "metadata": {
        "colab": {
          "base_uri": "https://localhost:8080/"
        },
        "id": "SQoqRbfglIo1",
        "outputId": "c6fa28eb-f019-41d3-bdc8-e58ddbab8f4c"
      },
      "execution_count": 19,
      "outputs": [
        {
          "output_type": "execute_result",
          "data": {
            "text/plain": [
              "300"
            ]
          },
          "metadata": {},
          "execution_count": 19
        }
      ]
    },
    {
      "cell_type": "code",
      "source": [
        "my_car.get_speed()"
      ],
      "metadata": {
        "id": "ValbnPTNtWxR",
        "colab": {
          "base_uri": "https://localhost:8080/"
        },
        "outputId": "7e660e7d-30b0-4778-8725-ccdac82ca0a8"
      },
      "execution_count": 20,
      "outputs": [
        {
          "output_type": "execute_result",
          "data": {
            "text/plain": [
              "250"
            ]
          },
          "metadata": {},
          "execution_count": 20
        }
      ]
    },
    {
      "cell_type": "code",
      "source": [
        "my_car.get_type()"
      ],
      "metadata": {
        "colab": {
          "base_uri": "https://localhost:8080/",
          "height": 35
        },
        "id": "VaRRXKkC-yat",
        "outputId": "cba72d1f-9ca3-4f2d-ee1d-c8e5aa09f6eb"
      },
      "execution_count": 21,
      "outputs": [
        {
          "output_type": "execute_result",
          "data": {
            "application/vnd.google.colaboratory.intrinsic+json": {
              "type": "string"
            },
            "text/plain": [
              "'Manuelle'"
            ]
          },
          "metadata": {},
          "execution_count": 21
        }
      ]
    },
    {
      "cell_type": "code",
      "source": [
        "# Instantiate a first Car2 object\n",
        "mini_car = Car2('Green', 'Vovo', 45)"
      ],
      "metadata": {
        "id": "N5xaQbwmXkF1"
      },
      "execution_count": 22,
      "outputs": []
    },
    {
      "cell_type": "code",
      "source": [
        "mini_car.get_type()"
      ],
      "metadata": {
        "colab": {
          "base_uri": "https://localhost:8080/",
          "height": 35
        },
        "id": "tcaqm4GgXxpa",
        "outputId": "e9ba2836-d8d1-4505-ba05-16a43f4a7221"
      },
      "execution_count": 23,
      "outputs": [
        {
          "output_type": "execute_result",
          "data": {
            "application/vnd.google.colaboratory.intrinsic+json": {
              "type": "string"
            },
            "text/plain": [
              "'Automatique'"
            ]
          },
          "metadata": {},
          "execution_count": 23
        }
      ]
    },
    {
      "cell_type": "code",
      "source": [
        "# Instantiate a second Car object\n",
        "vehi = Car('Green', 'Peageot')"
      ],
      "metadata": {
        "id": "S_gHHtjR_EON"
      },
      "execution_count": null,
      "outputs": []
    },
    {
      "cell_type": "code",
      "source": [
        "vehi.get_type()"
      ],
      "metadata": {
        "colab": {
          "base_uri": "https://localhost:8080/",
          "height": 35
        },
        "id": "Fa_UL-E9_e-x",
        "outputId": "21ff6328-cdc9-4971-c409-f3e616ab671c"
      },
      "execution_count": null,
      "outputs": [
        {
          "output_type": "execute_result",
          "data": {
            "application/vnd.google.colaboratory.intrinsic+json": {
              "type": "string"
            },
            "text/plain": [
              "'Manuelle'"
            ]
          },
          "metadata": {},
          "execution_count": 57
        }
      ]
    },
    {
      "cell_type": "code",
      "source": [
        "vehi.get_spreed()"
      ],
      "metadata": {
        "colab": {
          "base_uri": "https://localhost:8080/"
        },
        "id": "0-gZ8QfO_fK1",
        "outputId": "a19066b9-c2bb-42aa-ac3b-8ed502d7f603"
      },
      "execution_count": null,
      "outputs": [
        {
          "output_type": "execute_result",
          "data": {
            "text/plain": [
              "120"
            ]
          },
          "metadata": {},
          "execution_count": 58
        }
      ]
    },
    {
      "cell_type": "code",
      "source": [
        "vehi.color"
      ],
      "metadata": {
        "colab": {
          "base_uri": "https://localhost:8080/",
          "height": 35
        },
        "id": "AjdAXoH2_wXF",
        "outputId": "d6e294b2-f9cb-4b02-a8e0-bd8677ba01f8"
      },
      "execution_count": null,
      "outputs": [
        {
          "output_type": "execute_result",
          "data": {
            "application/vnd.google.colaboratory.intrinsic+json": {
              "type": "string"
            },
            "text/plain": [
              "'green'"
            ]
          },
          "metadata": {},
          "execution_count": 59
        }
      ]
    },
    {
      "cell_type": "code",
      "source": [
        "vehi.brand"
      ],
      "metadata": {
        "colab": {
          "base_uri": "https://localhost:8080/",
          "height": 35
        },
        "id": "VVykufCl_z9y",
        "outputId": "516c0c44-00cc-45fc-edbe-90f0721f1643"
      },
      "execution_count": null,
      "outputs": [
        {
          "output_type": "execute_result",
          "data": {
            "application/vnd.google.colaboratory.intrinsic+json": {
              "type": "string"
            },
            "text/plain": [
              "'Peageot'"
            ]
          },
          "metadata": {},
          "execution_count": 60
        }
      ]
    },
    {
      "cell_type": "markdown",
      "source": [
        "## Create a movie object with four attributes and one method"
      ],
      "metadata": {
        "id": "UsKRzd8NCDtq"
      }
    },
    {
      "cell_type": "code",
      "source": [
        "class Movie:\n",
        "  def __init__(self, title, released, actor, mtype):\n",
        "    self.title = title\n",
        "    self.released = released\n",
        "    self.actor = actor\n",
        "    self.mtype = mtype\n",
        "  \n",
        "  def get_affiche(self):\n",
        "    print(f'This is {self.title} released in {self.released} and acted by {self.actor}.')"
      ],
      "metadata": {
        "id": "rk_vOh2VCW7z"
      },
      "execution_count": null,
      "outputs": []
    },
    {
      "cell_type": "code",
      "source": [
        "film_a = Movie('The Matrix', 1998, 'Tom Hunks', 'Action')"
      ],
      "metadata": {
        "id": "zPjkLMZeEpOD"
      },
      "execution_count": null,
      "outputs": []
    },
    {
      "cell_type": "code",
      "source": [
        "film_b = Movie('Casa de Papel', 2014, 'Jacque Long', 'Serie')"
      ],
      "metadata": {
        "id": "T-_J_wcqFHxb"
      },
      "execution_count": null,
      "outputs": []
    },
    {
      "cell_type": "code",
      "source": [
        "film_a.actor"
      ],
      "metadata": {
        "colab": {
          "base_uri": "https://localhost:8080/",
          "height": 35
        },
        "id": "QMKFL9iaFfwB",
        "outputId": "9118fc75-aa6a-4d3b-f154-4e373147ea54"
      },
      "execution_count": null,
      "outputs": [
        {
          "output_type": "execute_result",
          "data": {
            "application/vnd.google.colaboratory.intrinsic+json": {
              "type": "string"
            },
            "text/plain": [
              "'Tom Hunks'"
            ]
          },
          "metadata": {},
          "execution_count": 78
        }
      ]
    },
    {
      "cell_type": "code",
      "source": [
        "film_b.actor"
      ],
      "metadata": {
        "colab": {
          "base_uri": "https://localhost:8080/",
          "height": 35
        },
        "id": "hD8UL1L5FnDR",
        "outputId": "295fb0f9-aaad-4bee-8c7f-146aee973331"
      },
      "execution_count": null,
      "outputs": [
        {
          "output_type": "execute_result",
          "data": {
            "application/vnd.google.colaboratory.intrinsic+json": {
              "type": "string"
            },
            "text/plain": [
              "'Jacque Long'"
            ]
          },
          "metadata": {},
          "execution_count": 79
        }
      ]
    },
    {
      "cell_type": "code",
      "source": [
        "film_a.get_affiche()"
      ],
      "metadata": {
        "colab": {
          "base_uri": "https://localhost:8080/"
        },
        "id": "pZtx1PDhFwLr",
        "outputId": "6efdfa32-8de3-4e1d-f4aa-7a0d32dece80"
      },
      "execution_count": null,
      "outputs": [
        {
          "output_type": "stream",
          "name": "stdout",
          "text": [
            "This is The Matrix released in 1998 and acted by Tom Hunks.\n"
          ]
        }
      ]
    },
    {
      "cell_type": "code",
      "source": [
        "film_b.get_affiche()"
      ],
      "metadata": {
        "colab": {
          "base_uri": "https://localhost:8080/"
        },
        "id": "g9faG522GCH8",
        "outputId": "93168cad-e255-4182-83ac-eaa562d7e605"
      },
      "execution_count": null,
      "outputs": [
        {
          "output_type": "stream",
          "name": "stdout",
          "text": [
            "This is Casa de Papel released in 2014 and acted by Jacque Long.\n"
          ]
        }
      ]
    },
    {
      "cell_type": "code",
      "source": [
        "film_a.mtype"
      ],
      "metadata": {
        "colab": {
          "base_uri": "https://localhost:8080/",
          "height": 35
        },
        "id": "oeuV4oEfGg54",
        "outputId": "c60d2baf-3868-4726-8693-25eeaa64af40"
      },
      "execution_count": null,
      "outputs": [
        {
          "output_type": "execute_result",
          "data": {
            "application/vnd.google.colaboratory.intrinsic+json": {
              "type": "string"
            },
            "text/plain": [
              "'Action'"
            ]
          },
          "metadata": {},
          "execution_count": 83
        }
      ]
    },
    {
      "cell_type": "code",
      "source": [
        "film_b.mtype"
      ],
      "metadata": {
        "colab": {
          "base_uri": "https://localhost:8080/",
          "height": 35
        },
        "id": "2_CCchkGGhDi",
        "outputId": "7518f979-11b9-42d2-c8d3-d3739986c77a"
      },
      "execution_count": null,
      "outputs": [
        {
          "output_type": "execute_result",
          "data": {
            "application/vnd.google.colaboratory.intrinsic+json": {
              "type": "string"
            },
            "text/plain": [
              "'Serie'"
            ]
          },
          "metadata": {},
          "execution_count": 84
        }
      ]
    },
    {
      "cell_type": "markdown",
      "source": [
        "## Question 27: Class inherance with __super()__ or __abstact method__."
      ],
      "metadata": {
        "id": "oSoNqxvqn0Wi"
      }
    },
    {
      "cell_type": "code",
      "source": [
        "# a class blueprint\n",
        "class Vehicule:\n",
        "  # initialization function\n",
        "  def __init__(self, year):\n",
        "    self.year = year"
      ],
      "metadata": {
        "id": "J4r3K2q4n6pA"
      },
      "execution_count": 7,
      "outputs": []
    },
    {
      "cell_type": "code",
      "source": [
        "# Here we declare that the Moto class inherits form Vehicule class\n",
        "class Moto(Vehicule):\n",
        "  # Moto will have these attributes\n",
        "  def __init__(self, year, color, brand, max_velocity):\n",
        "    super().__init__(year)\n",
        "    self.color = color\n",
        "    self.brand = brand\n",
        "    self.max_velocity = max_velocity\n",
        "    # initialze the attribute wheels by getting value from get_numb_wheels()\n",
        "    self.wheels = self.get_wheels()\n",
        "\n",
        "    # our firs method\n",
        "  def get_speed(self):\n",
        "    if self.brand == 'Ferrari':\n",
        "      self.speed = 250\n",
        "    else:\n",
        "      self.speed = 120\n",
        "    return self.speed\n",
        "\n",
        "    # our third method\n",
        "  def get_wheels(self):\n",
        "    return 2"
      ],
      "metadata": {
        "id": "4tMDs8UHwolJ"
      },
      "execution_count": 8,
      "outputs": []
    },
    {
      "cell_type": "code",
      "source": [
        "my_moto = Moto(2015, 'Red', 'Yamaha', 125)"
      ],
      "metadata": {
        "colab": {
          "base_uri": "https://localhost:8080/",
          "height": 35
        },
        "id": "zqzGNgs-z-fR",
        "outputId": "e32485f5-21c4-4d9b-9319-ac72082ba227"
      },
      "execution_count": null,
      "outputs": [
        {
          "output_type": "execute_result",
          "data": {
            "application/vnd.google.colaboratory.intrinsic+json": {
              "type": "string"
            },
            "text/plain": [
              "'Yamaha'"
            ]
          },
          "metadata": {},
          "execution_count": 79
        }
      ]
    },
    {
      "cell_type": "code",
      "source": [
        "my_moto.brand"
      ],
      "metadata": {
        "colab": {
          "base_uri": "https://localhost:8080/",
          "height": 35
        },
        "id": "rsoLftx2WMEb",
        "outputId": "4650d3a9-31b6-42f2-a3bd-0416e39037ce"
      },
      "execution_count": 10,
      "outputs": [
        {
          "output_type": "execute_result",
          "data": {
            "application/vnd.google.colaboratory.intrinsic+json": {
              "type": "string"
            },
            "text/plain": [
              "'Yamaha'"
            ]
          },
          "metadata": {},
          "execution_count": 10
        }
      ]
    },
    {
      "cell_type": "code",
      "source": [
        "my_moto.get_speed()"
      ],
      "metadata": {
        "colab": {
          "base_uri": "https://localhost:8080/"
        },
        "id": "2AFlwbHmV_WE",
        "outputId": "176bfd60-1a24-4f57-b37e-6708aa6e54e2"
      },
      "execution_count": 9,
      "outputs": [
        {
          "output_type": "execute_result",
          "data": {
            "text/plain": [
              "120"
            ]
          },
          "metadata": {},
          "execution_count": 9
        }
      ]
    },
    {
      "cell_type": "code",
      "source": [
        "my_moto.color"
      ],
      "metadata": {
        "colab": {
          "base_uri": "https://localhost:8080/",
          "height": 35
        },
        "id": "_vGNs8SBWQVd",
        "outputId": "bae313db-6002-4884-cd31-29c75fde6f61"
      },
      "execution_count": 11,
      "outputs": [
        {
          "output_type": "execute_result",
          "data": {
            "application/vnd.google.colaboratory.intrinsic+json": {
              "type": "string"
            },
            "text/plain": [
              "'Red'"
            ]
          },
          "metadata": {},
          "execution_count": 11
        }
      ]
    },
    {
      "cell_type": "markdown",
      "source": [
        "#### Abstract Base Classes"
      ],
      "metadata": {
        "id": "OFmK35tewDNS"
      }
    },
    {
      "cell_type": "code",
      "source": [
        "# Define Vehicule class\n",
        "from abc import ABC, abstractmethod\n",
        "class Vehicule(ABC):\n",
        "  # should not be init\n",
        "\n",
        "  # add decorator \n",
        "  @abstractmethod \n",
        "  def get_speed(self):\n",
        "    pass\n",
        "    \n",
        "  # add decorator\n",
        "  @abstractmethod  \n",
        "  def get_wheels(self):\n",
        "    pass\n",
        "\n",
        "# Note : a Vehiecle can be a car, moto, truck bycle, ....."
      ],
      "metadata": {
        "id": "VMl3IhXxwEZc"
      },
      "execution_count": 1,
      "outputs": []
    },
    {
      "cell_type": "code",
      "source": [
        "# Here we declare that the Moto class inherits form Vehicule class\n",
        "class Moto(Vehicule):\n",
        "  # Moto will have these attributes\n",
        "  def __init__(self, year, color, brand, max_velocity):\n",
        "    self.year = year\n",
        "    self.color = color\n",
        "    self.brand = brand\n",
        "    self.max_velocity = max_velocity\n",
        "    # initialze the attribute wheels by getting value from get_numb_wheels()\n",
        "    self.wheels = self.get_wheels()\n",
        "\n",
        "    # our firs method\n",
        "  def get_speed(self):\n",
        "    if self.brand == 'Ferrari':\n",
        "      self.speed = 250\n",
        "    else:\n",
        "      self.speed = 120\n",
        "    return self.speed\n",
        "\n",
        "    # our third method\n",
        "  def get_wheels(self):\n",
        "    return 2"
      ],
      "metadata": {
        "id": "_zki6HVGpgNj"
      },
      "execution_count": 2,
      "outputs": []
    },
    {
      "cell_type": "code",
      "source": [
        "my_moto = Moto(2015, 'Red', 'Yamaha', 125)"
      ],
      "metadata": {
        "id": "YRTuYKgjtnrS"
      },
      "execution_count": 3,
      "outputs": []
    },
    {
      "cell_type": "code",
      "source": [
        "my_moto.color"
      ],
      "metadata": {
        "colab": {
          "base_uri": "https://localhost:8080/",
          "height": 35
        },
        "id": "5gOz8IoiUgjX",
        "outputId": "f19167c3-bd97-44fd-8c4f-ddb19c3c8d5d"
      },
      "execution_count": 4,
      "outputs": [
        {
          "output_type": "execute_result",
          "data": {
            "application/vnd.google.colaboratory.intrinsic+json": {
              "type": "string"
            },
            "text/plain": [
              "'Red'"
            ]
          },
          "metadata": {},
          "execution_count": 4
        }
      ]
    },
    {
      "cell_type": "code",
      "source": [
        "my_moto.wheels"
      ],
      "metadata": {
        "colab": {
          "base_uri": "https://localhost:8080/"
        },
        "id": "ITiFvm8EUmIe",
        "outputId": "f6c0c72f-f0fc-4529-d66b-8dbcd9f005dd"
      },
      "execution_count": 5,
      "outputs": [
        {
          "output_type": "execute_result",
          "data": {
            "text/plain": [
              "2"
            ]
          },
          "metadata": {},
          "execution_count": 5
        }
      ]
    },
    {
      "cell_type": "code",
      "source": [
        "my_moto.get_wheels()"
      ],
      "metadata": {
        "colab": {
          "base_uri": "https://localhost:8080/"
        },
        "id": "JFgNlGePUzLv",
        "outputId": "f7e7fadf-80d4-40d7-bb98-257498d1beec"
      },
      "execution_count": 6,
      "outputs": [
        {
          "output_type": "execute_result",
          "data": {
            "text/plain": [
              "2"
            ]
          },
          "metadata": {},
          "execution_count": 6
        }
      ]
    },
    {
      "cell_type": "markdown",
      "source": [
        "### Question 8: good code is like art... or not"
      ],
      "metadata": {
        "id": "rTVghwbn3d7U"
      }
    },
    {
      "cell_type": "code",
      "source": [
        "import numpy as np\n",
        "A= np.array(range(625)).reshape(25,25)\n",
        "print(A[::5,::5]) # Take element fith by fith"
      ],
      "metadata": {
        "colab": {
          "base_uri": "https://localhost:8080/"
        },
        "id": "SuRT5UVS4SoI",
        "outputId": "be5753dd-8a5c-4427-ce84-f39a1f56bf9f"
      },
      "execution_count": null,
      "outputs": [
        {
          "output_type": "stream",
          "name": "stdout",
          "text": [
            "[[  0   5  10  15  20]\n",
            " [125 130 135 140 145]\n",
            " [250 255 260 265 270]\n",
            " [375 380 385 390 395]\n",
            " [500 505 510 515 520]]\n"
          ]
        }
      ]
    }
  ]
}