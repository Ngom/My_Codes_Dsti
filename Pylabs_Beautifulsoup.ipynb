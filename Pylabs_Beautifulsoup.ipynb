{
  "nbformat": 4,
  "nbformat_minor": 0,
  "metadata": {
    "colab": {
      "name": "Pylabs_Beautifulsoup.ipynb",
      "provenance": [],
      "collapsed_sections": [],
      "mount_file_id": "153WCQ4C-Gt79xgd7tROMdVKZE-FrU9L_",
      "authorship_tag": "ABX9TyMB3nwq75L6C7Fvdxi/31G1",
      "include_colab_link": true
    },
    "kernelspec": {
      "name": "python3",
      "display_name": "Python 3"
    },
    "language_info": {
      "name": "python"
    }
  },
  "cells": [
    {
      "cell_type": "markdown",
      "metadata": {
        "id": "view-in-github",
        "colab_type": "text"
      },
      "source": [
        "<a href=\"https://colab.research.google.com/github/Ngom/My_Codes_Dsti/blob/main/Pylabs_Beautifulsoup.ipynb\" target=\"_parent\"><img src=\"https://colab.research.google.com/assets/colab-badge.svg\" alt=\"Open In Colab\"/></a>"
      ]
    },
    {
      "cell_type": "markdown",
      "metadata": {
        "id": "ghArypGwD3yy"
      },
      "source": [
        "# Web Crawling with Beautifulsoup"
      ]
    },
    {
      "cell_type": "code",
      "metadata": {
        "colab": {
          "base_uri": "https://localhost:8080/"
        },
        "id": "0w4LmCgLIMq4",
        "outputId": "486a3da3-813c-4702-8c05-79fc9e618203"
      },
      "source": [
        "# mount the drive from google drive\n",
        "from google.colab import drive\n",
        "drive.mount(\"/content/drive/\")"
      ],
      "execution_count": 1,
      "outputs": [
        {
          "output_type": "stream",
          "name": "stdout",
          "text": [
            "Drive already mounted at /content/drive/; to attempt to forcibly remount, call drive.mount(\"/content/drive/\", force_remount=True).\n"
          ]
        }
      ]
    },
    {
      "cell_type": "code",
      "metadata": {
        "id": "mXjKebmfI14v",
        "colab": {
          "base_uri": "https://localhost:8080/"
        },
        "outputId": "ed9bbcf3-e848-4060-ef97-969700131457"
      },
      "source": [
        "# Install beautifulsoup4\n",
        "!pip install bs4\n",
        "# Install requests\n",
        "!pip install requests\n",
        "# Install lxml\n",
        "!pip install lxml"
      ],
      "execution_count": 2,
      "outputs": [
        {
          "output_type": "stream",
          "name": "stdout",
          "text": [
            "Requirement already satisfied: bs4 in /usr/local/lib/python3.7/dist-packages (0.0.1)\n",
            "Requirement already satisfied: beautifulsoup4 in /usr/local/lib/python3.7/dist-packages (from bs4) (4.6.3)\n",
            "Requirement already satisfied: requests in /usr/local/lib/python3.7/dist-packages (2.23.0)\n",
            "Requirement already satisfied: urllib3!=1.25.0,!=1.25.1,<1.26,>=1.21.1 in /usr/local/lib/python3.7/dist-packages (from requests) (1.24.3)\n",
            "Requirement already satisfied: chardet<4,>=3.0.2 in /usr/local/lib/python3.7/dist-packages (from requests) (3.0.4)\n",
            "Requirement already satisfied: idna<3,>=2.5 in /usr/local/lib/python3.7/dist-packages (from requests) (2.10)\n",
            "Requirement already satisfied: certifi>=2017.4.17 in /usr/local/lib/python3.7/dist-packages (from requests) (2021.10.8)\n",
            "Requirement already satisfied: lxml in /usr/local/lib/python3.7/dist-packages (4.2.6)\n"
          ]
        }
      ]
    },
    {
      "cell_type": "code",
      "metadata": {
        "id": "BWAtwp76EB2a"
      },
      "source": [
        "#Importing the libraries\n",
        "from bs4 import BeautifulSoup\n",
        "import requests"
      ],
      "execution_count": 3,
      "outputs": []
    },
    {
      "cell_type": "code",
      "metadata": {
        "colab": {
          "base_uri": "https://localhost:8080/"
        },
        "id": "Q14_sfs_E-gJ",
        "outputId": "f4bb3255-b66c-46a2-aa99-ca61f1b62d2c"
      },
      "source": [
        "# delare url string\n",
        "my_url = 'https://realpython.github.io/fake-jobs/' # Webpage for job tech\n",
        "# fetch the url\n",
        "my_page = requests.get(my_url)\n",
        "#get status code \n",
        "my_page.status_code # if 200 = ok  & if 404 = Not Ok"
      ],
      "execution_count": 4,
      "outputs": [
        {
          "output_type": "execute_result",
          "data": {
            "text/plain": [
              "200"
            ]
          },
          "metadata": {},
          "execution_count": 4
        }
      ]
    },
    {
      "cell_type": "code",
      "metadata": {
        "colab": {
          "base_uri": "https://localhost:8080/"
        },
        "id": "D5yY9EPSNed4",
        "outputId": "ccde2d64-03dd-4b4e-fbe7-cfd5f157d1fb"
      },
      "source": [
        "#get the headers\n",
        "my_page.headers "
      ],
      "execution_count": 5,
      "outputs": [
        {
          "output_type": "execute_result",
          "data": {
            "text/plain": [
              "{'Connection': 'keep-alive', 'Content-Length': '5721', 'Server': 'GitHub.com', 'Content-Type': 'text/html; charset=utf-8', 'permissions-policy': 'interest-cohort=()', 'Last-Modified': 'Mon, 12 Apr 2021 09:01:55 GMT', 'Access-Control-Allow-Origin': '*', 'ETag': 'W/\"60740c83-197ed\"', 'expires': 'Thu, 25 Nov 2021 21:19:48 GMT', 'Cache-Control': 'max-age=600', 'Content-Encoding': 'gzip', 'x-proxy-cache': 'MISS', 'X-GitHub-Request-Id': 'A738:5770:5E1077:90D3B5:619FFB9C', 'Accept-Ranges': 'bytes', 'Date': 'Thu, 25 Nov 2021 21:09:48 GMT', 'Via': '1.1 varnish', 'Age': '0', 'X-Served-By': 'cache-iad-kiad7000043-IAD', 'X-Cache': 'MISS', 'X-Cache-Hits': '0', 'X-Timer': 'S1637874588.377008,VS0,VE9', 'Vary': 'Accept-Encoding', 'X-Fastly-Request-ID': '8fbd5329ed9e7717c2f9c6a135a7670a4bc3a698'}"
            ]
          },
          "metadata": {},
          "execution_count": 5
        }
      ]
    },
    {
      "cell_type": "code",
      "metadata": {
        "id": "wUFhVLB_FGCN",
        "colab": {
          "base_uri": "https://localhost:8080/"
        },
        "outputId": "3b6d32b2-2243-48f2-d92f-799e6c179edc"
      },
      "source": [
        "# to get text in the resquest\n",
        "content = my_page.text\n",
        "# Show the type\n",
        "type(content)"
      ],
      "execution_count": 6,
      "outputs": [
        {
          "output_type": "execute_result",
          "data": {
            "text/plain": [
              "str"
            ]
          },
          "metadata": {},
          "execution_count": 6
        }
      ]
    },
    {
      "cell_type": "code",
      "metadata": {
        "id": "J_hr-KK8PQeI",
        "colab": {
          "base_uri": "https://localhost:8080/"
        },
        "outputId": "5fc20f8a-23b0-44c2-9496-2ca8e6a0471c"
      },
      "source": [
        "# print the 1105 first characters\n",
        "print(content[0:1105])"
      ],
      "execution_count": 7,
      "outputs": [
        {
          "output_type": "stream",
          "name": "stdout",
          "text": [
            "<!DOCTYPE html>\n",
            "<html>\n",
            "  <head>\n",
            "    <meta charset=\"utf-8\">\n",
            "    <meta name=\"viewport\" content=\"width=device-width, initial-scale=1\">\n",
            "    <title>Fake Python</title>\n",
            "    <link rel=\"stylesheet\" href=\"https://cdn.jsdelivr.net/npm/bulma@0.9.2/css/bulma.min.css\">\n",
            "  </head>\n",
            "  <body>\n",
            "  <section class=\"section\">\n",
            "    <div class=\"container mb-5\">\n",
            "      <h1 class=\"title is-1\">\n",
            "        Fake Python\n",
            "      </h1>\n",
            "      <p class=\"subtitle is-3\">\n",
            "        Fake Jobs for Your Web Scraping Journey\n",
            "      </p>\n",
            "    </div>\n",
            "    <div class=\"container\">\n",
            "    <div id=\"ResultsContainer\" class=\"columns is-multiline\">\n",
            "    <div class=\"column is-half\">\n",
            "<div class=\"card\">\n",
            "  <div class=\"card-content\">\n",
            "    <div class=\"media\">\n",
            "      <div class=\"media-left\">\n",
            "        <figure class=\"image is-48x48\">\n",
            "          <img src=\"https://files.realpython.com/media/real-python-logo-thumbnail.7f0db70c2ed2.jpg?__no_cf_polish=1\" alt=\"Real Python Logo\">\n",
            "        </figure>\n",
            "      </div>\n",
            "      <div class=\"media-content\">\n",
            "        <h2 class=\"title is-5\">Senior Python Developer</h2>\n",
            "        <h3 class=\"subtitle is-6 company\">Payne, Roberts and Davis</h3>\n",
            " \n"
          ]
        }
      ]
    },
    {
      "cell_type": "code",
      "metadata": {
        "id": "JSE_54GyF1G0"
      },
      "source": [
        "# create a soup object from the content\n",
        "soup = BeautifulSoup(content, 'lxml') # args are sting and html-parser"
      ],
      "execution_count": 8,
      "outputs": []
    },
    {
      "cell_type": "code",
      "metadata": {
        "id": "zUcTAhRsR-ka"
      },
      "source": [
        "# get soup witth prettify()\n",
        "# print(soup.prettify())"
      ],
      "execution_count": 9,
      "outputs": []
    },
    {
      "cell_type": "code",
      "metadata": {
        "id": "y6-K_u0WGF0V",
        "colab": {
          "base_uri": "https://localhost:8080/"
        },
        "outputId": "8b776554-a061-4d18-9a04-afaa052aebac"
      },
      "source": [
        "# return title\n",
        "soup.title"
      ],
      "execution_count": 10,
      "outputs": [
        {
          "output_type": "execute_result",
          "data": {
            "text/plain": [
              "<title>Fake Python</title>"
            ]
          },
          "metadata": {},
          "execution_count": 10
        }
      ]
    },
    {
      "cell_type": "code",
      "metadata": {
        "colab": {
          "base_uri": "https://localhost:8080/",
          "height": 35
        },
        "id": "CQ9Wk2lZJlzA",
        "outputId": "78d6f9b8-b574-4997-9e29-3d1f4d4bd2c4"
      },
      "source": [
        "# return title name\n",
        "soup.title.name"
      ],
      "execution_count": 11,
      "outputs": [
        {
          "output_type": "execute_result",
          "data": {
            "application/vnd.google.colaboratory.intrinsic+json": {
              "type": "string"
            },
            "text/plain": [
              "'title'"
            ]
          },
          "metadata": {},
          "execution_count": 11
        }
      ]
    },
    {
      "cell_type": "code",
      "metadata": {
        "colab": {
          "base_uri": "https://localhost:8080/"
        },
        "id": "rrDr6w96J4H5",
        "outputId": "7c4c7b29-81e1-4306-c546-2c08aecfd9a3"
      },
      "source": [
        "# find all \"h2\"\n",
        "all_h2 = soup.find_all('h2')\n",
        "# list 5 first elements\n",
        "all_h2[0:5] "
      ],
      "execution_count": 12,
      "outputs": [
        {
          "output_type": "execute_result",
          "data": {
            "text/plain": [
              "[<h2 class=\"title is-5\">Senior Python Developer</h2>,\n",
              " <h2 class=\"title is-5\">Energy engineer</h2>,\n",
              " <h2 class=\"title is-5\">Legal executive</h2>,\n",
              " <h2 class=\"title is-5\">Fitness centre manager</h2>,\n",
              " <h2 class=\"title is-5\">Product manager</h2>]"
            ]
          },
          "metadata": {},
          "execution_count": 12
        }
      ]
    },
    {
      "cell_type": "code",
      "metadata": {
        "colab": {
          "base_uri": "https://localhost:8080/"
        },
        "id": "U68KVbk2aqce",
        "outputId": "5f18acea-25ae-43b2-8e69-a264d54de77e"
      },
      "source": [
        "# check type\n",
        "type(all_h2)"
      ],
      "execution_count": 13,
      "outputs": [
        {
          "output_type": "execute_result",
          "data": {
            "text/plain": [
              "bs4.element.ResultSet"
            ]
          },
          "metadata": {},
          "execution_count": 13
        }
      ]
    },
    {
      "cell_type": "code",
      "metadata": {
        "colab": {
          "base_uri": "https://localhost:8080/"
        },
        "id": "ZdalFO9sfaGg",
        "outputId": "890b1e3f-23e8-4950-ff3e-621204706c1a"
      },
      "source": [
        "# check element type\n",
        "type(all_h2[0]) # tag"
      ],
      "execution_count": 14,
      "outputs": [
        {
          "output_type": "execute_result",
          "data": {
            "text/plain": [
              "bs4.element.Tag"
            ]
          },
          "metadata": {},
          "execution_count": 14
        }
      ]
    },
    {
      "cell_type": "code",
      "metadata": {
        "colab": {
          "base_uri": "https://localhost:8080/",
          "height": 35
        },
        "id": "uHT6I1Pma4AH",
        "outputId": "2f3481eb-0370-416d-a89a-ef0411c4055c"
      },
      "source": [
        "# use .string method extract text from tags\n",
        "all_h2[0].string"
      ],
      "execution_count": 15,
      "outputs": [
        {
          "output_type": "execute_result",
          "data": {
            "application/vnd.google.colaboratory.intrinsic+json": {
              "type": "string"
            },
            "text/plain": [
              "'Senior Python Developer'"
            ]
          },
          "metadata": {},
          "execution_count": 15
        }
      ]
    },
    {
      "cell_type": "code",
      "metadata": {
        "id": "4CrNIGRQaw7n",
        "colab": {
          "base_uri": "https://localhost:8080/",
          "height": 35
        },
        "outputId": "53cfffc1-f027-4c1a-8233-c85487029394"
      },
      "source": [
        "all_h2[1].string"
      ],
      "execution_count": 16,
      "outputs": [
        {
          "output_type": "execute_result",
          "data": {
            "application/vnd.google.colaboratory.intrinsic+json": {
              "type": "string"
            },
            "text/plain": [
              "'Energy engineer'"
            ]
          },
          "metadata": {},
          "execution_count": 16
        }
      ]
    },
    {
      "cell_type": "code",
      "metadata": {
        "colab": {
          "base_uri": "https://localhost:8080/"
        },
        "id": "Wu7k6HvJL9hT",
        "outputId": "8c019a55-c204-407c-9ac2-010f87ad7029"
      },
      "source": [
        "# loop throught tag element of all_h2 to extract text\n",
        "for element in all_h2:\n",
        "  print(element.string)"
      ],
      "execution_count": 17,
      "outputs": [
        {
          "output_type": "stream",
          "name": "stdout",
          "text": [
            "Senior Python Developer\n",
            "Energy engineer\n",
            "Legal executive\n",
            "Fitness centre manager\n",
            "Product manager\n",
            "Medical technical officer\n",
            "Physiological scientist\n",
            "Textile designer\n",
            "Television floor manager\n",
            "Waste management officer\n",
            "Software Engineer (Python)\n",
            "Interpreter\n",
            "Architect\n",
            "Meteorologist\n",
            "Audiological scientist\n",
            "English as a second language teacher\n",
            "Surgeon\n",
            "Equities trader\n",
            "Newspaper journalist\n",
            "Materials engineer\n",
            "Python Programmer (Entry-Level)\n",
            "Product/process development scientist\n",
            "Scientist, research (maths)\n",
            "Ecologist\n",
            "Materials engineer\n",
            "Historic buildings inspector/conservation officer\n",
            "Data scientist\n",
            "Psychiatrist\n",
            "Structural engineer\n",
            "Immigration officer\n",
            "Python Programmer (Entry-Level)\n",
            "Neurosurgeon\n",
            "Broadcast engineer\n",
            "Make\n",
            "Nurse, adult\n",
            "Air broker\n",
            "Editor, film/video\n",
            "Production assistant, radio\n",
            "Engineer, communications\n",
            "Sales executive\n",
            "Software Developer (Python)\n",
            "Futures trader\n",
            "Tour manager\n",
            "Cytogeneticist\n",
            "Designer, multimedia\n",
            "Trade union research officer\n",
            "Chemist, analytical\n",
            "Programmer, multimedia\n",
            "Engineer, broadcasting (operations)\n",
            "Teacher, primary school\n",
            "Python Developer\n",
            "Manufacturing systems engineer\n",
            "Producer, television/film/video\n",
            "Scientist, forensic\n",
            "Bonds trader\n",
            "Editorial assistant\n",
            "Photographer\n",
            "Retail banker\n",
            "Jewellery designer\n",
            "Ophthalmologist\n",
            "Back-End Web Developer (Python, Django)\n",
            "Licensed conveyancer\n",
            "Futures trader\n",
            "Counselling psychologist\n",
            "Insurance underwriter\n",
            "Engineer, automotive\n",
            "Producer, radio\n",
            "Dispensing optician\n",
            "Designer, fashion/clothing\n",
            "Chartered loss adjuster\n",
            "Back-End Web Developer (Python, Django)\n",
            "Forest/woodland manager\n",
            "Clinical cytogeneticist\n",
            "Print production planner\n",
            "Systems developer\n",
            "Graphic designer\n",
            "Writer\n",
            "Field seismologist\n",
            "Chief Strategy Officer\n",
            "Air cabin crew\n",
            "Python Programmer (Entry-Level)\n",
            "Warden/ranger\n",
            "Sports therapist\n",
            "Arts development officer\n",
            "Printmaker\n",
            "Health and safety adviser\n",
            "Manufacturing systems engineer\n",
            "Programmer, applications\n",
            "Medical physicist\n",
            "Media planner\n",
            "Software Developer (Python)\n",
            "Surveyor, land/geomatics\n",
            "Legal executive\n",
            "Librarian, academic\n",
            "Barrister\n",
            "Museum/gallery exhibitions officer\n",
            "Radiographer, diagnostic\n",
            "Database administrator\n",
            "Furniture designer\n",
            "Ship broker\n"
          ]
        }
      ]
    },
    {
      "cell_type": "code",
      "metadata": {
        "id": "qSGU95iUSzSa"
      },
      "source": [
        "# create a function that extract all_h2 text\n",
        "def extract_text(result_text):\n",
        "  \"\"\"\n",
        "  Acecepts URL, retrieves a webpage and generates a bs4 objects.\n",
        "  requires the 'requests' module \n",
        "  \"\"\"\n",
        "  # return defined as a list comprehension\n",
        "  return [element.string for element in result_text]"
      ],
      "execution_count": 18,
      "outputs": []
    },
    {
      "cell_type": "code",
      "metadata": {
        "colab": {
          "base_uri": "https://localhost:8080/"
        },
        "id": "yGHlbVBrYVjA",
        "outputId": "82f9fb6e-e5d1-48d5-b84d-f2b53ac5f1af"
      },
      "source": [
        "# Exrtat text by testing extract_text function\n",
        "all_jobs = extract_text(all_h2)\n",
        "\n",
        "# print the first five jobs of crawled :\n",
        "for i in range(5):\n",
        "  print(all_jobs[i])"
      ],
      "execution_count": 19,
      "outputs": [
        {
          "output_type": "stream",
          "name": "stdout",
          "text": [
            "Senior Python Developer\n",
            "Energy engineer\n",
            "Legal executive\n",
            "Fitness centre manager\n",
            "Product manager\n"
          ]
        }
      ]
    },
    {
      "cell_type": "code",
      "metadata": {
        "id": "YjPIi6LogHZ2"
      },
      "source": [
        "# store the data in csv file\n",
        "import pandas as pd # import pandas \n",
        "# create a dictionary with jobs crawled\n",
        "dico_data = {\"jobs\":all_jobs}\n",
        "# put data in pandas DataFrame\n",
        "data_crawled = pd.DataFrame(dico_data)\n",
        "# import data in csv\n",
        "data_crawled.to_csv(\"/content/drive/MyDrive/crawled_dataset.csv\", sep=\";\")"
      ],
      "execution_count": 97,
      "outputs": []
    },
    {
      "cell_type": "markdown",
      "metadata": {
        "id": "-X2nds0Gfzbz"
      },
      "source": [
        "## Crawl data and store as dictionnary with job and location"
      ]
    },
    {
      "cell_type": "code",
      "metadata": {
        "id": "pq-WoqKNhgMA"
      },
      "source": [
        "# extractor function\n",
        "def extractor(url,tag):\n",
        "  page = requests.get(url)\n",
        "  soup = BeautifulSoup(page.text, 'lxml')\n",
        "  tags = soup.find_all(tag)\n",
        "  return [element.string for element in tags]"
      ],
      "execution_count": 55,
      "outputs": []
    },
    {
      "cell_type": "code",
      "metadata": {
        "colab": {
          "base_uri": "https://localhost:8080/"
        },
        "id": "5Xk5-S9RlAUQ",
        "outputId": "7b33fbb7-1511-450b-aaee-7658f4c6dc0a"
      },
      "source": [
        "# get all all h3\n",
        "all_h3 = extractor('https://realpython.github.io/fake-jobs/',\"h3\")\n",
        "# first five first element of all_h3\n",
        "all_h3[0:5]"
      ],
      "execution_count": 56,
      "outputs": [
        {
          "output_type": "execute_result",
          "data": {
            "text/plain": [
              "['Payne, Roberts and Davis',\n",
              " 'Vasquez-Davidson',\n",
              " 'Jackson, Chambers and Levy',\n",
              " 'Savage-Bradley',\n",
              " 'Ramirez Inc']"
            ]
          },
          "metadata": {},
          "execution_count": 56
        }
      ]
    },
    {
      "cell_type": "code",
      "metadata": {
        "id": "d4HcLBiUlsuF"
      },
      "source": [
        "# declare empty dictionary\n",
        "my_dict ={}\n",
        "# store all h2 and all h3\n",
        "h2_list = extractor(my_url,\"h2\")\n",
        "h3_list = extractor(my_url,\"h3\")"
      ],
      "execution_count": 57,
      "outputs": []
    },
    {
      "cell_type": "code",
      "metadata": {
        "id": "PL-A69-InNmo"
      },
      "source": [
        "# fill the dictionary by looping throught the lists\n",
        "for i in range(len(h2_list)):\n",
        "  key = h2_list[i] \n",
        "  value = h3_list[i]\n",
        "  my_dict[key] = value"
      ],
      "execution_count": 61,
      "outputs": []
    },
    {
      "cell_type": "code",
      "metadata": {
        "colab": {
          "base_uri": "https://localhost:8080/"
        },
        "id": "MDy6G7_xrBDQ",
        "outputId": "f7f1de73-f0de-4e87-f14f-69767da583c2"
      },
      "source": [
        "# loop throught keys (jobs) and print locations (values)\n",
        "for key in my_dict.keys():\n",
        "  print(my_dict[key])"
      ],
      "execution_count": 63,
      "outputs": [
        {
          "output_type": "stream",
          "name": "stdout",
          "text": [
            "Payne, Roberts and Davis\n",
            "Vasquez-Davidson\n",
            "Jackson, Chambers and Levy\n",
            "Savage-Bradley\n",
            "Ramirez Inc\n",
            "Rogers-Yates\n",
            "Kramer-Klein\n",
            "Meyers-Johnson\n",
            "Hughes-Williams\n",
            "Jones, Williams and Villa\n",
            "Garcia PLC\n",
            "Gregory and Sons\n",
            "Clark, Garcia and Sosa\n",
            "Bush PLC\n",
            "Salazar-Meyers\n",
            "Parker, Murphy and Brooks\n",
            "Cruz-Brown\n",
            "Macdonald-Ferguson\n",
            "Williams, Peterson and Rojas\n",
            "Smith and Sons\n",
            "Moss, Duncan and Allen\n",
            "Gomez-Carroll\n",
            "Manning, Welch and Herring\n",
            "Lee, Gutierrez and Brown\n",
            "Davis, Serrano and Cook\n",
            "Smith LLC\n",
            "Thomas Group\n",
            "Silva-King\n",
            "Pierce-Long\n",
            "Walker-Simpson\n",
            "Cooper and Sons\n",
            "Donovan, Gonzalez and Figueroa\n",
            "Morgan, Butler and Bennett\n",
            "Snyder-Lee\n",
            "Harris PLC\n",
            "Washington PLC\n",
            "Brown, Price and Campbell\n",
            "Mcgee PLC\n",
            "Dixon Inc\n",
            "Thompson, Sheppard and Ward\n",
            "Adams-Brewer\n",
            "Schneider-Brady\n",
            "Gonzales-Frank\n",
            "Smith-Wong\n",
            "Pierce-Herrera\n",
            "Aguilar, Rivera and Quinn\n",
            "Lowe, Barnes and Thomas\n",
            "Lewis, Gonzalez and Vasquez\n",
            "Taylor PLC\n",
            "Oliver, Jones and Ramirez\n",
            "Rivera and Sons\n",
            "Garcia PLC\n",
            "Johnson, Wells and Kramer\n",
            "Gonzalez LLC\n",
            "Morgan, White and Macdonald\n",
            "Robinson-Fitzpatrick\n",
            "Waters, Wilson and Hoover\n",
            "Hill LLC\n",
            "Li-Gregory\n",
            "Fisher, Ryan and Coleman\n",
            "Stewart-Alexander\n",
            "Abbott and Sons\n",
            "Bryant, Santana and Davenport\n",
            "Smith PLC\n",
            "Patterson-Singh\n",
            "Martinez-Berry\n",
            "May, Taylor and Fisher\n",
            "Bailey, Owen and Thompson\n",
            "Vasquez Ltd\n",
            "Leblanc LLC\n",
            "Jackson, Ali and Mckee\n",
            "Blankenship, Knight and Powell\n",
            "Patton, Haynes and Jones\n",
            "Wood Inc\n",
            "Collins Group\n",
            "Flores-Nelson\n",
            "Mitchell, Jones and Olson\n",
            "Howard Group\n",
            "Kramer-Edwards\n",
            "Berry-Houston\n",
            "Mathews Inc\n",
            "Riley-Johnson\n",
            "Spencer and Sons\n",
            "Camacho-Sanchez\n",
            "Oliver and Sons\n",
            "Eaton PLC\n",
            "Stanley-Frederick\n",
            "Bradley LLC\n",
            "Parker, Goodwin and Zavala\n",
            "Kim-Miles\n",
            "Moreno-Rodriguez\n",
            "Brown-Ortiz\n",
            "Hartman PLC\n",
            "Brooks Inc\n",
            "Washington-Castillo\n",
            "Nguyen, Yoder and Petty\n",
            "Holder LLC\n",
            "Yates-Ferguson\n",
            "Ortega-Lawrence\n",
            "Fuentes, Walls and Castro\n",
            "Payne, Roberts and Davis\n",
            "Vasquez-Davidson\n",
            "Hartman PLC\n",
            "Savage-Bradley\n",
            "Ramirez Inc\n",
            "Rogers-Yates\n",
            "Kramer-Klein\n",
            "Meyers-Johnson\n",
            "Hughes-Williams\n",
            "Jones, Williams and Villa\n",
            "Garcia PLC\n",
            "Gregory and Sons\n",
            "Clark, Garcia and Sosa\n",
            "Bush PLC\n",
            "Salazar-Meyers\n",
            "Parker, Murphy and Brooks\n",
            "Cruz-Brown\n",
            "Macdonald-Ferguson\n",
            "Williams, Peterson and Rojas\n",
            "Davis, Serrano and Cook\n",
            "Mathews Inc\n",
            "Gomez-Carroll\n",
            "Manning, Welch and Herring\n",
            "Lee, Gutierrez and Brown\n",
            "Smith LLC\n",
            "Thomas Group\n",
            "Silva-King\n",
            "Pierce-Long\n",
            "Walker-Simpson\n",
            "Donovan, Gonzalez and Figueroa\n",
            "Morgan, Butler and Bennett\n",
            "Snyder-Lee\n",
            "Harris PLC\n",
            "Washington PLC\n",
            "Brown, Price and Campbell\n",
            "Mcgee PLC\n",
            "Dixon Inc\n",
            "Thompson, Sheppard and Ward\n",
            "Moreno-Rodriguez\n",
            "Bryant, Santana and Davenport\n",
            "Gonzales-Frank\n",
            "Smith-Wong\n",
            "Pierce-Herrera\n",
            "Aguilar, Rivera and Quinn\n",
            "Lowe, Barnes and Thomas\n",
            "Lewis, Gonzalez and Vasquez\n",
            "Taylor PLC\n",
            "Oliver, Jones and Ramirez\n",
            "Rivera and Sons\n",
            "Stanley-Frederick\n",
            "Johnson, Wells and Kramer\n",
            "Gonzalez LLC\n",
            "Morgan, White and Macdonald\n",
            "Robinson-Fitzpatrick\n",
            "Waters, Wilson and Hoover\n",
            "Hill LLC\n",
            "Li-Gregory\n",
            "Fisher, Ryan and Coleman\n",
            "Jackson, Ali and Mckee\n",
            "Abbott and Sons\n",
            "Smith PLC\n",
            "Patterson-Singh\n",
            "Martinez-Berry\n",
            "May, Taylor and Fisher\n",
            "Bailey, Owen and Thompson\n",
            "Vasquez Ltd\n",
            "Leblanc LLC\n",
            "Blankenship, Knight and Powell\n",
            "Patton, Haynes and Jones\n",
            "Wood Inc\n",
            "Collins Group\n",
            "Flores-Nelson\n",
            "Mitchell, Jones and Olson\n",
            "Howard Group\n",
            "Kramer-Edwards\n",
            "Berry-Houston\n",
            "Riley-Johnson\n",
            "Spencer and Sons\n",
            "Camacho-Sanchez\n",
            "Oliver and Sons\n",
            "Eaton PLC\n",
            "Bradley LLC\n",
            "Parker, Goodwin and Zavala\n",
            "Kim-Miles\n",
            "Brown-Ortiz\n",
            "Brooks Inc\n",
            "Washington-Castillo\n",
            "Nguyen, Yoder and Petty\n",
            "Holder LLC\n",
            "Yates-Ferguson\n",
            "Ortega-Lawrence\n",
            "Fuentes, Walls and Castro\n"
          ]
        }
      ]
    },
    {
      "cell_type": "code",
      "metadata": {
        "id": "qDBqYt5NBzAZ"
      },
      "source": [
        "# convert my_dict as dataframe\n",
        "data = pd.DataFrame(my_dict.items(),columns = ['Jobs','Locations'])"
      ],
      "execution_count": 73,
      "outputs": []
    },
    {
      "cell_type": "code",
      "metadata": {
        "id": "FBYeRy6YBzXz"
      },
      "source": [
        "# impor data as csv\n",
        "data.to_csv(\"/content/drive/MyDrive/crawled_jobs.csv\", sep=\";\")"
      ],
      "execution_count": 75,
      "outputs": []
    },
    {
      "cell_type": "markdown",
      "metadata": {
        "id": "RIJpXG3buPn2"
      },
      "source": [
        "# Extract images "
      ]
    },
    {
      "cell_type": "code",
      "metadata": {
        "id": "MpJW5UKnHM-z"
      },
      "source": [
        "# extractor function\n",
        "def img_extractor(url,tag):\n",
        "  page = requests.get(url)\n",
        "  soup = BeautifulSoup(page.text, 'lxml')\n",
        "  tags = soup.find_all(tag)\n",
        "  # To access to image from tag\n",
        "  return ([element['src'] for element in tags], [element['alt'] for element in tags])"
      ],
      "execution_count": 88,
      "outputs": []
    },
    {
      "cell_type": "code",
      "metadata": {
        "id": "KbXWjXqkuTsY"
      },
      "source": [
        "# find all \"img\" alternate associed\n",
        "all_img, alt_img = img_extractor('https://realpython.github.io/fake-jobs/','img')"
      ],
      "execution_count": 98,
      "outputs": []
    },
    {
      "cell_type": "code",
      "metadata": {
        "colab": {
          "base_uri": "https://localhost:8080/"
        },
        "id": "jLGqTjOQxbAM",
        "outputId": "88305c48-d387-4a3d-b126-fa6d6db01af9"
      },
      "source": [
        "# get five first img elements\n",
        "all_img[0:5]"
      ],
      "execution_count": 90,
      "outputs": [
        {
          "output_type": "execute_result",
          "data": {
            "text/plain": [
              "['https://files.realpython.com/media/real-python-logo-thumbnail.7f0db70c2ed2.jpg?__no_cf_polish=1',\n",
              " 'https://files.realpython.com/media/real-python-logo-thumbnail.7f0db70c2ed2.jpg?__no_cf_polish=1',\n",
              " 'https://files.realpython.com/media/real-python-logo-thumbnail.7f0db70c2ed2.jpg?__no_cf_polish=1',\n",
              " 'https://files.realpython.com/media/real-python-logo-thumbnail.7f0db70c2ed2.jpg?__no_cf_polish=1',\n",
              " 'https://files.realpython.com/media/real-python-logo-thumbnail.7f0db70c2ed2.jpg?__no_cf_polish=1']"
            ]
          },
          "metadata": {},
          "execution_count": 90
        }
      ]
    },
    {
      "cell_type": "code",
      "metadata": {
        "colab": {
          "base_uri": "https://localhost:8080/"
        },
        "id": "WdV0wvwOxlQR",
        "outputId": "02098dcc-a96a-4583-cd14-cdfaf9ee2fdf"
      },
      "source": [
        "# get five first alt_img elements\n",
        "alt_img[0:5]"
      ],
      "execution_count": 91,
      "outputs": [
        {
          "output_type": "execute_result",
          "data": {
            "text/plain": [
              "['Real Python Logo',\n",
              " 'Real Python Logo',\n",
              " 'Real Python Logo',\n",
              " 'Real Python Logo',\n",
              " 'Real Python Logo']"
            ]
          },
          "metadata": {},
          "execution_count": 91
        }
      ]
    },
    {
      "cell_type": "code",
      "metadata": {
        "id": "dYyiREmz0_3q"
      },
      "source": [
        "# Create the dict with altenate and img\n",
        "my_dict2 = {'alternate':alt_img, 'link':all_img}"
      ],
      "execution_count": 93,
      "outputs": []
    },
    {
      "cell_type": "code",
      "metadata": {
        "id": "aBkVRGo40ZEN"
      },
      "source": [
        "# create the data frame \n",
        "data_img = pd.DataFrame(my_dict2)"
      ],
      "execution_count": 94,
      "outputs": []
    },
    {
      "cell_type": "code",
      "metadata": {
        "id": "DEBOAPz46YCg"
      },
      "source": [
        "# store the images in csv file\n",
        "data_img.to_csv(\"/content/drive/MyDrive/crawled_img_dataset.csv\", sep=\";\")"
      ],
      "execution_count": 96,
      "outputs": []
    },
    {
      "cell_type": "markdown",
      "metadata": {
        "id": "9BdLUCHh6p1w"
      },
      "source": [
        "Go to www.apec.fr and play game once :\n",
        "\n",
        "- search keyword : \"data scientist\"\n",
        "- check struture of the page\n",
        "- look at the offers window\n"
      ]
    }
  ]
}