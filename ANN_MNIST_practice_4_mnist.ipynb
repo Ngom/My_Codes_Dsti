{
  "nbformat": 4,
  "nbformat_minor": 0,
  "metadata": {
    "colab": {
      "name": "ANN_MNIST_practice_4_mnist.ipynb",
      "private_outputs": true,
      "provenance": [],
      "authorship_tag": "ABX9TyPOcnZ+ZnOa+W2NvyIfR4iX",
      "include_colab_link": true
    },
    "kernelspec": {
      "name": "python3",
      "display_name": "Python 3"
    },
    "language_info": {
      "name": "python"
    },
    "accelerator": "GPU"
  },
  "cells": [
    {
      "cell_type": "markdown",
      "metadata": {
        "id": "view-in-github",
        "colab_type": "text"
      },
      "source": [
        "<a href=\"https://colab.research.google.com/github/Ngom/My_Codes_Dsti/blob/main/ANN_MNIST_practice_4_mnist.ipynb\" target=\"_parent\"><img src=\"https://colab.research.google.com/assets/colab-badge.svg\" alt=\"Open In Colab\"/></a>"
      ]
    },
    {
      "cell_type": "code",
      "execution_count": null,
      "metadata": {
        "id": "U3JXS4iqZ9wP"
      },
      "outputs": [],
      "source": [
        "# install not preinstall libraries for colab\n",
        "!pip install patchify\n",
        "!pip install tensorflow-gpu"
      ]
    },
    {
      "cell_type": "code",
      "source": [
        "# import needed libraries\n",
        "import tensorflow as tf\n",
        "from tensorflow import keras\n",
        "from keras import datasets\n",
        "import numpy as np\n",
        "import matplotlib.pyplot as plt"
      ],
      "metadata": {
        "id": "PmMEEz97aW_9"
      },
      "execution_count": null,
      "outputs": []
    },
    {
      "cell_type": "code",
      "source": [
        "# check if GPU is used\n",
        "my_gpu_device_name = tf.test.gpu_device_name()\n",
        "\n",
        "if my_gpu_device_name != '/device:GPU:0':\n",
        "  raise SystemError('GPU not fund')\n",
        "\n",
        "print(f'Availablabe GPU : {my_gpu_device_name}')"
      ],
      "metadata": {
        "id": "CH9r58pabls1"
      },
      "execution_count": null,
      "outputs": []
    },
    {
      "cell_type": "code",
      "source": [
        "# check which GPU\n",
        "qpu_info = !nvidia-smi\n",
        "gpu_info = '\\n'.join(qpu_info)\n",
        "\n",
        "if gpu_info.find('failed') >= 0:\n",
        "  print('Select the RunTime > \"Change runtime type\" to enable a GPU accelerator,')\n",
        "  print('and, then re-execute this shell')\n",
        "else: \n",
        "  info = qpu_info\n",
        "\n",
        "info"
      ],
      "metadata": {
        "id": "xbYC4QqCdBrm"
      },
      "execution_count": null,
      "outputs": []
    },
    {
      "cell_type": "code",
      "source": [
        "# check how much memory is still available\n",
        "from psutil import virtual_memory \n",
        "ram_gb = virtual_memory().total/1e9\n",
        "print('Your runtime has {:.1f} gigabytes of available RAM\\n'.format(ram_gb))\n",
        "\n",
        "if ram_gb < 20:\n",
        "  print('To enable a high-RAM runtime, select the Runtime > \"Change runtime type\"')\n",
        "  print('menu, and then select High-RAM in the Runtime shape dropdown. Then, ')\n",
        "  print('re-execute this cell.')\n",
        "else:\n",
        "  print('You are using a high-RAM runtime!')"
      ],
      "metadata": {
        "id": "WGwFVCvrdh_Q"
      },
      "execution_count": null,
      "outputs": []
    },
    {
      "cell_type": "code",
      "source": [
        "#show the version of TensorFlow we are using\n",
        "print(tf.__version__)"
      ],
      "metadata": {
        "id": "ZIOoERi1eiKB"
      },
      "execution_count": null,
      "outputs": []
    },
    {
      "cell_type": "code",
      "source": [
        "# load mnist dataset\n",
        "mnist = datasets.mnist\n",
        "(X_train, y_train), (X_test, y_test) = mnist.load_data()"
      ],
      "metadata": {
        "id": "1kTAeHj4funy"
      },
      "execution_count": null,
      "outputs": []
    },
    {
      "cell_type": "code",
      "source": [
        "# visualize few examples\n",
        "plt.figure(figsize=(10,2))\n",
        "for index, (image, label) in enumerate(zip(X_train[:5], y_train[:5])):\n",
        "  plt.subplot(1,5, index+1)\n",
        "  plt.imshow(image, cmap=plt.cm.gray)\n",
        "  plt.title('Training: {}\\n'.format(label), fontsize=10)\n",
        "plt.show()"
      ],
      "metadata": {
        "id": "mG1_dck4gKIf"
      },
      "execution_count": null,
      "outputs": []
    },
    {
      "cell_type": "code",
      "source": [
        "# Scling data : convert from integers to floating-point numbers (between 0 and 1) \n",
        "X_train, X_test = X_train/255.0, X_test/255.0"
      ],
      "metadata": {
        "id": "eu8WfKekiFpA"
      },
      "execution_count": null,
      "outputs": []
    },
    {
      "cell_type": "code",
      "source": [
        "# build the sequential model\n",
        "model = keras.models.Sequential()\n",
        "model.add(tf.keras.layers.Flatten(input_shape=(28, 28)))\n",
        "model.add(tf.keras.layers.Dense(128, activation='relu'))\n",
        "model.add(tf.keras.layers.Dropout(0.2)) # Regularizers adding on hidden layer\n",
        "model.add(tf.keras.layers.Dense(32, activation='relu'))\n",
        "model.add(tf.keras.layers.Dropout(0.08)) # Regularizers adding on hidden layer\n",
        "model.add(tf.keras.layers.Dense(10, activation='softmax'))"
      ],
      "metadata": {
        "id": "WTGP42hujmkP"
      },
      "execution_count": null,
      "outputs": []
    },
    {
      "cell_type": "code",
      "source": [
        "from tensorflow.python.eager.monitoring import Metric\n",
        "# compile the model: optimier, loss, and eval_metrics\n",
        "model.compile(optimizer='adam',\n",
        "              loss='sparse_categorical_crossentropy',\n",
        "              # 'sparse_categorical_crossentropy' used when the true labels are integers \n",
        "              # and 'categorical_crossentropy' is used when the true labels are one-hot encoded \n",
        "              metrics=['accuracy']\n",
        "              )"
      ],
      "metadata": {
        "id": "lyRrKURWlAg0"
      },
      "execution_count": null,
      "outputs": []
    },
    {
      "cell_type": "code",
      "source": [
        "print(np.shape(X_train))\n",
        "print(np.shape(X_test))"
      ],
      "metadata": {
        "id": "M_lmzZQOnzu3"
      },
      "execution_count": null,
      "outputs": []
    },
    {
      "cell_type": "code",
      "source": [
        "# train\n",
        "history = model.fit(X_train,\n",
        "                    y_train,\n",
        "                    batch_size=32, # default batch_size=32\n",
        "                    epochs=20\n",
        "                    )"
      ],
      "metadata": {
        "id": "WjV6TDLIl5tb"
      },
      "execution_count": null,
      "outputs": []
    },
    {
      "cell_type": "code",
      "source": [
        "# summarize\n",
        "model.summary()"
      ],
      "metadata": {
        "id": "KOLPruHXnY8t"
      },
      "execution_count": null,
      "outputs": []
    },
    {
      "cell_type": "markdown",
      "source": [
        "## Visualize the network"
      ],
      "metadata": {
        "id": "3VJpQTJ0_mC0"
      }
    },
    {
      "cell_type": "code",
      "source": [
        "from keras.utils.vis_utils import plot_model\n",
        "# visualize the neural network\n",
        "plot_model(model=model, to_file='/content/model_plot.png', show_shapes=True, show_layer_names=True)"
      ],
      "metadata": {
        "id": "9rXGpFts_r9d"
      },
      "execution_count": null,
      "outputs": []
    },
    {
      "cell_type": "code",
      "source": [
        "# evalate \n",
        "loss, accuracy = model.evaluate(X_test, y_test)\n",
        "print(\"loss = {}, accuracy = {}\".format(loss, accuracy))"
      ],
      "metadata": {
        "id": "tG5Buo0JoPRz"
      },
      "execution_count": null,
      "outputs": []
    },
    {
      "cell_type": "code",
      "source": [
        "# predict\n",
        "from sklearn import metrics\n",
        "predictions = model.predict(X_test) # get predicted classes probabilities\n",
        "print(predictions)"
      ],
      "metadata": {
        "id": "EEiHGmxvsVQy"
      },
      "execution_count": null,
      "outputs": []
    },
    {
      "cell_type": "code",
      "source": [
        "# to get classes : way 1\n",
        "# loop coding\n",
        "prediction = [np.argmax(i) for i in predictions]\n",
        "print(prediction)"
      ],
      "metadata": {
        "id": "YWzPV-RotU6S"
      },
      "execution_count": null,
      "outputs": []
    },
    {
      "cell_type": "code",
      "source": [
        "# to get classes : way 2\n",
        "# vectorization coding\n",
        "classes = np.argmax(predictions, axis=1)\n",
        "print(classes)"
      ],
      "metadata": {
        "id": "WEZXtkmSt9X3"
      },
      "execution_count": null,
      "outputs": []
    },
    {
      "cell_type": "code",
      "source": [
        "plt.figure(figsize=(9,3))\n",
        "for index, (image, label) in enumerate(zip(X_test[-10:], classes[-10:])):\n",
        "  plt.subplot(2, 5, index+1)\n",
        "  plt.imshow(image, cmap=plt.cm.gray)\n",
        "  plt.title('Training: {}\\n'.format(label), fontsize=10)\n",
        "plt.show()"
      ],
      "metadata": {
        "id": "b9devSZ1uapM"
      },
      "execution_count": null,
      "outputs": []
    },
    {
      "cell_type": "code",
      "source": [
        "# confusion matrix\n",
        "import seaborn as sns\n",
        "cm = metrics.confusion_matrix(y_test, classes, normalize='true')\n",
        "plt.figure(figsize=(10,10))\n",
        "sns.heatmap(cm,\n",
        "            annot=True,\n",
        "            fmt=\".3f\",\n",
        "            linewidths=.5,\n",
        "            square=True,\n",
        "            cmap = 'Blues_r',\n",
        "            )\n",
        "plt.ylabel('Actual classes')\n",
        "plt.xlabel('Predicted classes')\n",
        "all_sample_title = 'Accuracy = {0}'.format(accuracy)\n",
        "plt.title(all_sample_title, size=15)\n",
        "plt.show()"
      ],
      "metadata": {
        "id": "YKrQsOc1xMQL"
      },
      "execution_count": null,
      "outputs": []
    },
    {
      "cell_type": "code",
      "source": [
        "###################### CALLBACKS #################################\n",
        "# A callback performs actions at various stages of training \n",
        "# (e.g. at the start or end of an epoch, before or after a single batch)\n",
        "\n",
        "from keras.callbacks import EarlyStopping, ModelCheckpoint, TensorBoard, CSVLogger\n",
        "import os, datetime"
      ],
      "metadata": {
        "id": "1AVXgfiuzJrJ"
      },
      "execution_count": null,
      "outputs": []
    },
    {
      "cell_type": "code",
      "source": [
        "from numpy.lib.histograms import histogram\n",
        "from tensorflow.python.ops.gen_batch_ops import batch\n",
        "from sklearn.utils import validation\n",
        "\n",
        "# Early Stopping : which quantity to monitor to decide early stopping\n",
        "#patience = the number of epochs to wait before stopping\n",
        "early_stopping = EarlyStopping(monitor='val_loss', patience=5)\n",
        "\n",
        "# model checkpoint\n",
        "model_checkpoint = ModelCheckpoint(filepath='best_model.h5',\n",
        "                                   monitor='val_loss',\n",
        "                                   save_best_only=True\n",
        "                                   )\n",
        "# set logs dir_path for tensorboard\n",
        "log_dir = os.path.join(\"logs\", datetime.datetime.now().strftime('%Y%m%d-%H%M%S'))\n",
        "tsnrborab = TensorBoard(log_dir=log_dir, histogram_freq=1)\n",
        "\n",
        "# set csv path\n",
        "csv_log_path = \"/content/logs.scv\"\n",
        "csv_logger = CSVLogger(csv_log_path,\n",
        "                       append=True,\n",
        "                       separator=','\n",
        "                       )\n",
        "# callbacks criteria\n",
        "callbacks = [early_stopping,\n",
        "             model_checkpoint,\n",
        "             tsnrborab,\n",
        "             csv_logger\n",
        "             ]\n",
        "# build the model and get history\n",
        "history = model.fit(X_train,\n",
        "                    y_train,\n",
        "                    epochs=50,\n",
        "                    validation_split=0.25,\n",
        "                    batch_size=40,\n",
        "                    verbose=2,\n",
        "                    callbacks = [callbacks]\n",
        "                    )"
      ],
      "metadata": {
        "id": "2BxvhBL8z6SL"
      },
      "execution_count": null,
      "outputs": []
    },
    {
      "cell_type": "code",
      "source": [
        "# Savee model can be reloaded\n",
        "saved_model =  keras.models.load_model('best_model.h5')\n",
        "# view the best\n",
        "saved_model.summary()"
      ],
      "metadata": {
        "id": "b2lmHBCHI4dE"
      },
      "execution_count": null,
      "outputs": []
    },
    {
      "cell_type": "code",
      "source": [
        "test_loss, test_acc = saved_model.evaluate(X_test, y_test)\n",
        "print(f'Accuracy of best model = {test_acc}')"
      ],
      "metadata": {
        "id": "KL6EGRzwMmkd"
      },
      "execution_count": null,
      "outputs": []
    },
    {
      "cell_type": "code",
      "source": [
        "# view your tensorboard\n",
        "%load_ext tensorboard\n",
        "%tensorboard --logdir logs"
      ],
      "metadata": {
        "id": "lTuqovqtDSpN"
      },
      "execution_count": null,
      "outputs": []
    },
    {
      "cell_type": "markdown",
      "source": [
        "1. 2-D CNN VISUALIZATION: \n",
        "[click on this link](https://www.cs.cmu.edu/~aharley/nn_vis/cnn/2d.html)\n",
        "\n",
        "2. DATA AUGMENTATION:\n",
        "[check this url](https://www.tensorflow.org/tutorials/images/data_augmentation)\n",
        "\n",
        "3. IMAGES DATA GENERATOR:\n",
        "[check this page](https://www.tensorflow.org/api_docs/python/tf/keras/preprocessing/image/ImageDataGenerator)\n",
        "\n",
        "4."
      ],
      "metadata": {
        "id": "gNpIbYGVacF2"
      }
    },
    {
      "cell_type": "code",
      "source": [
        "'''#Regularizers :\n",
        "from tensorflow.keras.regularizers import l2, l1\n",
        "model.add(tf.keras.layers.Dense(128, activation='relu'))\n",
        "model.add(tf.keras.layers.Dropout(0.2))\n",
        "model.add(tf.keras.layers.Dense(4, activation='relu', kernel_regularizer=l1(l=0.1)))\n",
        "model.add(tf.keras.layers.Dense(4, activation='relu', kernel_regularizer=tensorflow.keras.regularizers.l1_l2(l1=0.1, l2=0.01)))\n",
        "'''"
      ],
      "metadata": {
        "id": "CF_yZyfaaogE"
      },
      "execution_count": null,
      "outputs": []
    }
  ]
}