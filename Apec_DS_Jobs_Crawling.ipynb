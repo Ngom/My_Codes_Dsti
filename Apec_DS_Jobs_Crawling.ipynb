{
 "cells": [
  {
   "cell_type": "markdown",
   "id": "ca2b4d4a",
   "metadata": {},
   "source": [
    "# Crawling Apec webpage (www.apec.fr) with selenium"
   ]
  },
  {
   "cell_type": "code",
   "execution_count": 1,
   "id": "1f3d12e1",
   "metadata": {},
   "outputs": [],
   "source": [
    "# importing modules:\n",
    "from selenium import webdriver\n",
    "from selenium.webdriver.chrome.service import Service\n",
    "from selenium.webdriver.common.by import By\n",
    "from selenium.webdriver.support.ui import WebDriverWait\n",
    "from selenium.webdriver.support import expected_conditions as EC\n",
    "import pandas as pd"
   ]
  },
  {
   "cell_type": "code",
   "execution_count": 2,
   "id": "a9549040",
   "metadata": {},
   "outputs": [],
   "source": [
    "# Creating the the executable link path\n",
    "link_path = Service('/Users/elhadji/Desktop/Python_Labs/chromedriver')\n",
    "# Creating the “driver”\n",
    "driver =  webdriver.Chrome(service=link_path)"
   ]
  },
  {
   "cell_type": "markdown",
   "id": "6090941d",
   "metadata": {},
   "source": [
    "## Create a function to generate a list urls of webpages"
   ]
  },
  {
   "cell_type": "code",
   "execution_count": 3,
   "id": "06dd3cfc",
   "metadata": {},
   "outputs": [],
   "source": [
    "# define a function to build the url\n",
    "def build_ful_apecurl(keyword_list, pages_numb):\n",
    "    # Add %20 join strings in keywordlist\n",
    "    str_keyword = '%20'.join(keyword_list)\n",
    "    # set apec web page as variable\n",
    "    root_url = \"https://www.apec.fr/candidat/recherche-emploi.html/emploi?motsCles=\"\n",
    "    # url page\n",
    "    url_page = '&page='\n",
    "    # empty list store full url or each wbepage\n",
    "    apec_url_list = []\n",
    "    # full url by contenating in the following list\n",
    "    for n in pages_numb:\n",
    "        apec_url_list.append(root_url+str_keyword+url_page+str(n))\n",
    "    return apec_url_list"
   ]
  },
  {
   "cell_type": "code",
   "execution_count": 4,
   "id": "052af5dd",
   "metadata": {},
   "outputs": [],
   "source": [
    "# Keyword to seach : \"data scientist\" as list two items\n",
    "keyword_list = ['data', 'scientist']\n",
    "# page numbers list \n",
    "pages_numb = [n for n in range(5)]"
   ]
  },
  {
   "cell_type": "code",
   "execution_count": 5,
   "id": "a2a47099",
   "metadata": {},
   "outputs": [
    {
     "data": {
      "text/plain": [
       "['https://www.apec.fr/candidat/recherche-emploi.html/emploi?motsCles=data%20scientist&page=0',\n",
       " 'https://www.apec.fr/candidat/recherche-emploi.html/emploi?motsCles=data%20scientist&page=1',\n",
       " 'https://www.apec.fr/candidat/recherche-emploi.html/emploi?motsCles=data%20scientist&page=2',\n",
       " 'https://www.apec.fr/candidat/recherche-emploi.html/emploi?motsCles=data%20scientist&page=3',\n",
       " 'https://www.apec.fr/candidat/recherche-emploi.html/emploi?motsCles=data%20scientist&page=4']"
      ]
     },
     "execution_count": 5,
     "metadata": {},
     "output_type": "execute_result"
    }
   ],
   "source": [
    "# Build the list of five pages\n",
    "my_apec_links = build_ful_apecurl(keyword_list, pages_numb)\n",
    "# print to see \n",
    "my_apec_links"
   ]
  },
  {
   "cell_type": "code",
   "execution_count": 6,
   "id": "5117c773",
   "metadata": {},
   "outputs": [],
   "source": [
    "# Extratct jobs title with driver.find_elements By.TAG_NAME()\n",
    "def job_title_extractor_tagname(url_list, tag):\n",
    "    \"\"\"\n",
    "    Take an url list and a tag and return all jobs the given webpage\n",
    "    \"\"\"\n",
    "    all_jobs = []\n",
    "    # loop thorought urls and extract job title by h2 tag\n",
    "    for url in url_list:\n",
    "        driver.get(url)\n",
    "        all_h2 = driver.find_elements(By.TAG_NAME,tag)\n",
    "        all_jobs += [element.text for element in all_h2]\n",
    "    # return all_jobs\n",
    "    return all_jobs\n",
    "# Probem : It crawl any h2 element in the welpage including job titles "
   ]
  },
  {
   "cell_type": "code",
   "execution_count": 7,
   "id": "c1288aaa",
   "metadata": {},
   "outputs": [
    {
     "data": {
      "text/plain": [
       "95"
      ]
     },
     "execution_count": 7,
     "metadata": {},
     "output_type": "execute_result"
    }
   ],
   "source": [
    "# job title tag : h2\n",
    "tag = \"h2\"\n",
    "# get all job titles\n",
    "job_titles = job_title_extractor_tagname(my_apec_links, tag)\n",
    "# check the lenght\n",
    "len(job_titles) \n",
    "# Include all h2 elements (job title + other section titles) "
   ]
  },
  {
   "cell_type": "code",
   "execution_count": 8,
   "id": "54fbd075",
   "metadata": {},
   "outputs": [],
   "source": [
    "# Extratct element with driver.find_elements by.CSS_SELECTOR() >  class_name\n",
    "def job_title_extractor_class(url_list, class_name):\n",
    "    \"\"\"\n",
    "    Take an url list and a class name to return all jobs from all webpages\n",
    "    \"\"\"\n",
    "    all_jobs = []\n",
    "    for url in url_list:\n",
    "        driver.get(url)\n",
    "        all_class = driver.find_elements(By.CSS_SELECTOR,class_name)\n",
    "        all_jobs += [element.text for element in all_class]\n",
    "\n",
    "    return all_jobs"
   ]
  },
  {
   "cell_type": "code",
   "execution_count": 9,
   "id": "4c95c9e7",
   "metadata": {},
   "outputs": [
    {
     "data": {
      "text/plain": [
       "100"
      ]
     },
     "execution_count": 9,
     "metadata": {},
     "output_type": "execute_result"
    }
   ],
   "source": [
    "# Class name valie take two as follow when using by.CSS_SELECTOR()\n",
    "class_name = \".card-title.fs-16\"\n",
    "job_titles = job_title_extractor_class(my_apec_links, class_name) # better than TAG_NAME(), more specific !!!\n",
    "# check the lenght\n",
    "len(job_titles)"
   ]
  },
  {
   "cell_type": "code",
   "execution_count": 10,
   "id": "3b1e2505",
   "metadata": {},
   "outputs": [
    {
     "name": "stdout",
     "output_type": "stream",
     "text": [
      "DATA SCIENTIST F/H\n"
     ]
    }
   ],
   "source": [
    "print(job_titles[3])"
   ]
  },
  {
   "cell_type": "code",
   "execution_count": 11,
   "id": "26e027c4",
   "metadata": {},
   "outputs": [],
   "source": [
    "# find element by XPATH\n",
    "def job_company_extractor(url_list, class_xpath):\n",
    "    \"\"\"\n",
    "    Take an url and an Xpath to return all job company in a webpage\n",
    "    \"\"\"\n",
    "    all_company = []\n",
    "    for url in url_list:\n",
    "        driver.get(url)\n",
    "        all_comp = driver.find_elements(By.XPATH, class_xpath)\n",
    "        all_company += [element.text for element in all_comp]\n",
    "    #driver.quit()\n",
    "    return all_company"
   ]
  },
  {
   "cell_type": "code",
   "execution_count": 12,
   "id": "6f9ec308",
   "metadata": {},
   "outputs": [
    {
     "data": {
      "text/plain": [
       "100"
      ]
     },
     "execution_count": 12,
     "metadata": {},
     "output_type": "execute_result"
    }
   ],
   "source": [
    "# define company name xpath\n",
    "class_xpath = \"//*[@class='card-offer__company mb-10']\" # company name\n",
    "# get all the companies\n",
    "job_company = job_company_extractor(my_apec_links, class_xpath)\n",
    "# check the lenght\n",
    "len(job_company)"
   ]
  },
  {
   "cell_type": "code",
   "execution_count": 13,
   "id": "ca46938e",
   "metadata": {},
   "outputs": [
    {
     "name": "stdout",
     "output_type": "stream",
     "text": [
      "STUDIEL PARTICIPATIONS\n"
     ]
    }
   ],
   "source": [
    "print(job_company[3])"
   ]
  },
  {
   "cell_type": "code",
   "execution_count": 14,
   "id": "8400359f",
   "metadata": {},
   "outputs": [
    {
     "data": {
      "text/plain": [
       "100"
      ]
     },
     "execution_count": 14,
     "metadata": {},
     "output_type": "execute_result"
    }
   ],
   "source": [
    "# defien salary xpath \n",
    "xpath = '//ul[@class=\"details-offer\"]' # one year salary\n",
    "# get all the details\n",
    "job_salary = job_company_extractor(my_apec_links,xpath)\n",
    "# check the lenght\n",
    "len(job_salary)"
   ]
  },
  {
   "cell_type": "code",
   "execution_count": 16,
   "id": "a35c0714",
   "metadata": {},
   "outputs": [
    {
     "name": "stdout",
     "output_type": "stream",
     "text": [
      "35 - 43 k€ brut annuel\n"
     ]
    }
   ],
   "source": [
    "print(job_salary[3])"
   ]
  },
  {
   "cell_type": "code",
   "execution_count": 21,
   "id": "6cea54a1",
   "metadata": {},
   "outputs": [
    {
     "data": {
      "text/plain": [
       "100"
      ]
     },
     "execution_count": 21,
     "metadata": {},
     "output_type": "execute_result"
    }
   ],
   "source": [
    "# job description class name\n",
    "class_name = \".card-offer__description.mb-15\" # salary\n",
    "job_descrition = job_title_extractor_class(my_apec_links, class_name) # using CSS_SELECTOR\n",
    "# check the lenght\n",
    "len(job_descrition)"
   ]
  },
  {
   "cell_type": "code",
   "execution_count": 18,
   "id": "42b494cb",
   "metadata": {},
   "outputs": [
    {
     "name": "stdout",
     "output_type": "stream",
     "text": [
      "Dans le cadre d'une embauche, vous interviendrez en tant que data scientist. Vous analyserez de gros volumes de données de type série temporelle, développerez et déploierez des modèles prédictifs, et assurerez la communication avec le client. Vous contribuer également aux...\n"
     ]
    }
   ],
   "source": [
    "print(job_descrition[3])"
   ]
  },
  {
   "cell_type": "code",
   "execution_count": 22,
   "id": "9436ca3a",
   "metadata": {},
   "outputs": [
    {
     "data": {
      "text/plain": [
       "100"
      ]
     },
     "execution_count": 22,
     "metadata": {},
     "output_type": "execute_result"
    }
   ],
   "source": [
    "# Job type, location and date \n",
    "class_name = \".details-offer.important-list\"\n",
    "type_loc_date = job_title_extractor_class(my_apec_links, class_name) # using CSS_SELECTOR\n",
    "# check the lenght\n",
    "len(type_loc_date)"
   ]
  },
  {
   "cell_type": "code",
   "execution_count": 20,
   "id": "c2f2642f",
   "metadata": {},
   "outputs": [
    {
     "name": "stdout",
     "output_type": "stream",
     "text": [
      "CDI\n",
      "Blagnac - 31\n",
      "16/11/2021\n"
     ]
    }
   ],
   "source": [
    "print(type_loc_date[3])"
   ]
  },
  {
   "cell_type": "code",
   "execution_count": 23,
   "id": "ba05eb30",
   "metadata": {},
   "outputs": [
    {
     "data": {
      "text/plain": [
       "'CDI\\nBlagnac - 31\\n16/11/2021'"
      ]
     },
     "execution_count": 23,
     "metadata": {},
     "output_type": "execute_result"
    }
   ],
   "source": [
    "type_loc_date[3]"
   ]
  },
  {
   "cell_type": "markdown",
   "id": "ce067ee8",
   "metadata": {},
   "source": [
    "## Build csv"
   ]
  },
  {
   "cell_type": "code",
   "execution_count": 35,
   "id": "90870389",
   "metadata": {},
   "outputs": [],
   "source": [
    "def build_apec_csv(keyword_list,class_tags,pages_numb):\n",
    "    \"\"\"\n",
    "    Function that creates a dict with all data gathered from the website \n",
    "    \"\"\"\n",
    "    ################# code goes here #####################################################\n",
    "    # builf uls bebpages list\n",
    "    my_apec_links = build_ful_apecurl(keyword_list, pages_numb)\n",
    "    \n",
    "    # Four job items to extract\n",
    "    job_titles = job_title_extractor_class(my_apec_links, class_tags[0]) # class name\n",
    "    job_company = job_company_extractor(my_apec_links, class_tags[1]) # xpath\n",
    "    job_salary = job_company_extractor(my_apec_links, class_tags[2]) # xpath\n",
    "    job_descrition = job_title_extractor_class(my_apec_links, class_tags[3]) # class name\n",
    "    type_loc_date = job_title_extractor_class(my_apec_links, class_tags[4]) # class_name\n",
    "    \n",
    "    # create a dictionaye to stucture the data crawled\n",
    "    my_dict = {\"Job title\":job_titles, \"Company\":job_company, \"Salary\":job_salary, \"Description\":job_descrition, \"Job infos\":type_loc_date}\n",
    "    \n",
    "    # create a data frame\n",
    "    data = pd.DataFrame(my_dict)\n",
    "    \n",
    "    # store data in csv file\n",
    "    data.to_csv('/Users/elhadji/Desktop/Python_Labs/aspec_ds_jobs_offers.csv', sep=\";\")\n",
    "    return None"
   ]
  },
  {
   "cell_type": "code",
   "execution_count": 36,
   "id": "c2d8fba3",
   "metadata": {},
   "outputs": [],
   "source": [
    "# make keyword list\n",
    "keyword_list = ['data', 'scientist']\n",
    "# page numbers list \n",
    "pages_numb = [n for n in range(21)]\n",
    "# class lists\n",
    "class_tags = [\".card-title.fs-16\", \"//*[@class='card-offer__company mb-10']\",\n",
    "              '//ul[@class=\"details-offer\"]', \".card-offer__description.mb-15\", \".details-offer.important-list\"]"
   ]
  },
  {
   "cell_type": "code",
   "execution_count": 37,
   "id": "d9e02409",
   "metadata": {},
   "outputs": [],
   "source": [
    "# let's build a apec offers data \n",
    "build_apec_csv(keyword_list,class_tags,pages_numb)"
   ]
  },
  {
   "cell_type": "markdown",
   "id": "171c8a12",
   "metadata": {},
   "source": [
    "## exporting crawled data to csv file"
   ]
  },
  {
   "cell_type": "code",
   "execution_count": 59,
   "id": "2186542c",
   "metadata": {},
   "outputs": [],
   "source": [
    "df = pd.read_csv('/Users/elhadji/Desktop/Python_Labs/aspec_ds_jobs_offers.csv', sep=\";\")"
   ]
  },
  {
   "cell_type": "code",
   "execution_count": 53,
   "id": "1ab15dbd",
   "metadata": {},
   "outputs": [
    {
     "data": {
      "text/html": [
       "<div>\n",
       "<style scoped>\n",
       "    .dataframe tbody tr th:only-of-type {\n",
       "        vertical-align: middle;\n",
       "    }\n",
       "\n",
       "    .dataframe tbody tr th {\n",
       "        vertical-align: top;\n",
       "    }\n",
       "\n",
       "    .dataframe thead th {\n",
       "        text-align: right;\n",
       "    }\n",
       "</style>\n",
       "<table border=\"1\" class=\"dataframe\">\n",
       "  <thead>\n",
       "    <tr style=\"text-align: right;\">\n",
       "      <th></th>\n",
       "      <th>Unnamed: 0</th>\n",
       "      <th>Job title</th>\n",
       "      <th>Company</th>\n",
       "      <th>Salary</th>\n",
       "      <th>Description</th>\n",
       "      <th>Job infos</th>\n",
       "    </tr>\n",
       "  </thead>\n",
       "  <tbody>\n",
       "    <tr>\n",
       "      <th>0</th>\n",
       "      <td>0</td>\n",
       "      <td>Data Scientist F/H</td>\n",
       "      <td>FULL DATA MANAGEMENT</td>\n",
       "      <td>35 - 45 k€ brut annuel</td>\n",
       "      <td>Dans le cadre de notre développement, nous rec...</td>\n",
       "      <td>CDI\\nLille - 59\\n16/11/2021</td>\n",
       "    </tr>\n",
       "    <tr>\n",
       "      <th>1</th>\n",
       "      <td>1</td>\n",
       "      <td>Data Scientist F/H</td>\n",
       "      <td>ROBERT WALTERS FRANCE</td>\n",
       "      <td>45 - 50 k€ brut annuel</td>\n",
       "      <td>Notre client, groupe spécialisé dans l'assuran...</td>\n",
       "      <td>CDI\\nToulon - 83\\n10/11/2021</td>\n",
       "    </tr>\n",
       "    <tr>\n",
       "      <th>2</th>\n",
       "      <td>2</td>\n",
       "      <td>Data Scientist F/H</td>\n",
       "      <td>TALENTS RH</td>\n",
       "      <td>45 - 50 k€ brut annuel</td>\n",
       "      <td>TALENTS RH, société de recrutement spécialisée...</td>\n",
       "      <td>CDI\\nLille - 59\\n18/11/2021</td>\n",
       "    </tr>\n",
       "    <tr>\n",
       "      <th>3</th>\n",
       "      <td>3</td>\n",
       "      <td>DATA SCIENTIST F/H</td>\n",
       "      <td>STUDIEL PARTICIPATIONS</td>\n",
       "      <td>35 - 43 k€ brut annuel</td>\n",
       "      <td>Dans le cadre d'une embauche, vous interviendr...</td>\n",
       "      <td>CDI\\nBlagnac - 31\\n16/11/2021</td>\n",
       "    </tr>\n",
       "    <tr>\n",
       "      <th>4</th>\n",
       "      <td>4</td>\n",
       "      <td>Data Scientist F/H</td>\n",
       "      <td>REGIONSJOB</td>\n",
       "      <td>A négocier</td>\n",
       "      <td>\"Recrutez au delà des compétences.\" PERSUADERS...</td>\n",
       "      <td>CDI\\nLyon 01 - 69\\n26/11/2021</td>\n",
       "    </tr>\n",
       "    <tr>\n",
       "      <th>5</th>\n",
       "      <td>5</td>\n",
       "      <td>DATA SCIENTIST F/H</td>\n",
       "      <td>PREM CANAGARADJA</td>\n",
       "      <td>A négocier</td>\n",
       "      <td>D’une manière générale, vous serez en charge d...</td>\n",
       "      <td>CDI\\nToulouse - 31\\n19/11/2021</td>\n",
       "    </tr>\n",
       "    <tr>\n",
       "      <th>6</th>\n",
       "      <td>6</td>\n",
       "      <td>Data Scientist F/H</td>\n",
       "      <td>YSANCE</td>\n",
       "      <td>A négocier</td>\n",
       "      <td>En tant que Data Scientist, vous contribuerez ...</td>\n",
       "      <td>CDI\\nLevallois-Perret - 92\\n21/11/2021</td>\n",
       "    </tr>\n",
       "    <tr>\n",
       "      <th>7</th>\n",
       "      <td>7</td>\n",
       "      <td>Data Scientist F/H</td>\n",
       "      <td>METEOJOB</td>\n",
       "      <td>A négocier</td>\n",
       "      <td>A la recherche de nouvelles affinités professi...</td>\n",
       "      <td>CDI\\nÉcully - 69\\n10/11/2021</td>\n",
       "    </tr>\n",
       "    <tr>\n",
       "      <th>8</th>\n",
       "      <td>8</td>\n",
       "      <td>Data Scientist F/H</td>\n",
       "      <td>METEOJOB</td>\n",
       "      <td>A négocier</td>\n",
       "      <td>Rattaché(e) à la Direction Générale Exécutive ...</td>\n",
       "      <td>CDI\\nClichy - 92\\n23/11/2021</td>\n",
       "    </tr>\n",
       "    <tr>\n",
       "      <th>9</th>\n",
       "      <td>9</td>\n",
       "      <td>Data Scientist F/H</td>\n",
       "      <td>SAS PROXIEL</td>\n",
       "      <td>A partir de 40 k€ brut annuel</td>\n",
       "      <td>Nous recherchons un Data Scientist (F/H) pour ...</td>\n",
       "      <td>CDI\\nNice - 06\\n09/11/2021</td>\n",
       "    </tr>\n",
       "    <tr>\n",
       "      <th>10</th>\n",
       "      <td>10</td>\n",
       "      <td>Data Scientist - F/H</td>\n",
       "      <td>ANSACONSULT</td>\n",
       "      <td>A négocier</td>\n",
       "      <td>Votre mission si vous l’acceptez : Vous accomp...</td>\n",
       "      <td>CDI\\nLille - 59\\n24/11/2021</td>\n",
       "    </tr>\n",
       "    <tr>\n",
       "      <th>11</th>\n",
       "      <td>11</td>\n",
       "      <td>Data Scientist F/H</td>\n",
       "      <td>GROUPAMA ASSURANCES MUTUELLES</td>\n",
       "      <td>A partir de 20 k€ brut annuel</td>\n",
       "      <td>Au sein de la Direction Etudes Technique et Ta...</td>\n",
       "      <td>CDI\\nNanterre - 92\\n16/11/2021</td>\n",
       "    </tr>\n",
       "    <tr>\n",
       "      <th>12</th>\n",
       "      <td>12</td>\n",
       "      <td>Data Scientist F/H</td>\n",
       "      <td>ABIL INTERIM</td>\n",
       "      <td>35 - 38 k€ brut annuel</td>\n",
       "      <td>Vous travaillez sous la responsabilité du mana...</td>\n",
       "      <td>CDI\\nMontauban - 82\\n29/10/2021</td>\n",
       "    </tr>\n",
       "    <tr>\n",
       "      <th>13</th>\n",
       "      <td>13</td>\n",
       "      <td>Data Scientist F/H</td>\n",
       "      <td>DASSAULT AVIATION</td>\n",
       "      <td>A négocier</td>\n",
       "      <td>La Direction Générale du Soutien Militaire (DG...</td>\n",
       "      <td>CDI\\nSaint-Cloud - 92\\n05/11/2021</td>\n",
       "    </tr>\n",
       "    <tr>\n",
       "      <th>14</th>\n",
       "      <td>14</td>\n",
       "      <td>Data Scientist F/H</td>\n",
       "      <td>AGAP2IT</td>\n",
       "      <td>A partir de 35 k€ brut annuel</td>\n",
       "      <td>Au sein d'une équipe de 10 personnes, vous ser...</td>\n",
       "      <td>CDI\\nBoulogne-Billancourt - 92\\n08/11/2021</td>\n",
       "    </tr>\n",
       "  </tbody>\n",
       "</table>\n",
       "</div>"
      ],
      "text/plain": [
       "    Unnamed: 0             Job title                        Company  \\\n",
       "0            0    Data Scientist F/H           FULL DATA MANAGEMENT   \n",
       "1            1    Data Scientist F/H          ROBERT WALTERS FRANCE   \n",
       "2            2    Data Scientist F/H                     TALENTS RH   \n",
       "3            3    DATA SCIENTIST F/H         STUDIEL PARTICIPATIONS   \n",
       "4            4    Data Scientist F/H                     REGIONSJOB   \n",
       "5            5    DATA SCIENTIST F/H               PREM CANAGARADJA   \n",
       "6            6    Data Scientist F/H                         YSANCE   \n",
       "7            7    Data Scientist F/H                       METEOJOB   \n",
       "8            8    Data Scientist F/H                       METEOJOB   \n",
       "9            9    Data Scientist F/H                    SAS PROXIEL   \n",
       "10          10  Data Scientist - F/H                    ANSACONSULT   \n",
       "11          11    Data Scientist F/H  GROUPAMA ASSURANCES MUTUELLES   \n",
       "12          12    Data Scientist F/H                   ABIL INTERIM   \n",
       "13          13    Data Scientist F/H              DASSAULT AVIATION   \n",
       "14          14    Data Scientist F/H                        AGAP2IT   \n",
       "\n",
       "                           Salary  \\\n",
       "0          35 - 45 k€ brut annuel   \n",
       "1          45 - 50 k€ brut annuel   \n",
       "2          45 - 50 k€ brut annuel   \n",
       "3          35 - 43 k€ brut annuel   \n",
       "4                      A négocier   \n",
       "5                      A négocier   \n",
       "6                      A négocier   \n",
       "7                      A négocier   \n",
       "8                      A négocier   \n",
       "9   A partir de 40 k€ brut annuel   \n",
       "10                     A négocier   \n",
       "11  A partir de 20 k€ brut annuel   \n",
       "12         35 - 38 k€ brut annuel   \n",
       "13                     A négocier   \n",
       "14  A partir de 35 k€ brut annuel   \n",
       "\n",
       "                                          Description  \\\n",
       "0   Dans le cadre de notre développement, nous rec...   \n",
       "1   Notre client, groupe spécialisé dans l'assuran...   \n",
       "2   TALENTS RH, société de recrutement spécialisée...   \n",
       "3   Dans le cadre d'une embauche, vous interviendr...   \n",
       "4   \"Recrutez au delà des compétences.\" PERSUADERS...   \n",
       "5   D’une manière générale, vous serez en charge d...   \n",
       "6   En tant que Data Scientist, vous contribuerez ...   \n",
       "7   A la recherche de nouvelles affinités professi...   \n",
       "8   Rattaché(e) à la Direction Générale Exécutive ...   \n",
       "9   Nous recherchons un Data Scientist (F/H) pour ...   \n",
       "10  Votre mission si vous l’acceptez : Vous accomp...   \n",
       "11  Au sein de la Direction Etudes Technique et Ta...   \n",
       "12  Vous travaillez sous la responsabilité du mana...   \n",
       "13  La Direction Générale du Soutien Militaire (DG...   \n",
       "14  Au sein d'une équipe de 10 personnes, vous ser...   \n",
       "\n",
       "                                     Job infos  \n",
       "0                  CDI\\nLille - 59\\n16/11/2021  \n",
       "1                 CDI\\nToulon - 83\\n10/11/2021  \n",
       "2                  CDI\\nLille - 59\\n18/11/2021  \n",
       "3                CDI\\nBlagnac - 31\\n16/11/2021  \n",
       "4                CDI\\nLyon 01 - 69\\n26/11/2021  \n",
       "5               CDI\\nToulouse - 31\\n19/11/2021  \n",
       "6       CDI\\nLevallois-Perret - 92\\n21/11/2021  \n",
       "7                 CDI\\nÉcully - 69\\n10/11/2021  \n",
       "8                 CDI\\nClichy - 92\\n23/11/2021  \n",
       "9                   CDI\\nNice - 06\\n09/11/2021  \n",
       "10                 CDI\\nLille - 59\\n24/11/2021  \n",
       "11              CDI\\nNanterre - 92\\n16/11/2021  \n",
       "12             CDI\\nMontauban - 82\\n29/10/2021  \n",
       "13           CDI\\nSaint-Cloud - 92\\n05/11/2021  \n",
       "14  CDI\\nBoulogne-Billancourt - 92\\n08/11/2021  "
      ]
     },
     "execution_count": 53,
     "metadata": {},
     "output_type": "execute_result"
    }
   ],
   "source": [
    "df.head(15) # 15 firts offers"
   ]
  }
 ],
 "metadata": {
  "kernelspec": {
   "display_name": "Python 3",
   "language": "python",
   "name": "python3"
  },
  "language_info": {
   "codemirror_mode": {
    "name": "ipython",
    "version": 3
   },
   "file_extension": ".py",
   "mimetype": "text/x-python",
   "name": "python",
   "nbconvert_exporter": "python",
   "pygments_lexer": "ipython3",
   "version": "3.7.7"
  }
 },
 "nbformat": 4,
 "nbformat_minor": 5
}
