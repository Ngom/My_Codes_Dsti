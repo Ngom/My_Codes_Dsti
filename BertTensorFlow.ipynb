{
  "nbformat": 4,
  "nbformat_minor": 0,
  "metadata": {
    "colab": {
      "name": "BertTensorFlow.ipynb",
      "provenance": [],
      "mount_file_id": "1OoNwk7hp8Hn_u4xlMhmojIjDbFBTBYyq",
      "authorship_tag": "ABX9TyOspccLHGIjbE4iSj5XB4wY",
      "include_colab_link": true
    },
    "kernelspec": {
      "name": "python3",
      "display_name": "Python 3"
    },
    "language_info": {
      "name": "python"
    }
  },
  "cells": [
    {
      "cell_type": "markdown",
      "metadata": {
        "id": "view-in-github",
        "colab_type": "text"
      },
      "source": [
        "<a href=\"https://colab.research.google.com/github/Ngom/My_Codes_Dsti/blob/main/BertTensorFlow.ipynb\" target=\"_parent\"><img src=\"https://colab.research.google.com/assets/colab-badge.svg\" alt=\"Open In Colab\"/></a>"
      ]
    },
    {
      "cell_type": "markdown",
      "source": [
        "# BERT EMBEDING WITH TENSORFLOW - NLP"
      ],
      "metadata": {
        "id": "X3-bCRX_M5_H"
      }
    },
    {
      "cell_type": "code",
      "execution_count": 37,
      "metadata": {
        "id": "uyC3wYqQ9mMn"
      },
      "outputs": [],
      "source": [
        "# Import needed libraries\n",
        "import tensorflow as tf\n",
        "import tensorflow_hub as hub\n",
        "import tensorflow_text as text\n",
        "#!pip3 install tensorflow_text || install it first if not yet "
      ]
    },
    {
      "cell_type": "code",
      "source": [
        "# The separate preprocessor transforms plain text inputs into this format\n",
        "preprocessing_url = 'https://tfhub.dev/tensorflow/bert_en_uncased_preprocess/3'\n",
        "# It uses L=12 hidden layers (i.e., Transformer blocks), a hidden size of H=768, and A=12 attention heads. \n",
        "encoder_url = 'https://tfhub.dev/tensorflow/bert_en_uncased_L-12_H-768_A-12/3'"
      ],
      "metadata": {
        "id": "C-AS1_AQ-cXG"
      },
      "execution_count": 38,
      "outputs": []
    },
    {
      "cell_type": "code",
      "source": [
        "# Get preprocessing model\n",
        "bert_preprocessor_model = hub.KerasLayer(preprocessing_url) # It works like a function"
      ],
      "metadata": {
        "id": "c_H-scpN_A4Q"
      },
      "execution_count": 39,
      "outputs": []
    },
    {
      "cell_type": "code",
      "source": [
        "# define two sentences to make a test\n",
        "text_test = [\"I love Python and TensorFlow\", \"I love Football and science books\"]"
      ],
      "metadata": {
        "id": "TNAe3gPRAQHc"
      },
      "execution_count": 40,
      "outputs": []
    },
    {
      "cell_type": "code",
      "source": [
        "# get the preprocessed output wich is a dictionnary\n",
        "preprocessed_text = bert_preprocessor_model(text_test) \n",
        "# get the keys\n",
        "preprocessed_text.keys()"
      ],
      "metadata": {
        "colab": {
          "base_uri": "https://localhost:8080/"
        },
        "id": "9V4odi-GBj2T",
        "outputId": "dd0f89d2-d97d-4cc6-e343-842ef2abb0de"
      },
      "execution_count": 41,
      "outputs": [
        {
          "output_type": "execute_result",
          "data": {
            "text/plain": [
              "dict_keys(['input_word_ids', 'input_type_ids', 'input_mask'])"
            ]
          },
          "metadata": {},
          "execution_count": 41
        }
      ]
    },
    {
      "cell_type": "code",
      "source": [
        "# get 'input_mask' value\n",
        "preprocessed_text['input_mask']"
      ],
      "metadata": {
        "colab": {
          "base_uri": "https://localhost:8080/"
        },
        "id": "E5MdrFPoCpXe",
        "outputId": "cb7ab4d9-b654-4f3e-cdd7-ef798cea39e3"
      },
      "execution_count": 42,
      "outputs": [
        {
          "output_type": "execute_result",
          "data": {
            "text/plain": [
              "<tf.Tensor: shape=(2, 128), dtype=int32, numpy=\n",
              "array([[1, 1, 1, 1, 1, 1, 1, 1, 0, 0, 0, 0, 0, 0, 0, 0, 0, 0, 0, 0, 0, 0,\n",
              "        0, 0, 0, 0, 0, 0, 0, 0, 0, 0, 0, 0, 0, 0, 0, 0, 0, 0, 0, 0, 0, 0,\n",
              "        0, 0, 0, 0, 0, 0, 0, 0, 0, 0, 0, 0, 0, 0, 0, 0, 0, 0, 0, 0, 0, 0,\n",
              "        0, 0, 0, 0, 0, 0, 0, 0, 0, 0, 0, 0, 0, 0, 0, 0, 0, 0, 0, 0, 0, 0,\n",
              "        0, 0, 0, 0, 0, 0, 0, 0, 0, 0, 0, 0, 0, 0, 0, 0, 0, 0, 0, 0, 0, 0,\n",
              "        0, 0, 0, 0, 0, 0, 0, 0, 0, 0, 0, 0, 0, 0, 0, 0, 0, 0],\n",
              "       [1, 1, 1, 1, 1, 1, 1, 1, 0, 0, 0, 0, 0, 0, 0, 0, 0, 0, 0, 0, 0, 0,\n",
              "        0, 0, 0, 0, 0, 0, 0, 0, 0, 0, 0, 0, 0, 0, 0, 0, 0, 0, 0, 0, 0, 0,\n",
              "        0, 0, 0, 0, 0, 0, 0, 0, 0, 0, 0, 0, 0, 0, 0, 0, 0, 0, 0, 0, 0, 0,\n",
              "        0, 0, 0, 0, 0, 0, 0, 0, 0, 0, 0, 0, 0, 0, 0, 0, 0, 0, 0, 0, 0, 0,\n",
              "        0, 0, 0, 0, 0, 0, 0, 0, 0, 0, 0, 0, 0, 0, 0, 0, 0, 0, 0, 0, 0, 0,\n",
              "        0, 0, 0, 0, 0, 0, 0, 0, 0, 0, 0, 0, 0, 0, 0, 0, 0, 0]],\n",
              "      dtype=int32)>"
            ]
          },
          "metadata": {},
          "execution_count": 42
        }
      ]
    },
    {
      "cell_type": "code",
      "source": [
        "# get 'input_type_ids' value\n",
        "preprocessed_text['input_type_ids']\n",
        "# \"CLS I love Python and TensorFlow SEP\" how the sentence is handled "
      ],
      "metadata": {
        "colab": {
          "base_uri": "https://localhost:8080/"
        },
        "id": "8xAUpEcoCrgV",
        "outputId": "2943539a-3a6b-42a4-ebf0-1697d8da9954"
      },
      "execution_count": 43,
      "outputs": [
        {
          "output_type": "execute_result",
          "data": {
            "text/plain": [
              "<tf.Tensor: shape=(2, 128), dtype=int32, numpy=\n",
              "array([[0, 0, 0, 0, 0, 0, 0, 0, 0, 0, 0, 0, 0, 0, 0, 0, 0, 0, 0, 0, 0, 0,\n",
              "        0, 0, 0, 0, 0, 0, 0, 0, 0, 0, 0, 0, 0, 0, 0, 0, 0, 0, 0, 0, 0, 0,\n",
              "        0, 0, 0, 0, 0, 0, 0, 0, 0, 0, 0, 0, 0, 0, 0, 0, 0, 0, 0, 0, 0, 0,\n",
              "        0, 0, 0, 0, 0, 0, 0, 0, 0, 0, 0, 0, 0, 0, 0, 0, 0, 0, 0, 0, 0, 0,\n",
              "        0, 0, 0, 0, 0, 0, 0, 0, 0, 0, 0, 0, 0, 0, 0, 0, 0, 0, 0, 0, 0, 0,\n",
              "        0, 0, 0, 0, 0, 0, 0, 0, 0, 0, 0, 0, 0, 0, 0, 0, 0, 0],\n",
              "       [0, 0, 0, 0, 0, 0, 0, 0, 0, 0, 0, 0, 0, 0, 0, 0, 0, 0, 0, 0, 0, 0,\n",
              "        0, 0, 0, 0, 0, 0, 0, 0, 0, 0, 0, 0, 0, 0, 0, 0, 0, 0, 0, 0, 0, 0,\n",
              "        0, 0, 0, 0, 0, 0, 0, 0, 0, 0, 0, 0, 0, 0, 0, 0, 0, 0, 0, 0, 0, 0,\n",
              "        0, 0, 0, 0, 0, 0, 0, 0, 0, 0, 0, 0, 0, 0, 0, 0, 0, 0, 0, 0, 0, 0,\n",
              "        0, 0, 0, 0, 0, 0, 0, 0, 0, 0, 0, 0, 0, 0, 0, 0, 0, 0, 0, 0, 0, 0,\n",
              "        0, 0, 0, 0, 0, 0, 0, 0, 0, 0, 0, 0, 0, 0, 0, 0, 0, 0]],\n",
              "      dtype=int32)>"
            ]
          },
          "metadata": {},
          "execution_count": 43
        }
      ]
    },
    {
      "cell_type": "code",
      "source": [
        "# get 'input_word_ids' value\n",
        "preprocessed_text['input_word_ids']\n",
        "# \"CLS I love Football and science books SEP\" how the sentence is handled"
      ],
      "metadata": {
        "colab": {
          "base_uri": "https://localhost:8080/"
        },
        "id": "vewoU58lDsuZ",
        "outputId": "876c1615-e3e0-430e-b1ec-27f7b50b54a6"
      },
      "execution_count": 44,
      "outputs": [
        {
          "output_type": "execute_result",
          "data": {
            "text/plain": [
              "<tf.Tensor: shape=(2, 128), dtype=int32, numpy=\n",
              "array([[  101,  1045,  2293, 18750,  1998, 23435, 12314,   102,     0,\n",
              "            0,     0,     0,     0,     0,     0,     0,     0,     0,\n",
              "            0,     0,     0,     0,     0,     0,     0,     0,     0,\n",
              "            0,     0,     0,     0,     0,     0,     0,     0,     0,\n",
              "            0,     0,     0,     0,     0,     0,     0,     0,     0,\n",
              "            0,     0,     0,     0,     0,     0,     0,     0,     0,\n",
              "            0,     0,     0,     0,     0,     0,     0,     0,     0,\n",
              "            0,     0,     0,     0,     0,     0,     0,     0,     0,\n",
              "            0,     0,     0,     0,     0,     0,     0,     0,     0,\n",
              "            0,     0,     0,     0,     0,     0,     0,     0,     0,\n",
              "            0,     0,     0,     0,     0,     0,     0,     0,     0,\n",
              "            0,     0,     0,     0,     0,     0,     0,     0,     0,\n",
              "            0,     0,     0,     0,     0,     0,     0,     0,     0,\n",
              "            0,     0,     0,     0,     0,     0,     0,     0,     0,\n",
              "            0,     0],\n",
              "       [  101,  1045,  2293,  2374,  1998,  2671,  2808,   102,     0,\n",
              "            0,     0,     0,     0,     0,     0,     0,     0,     0,\n",
              "            0,     0,     0,     0,     0,     0,     0,     0,     0,\n",
              "            0,     0,     0,     0,     0,     0,     0,     0,     0,\n",
              "            0,     0,     0,     0,     0,     0,     0,     0,     0,\n",
              "            0,     0,     0,     0,     0,     0,     0,     0,     0,\n",
              "            0,     0,     0,     0,     0,     0,     0,     0,     0,\n",
              "            0,     0,     0,     0,     0,     0,     0,     0,     0,\n",
              "            0,     0,     0,     0,     0,     0,     0,     0,     0,\n",
              "            0,     0,     0,     0,     0,     0,     0,     0,     0,\n",
              "            0,     0,     0,     0,     0,     0,     0,     0,     0,\n",
              "            0,     0,     0,     0,     0,     0,     0,     0,     0,\n",
              "            0,     0,     0,     0,     0,     0,     0,     0,     0,\n",
              "            0,     0,     0,     0,     0,     0,     0,     0,     0,\n",
              "            0,     0]], dtype=int32)>"
            ]
          },
          "metadata": {},
          "execution_count": 44
        }
      ]
    },
    {
      "cell_type": "code",
      "source": [
        "# Get a BERT encoder model now\n",
        "encoder_model = hub.KerasLayer(encoder_url) # It works as well like function\n",
        "# Get the embeded vectors of the text with BERT\n",
        "results = encoder_model(preprocessed_text)"
      ],
      "metadata": {
        "id": "nw9dvpmUFQvZ"
      },
      "execution_count": 45,
      "outputs": []
    },
    {
      "cell_type": "code",
      "source": [
        "# get the keys of outpu dict()\n",
        "results.keys()"
      ],
      "metadata": {
        "colab": {
          "base_uri": "https://localhost:8080/"
        },
        "id": "M_3VkZxNGEVk",
        "outputId": "9d0cd092-67f8-4729-eb4e-1d62377805e9"
      },
      "execution_count": 46,
      "outputs": [
        {
          "output_type": "execute_result",
          "data": {
            "text/plain": [
              "dict_keys(['pooled_output', 'default', 'sequence_output', 'encoder_outputs'])"
            ]
          },
          "metadata": {},
          "execution_count": 46
        }
      ]
    },
    {
      "cell_type": "code",
      "source": [
        "# give the entire sentence embeding vectors\n",
        "results['pooled_output']"
      ],
      "metadata": {
        "colab": {
          "base_uri": "https://localhost:8080/"
        },
        "id": "4Zz3oA8TGOQy",
        "outputId": "44f80262-9d07-452d-8cc6-12b351ec92d6"
      },
      "execution_count": 47,
      "outputs": [
        {
          "output_type": "execute_result",
          "data": {
            "text/plain": [
              "<tf.Tensor: shape=(2, 768), dtype=float32, numpy=\n",
              "array([[-0.8995526 , -0.53563184, -0.91199446, ..., -0.8257045 ,\n",
              "        -0.72207093,  0.92192906],\n",
              "       [-0.8957446 , -0.5166899 , -0.93175995, ..., -0.7261993 ,\n",
              "        -0.70532745,  0.89629906]], dtype=float32)>"
            ]
          },
          "metadata": {},
          "execution_count": 47
        }
      ]
    },
    {
      "cell_type": "code",
      "source": [
        "# individual word embeding vectors\n",
        "results['sequence_output']"
      ],
      "metadata": {
        "colab": {
          "base_uri": "https://localhost:8080/"
        },
        "id": "waWzEDkkIRdS",
        "outputId": "ebf81e06-abd0-4896-b08d-876f50c53c9f"
      },
      "execution_count": 48,
      "outputs": [
        {
          "output_type": "execute_result",
          "data": {
            "text/plain": [
              "<tf.Tensor: shape=(2, 128, 768), dtype=float32, numpy=\n",
              "array([[[-0.11107904,  0.08823845, -0.22717202, ..., -0.13230506,\n",
              "          0.23241182,  0.7932381 ],\n",
              "        [ 0.43959874,  0.15172824, -0.5375718 , ...,  0.09262419,\n",
              "          0.5756407 ,  0.38291195],\n",
              "        [ 1.1082827 ,  1.010008  ,  0.16809574, ...,  0.08841606,\n",
              "          0.46047807,  0.23622651],\n",
              "        ...,\n",
              "        [ 0.11140769, -0.22311157,  0.594194  , ...,  0.25102407,\n",
              "         -0.10382501,  0.06807792],\n",
              "        [ 0.07217257, -0.17395358,  0.5959266 , ...,  0.19067466,\n",
              "         -0.1288271 ,  0.08898591],\n",
              "        [ 0.12408911, -0.23401661,  0.59603614, ...,  0.20183906,\n",
              "         -0.16713932,  0.03381419]],\n",
              "\n",
              "       [[-0.03751505,  0.15176015, -0.28256863, ..., -0.1215978 ,\n",
              "          0.54419386,  0.33422616],\n",
              "        [ 0.5632213 ,  0.34896106, -0.6882528 , ...,  0.03490664,\n",
              "          1.0032347 ,  0.27804205],\n",
              "        [ 1.2898139 ,  0.8960895 ,  0.18848741, ...,  0.24121141,\n",
              "          0.6254553 , -0.05480304],\n",
              "        ...,\n",
              "        [ 0.50444955, -0.0366043 ,  0.3055002 , ...,  0.4593151 ,\n",
              "          0.2292329 ,  0.06675641],\n",
              "        [ 0.4728999 , -0.02950483,  0.28855264, ...,  0.446473  ,\n",
              "          0.23686473,  0.10796545],\n",
              "        [ 0.4634191 , -0.01505198,  0.36046234, ...,  0.39446315,\n",
              "          0.1793386 ,  0.0980531 ]]], dtype=float32)>"
            ]
          },
          "metadata": {},
          "execution_count": 48
        }
      ]
    },
    {
      "cell_type": "code",
      "source": [
        "# encoder size, here 12, is ther BERT base model used here.\n",
        "len(results['encoder_outputs'])"
      ],
      "metadata": {
        "colab": {
          "base_uri": "https://localhost:8080/"
        },
        "id": "OTxZIVppI3Yy",
        "outputId": "c8c20d42-387f-490a-e734-68a6a34dff42"
      },
      "execution_count": 49,
      "outputs": [
        {
          "output_type": "execute_result",
          "data": {
            "text/plain": [
              "12"
            ]
          },
          "metadata": {},
          "execution_count": 49
        }
      ]
    },
    {
      "cell_type": "code",
      "source": [
        " # see first layer output for instance\n",
        "results['encoder_outputs'][0]"
      ],
      "metadata": {
        "colab": {
          "base_uri": "https://localhost:8080/"
        },
        "id": "m9Cc3cPTJg4q",
        "outputId": "9d6846b6-ee4b-4526-b042-a0f1f6b6d87a"
      },
      "execution_count": 50,
      "outputs": [
        {
          "output_type": "execute_result",
          "data": {
            "text/plain": [
              "<tf.Tensor: shape=(2, 128, 768), dtype=float32, numpy=\n",
              "array([[[ 0.10128601,  0.00910403, -0.07357201, ...,  0.10275798,\n",
              "         -0.01996173, -0.04673342],\n",
              "        [ 0.5640932 ,  0.75005007, -0.18127131, ...,  0.5308089 ,\n",
              "          0.7475175 , -0.11824881],\n",
              "        [ 1.3730402 ,  0.6226032 ,  0.17862754, ...,  0.46330512,\n",
              "          0.53056574, -0.17267212],\n",
              "        ...,\n",
              "        [ 0.07695344, -0.25388774,  0.52457404, ..., -0.06655112,\n",
              "         -0.47931132,  0.0311451 ],\n",
              "        [-0.01111346, -0.27147576,  0.36722544, ..., -0.00743643,\n",
              "         -0.3897387 , -0.06636477],\n",
              "        [ 0.16202378, -0.21057446,  0.3803922 , ...,  0.35277206,\n",
              "         -0.7319173 , -0.16098809]],\n",
              "\n",
              "       [[ 0.15216477,  0.03098228, -0.05242228, ...,  0.12761122,\n",
              "          0.00197702,  0.00705219],\n",
              "        [ 0.5581813 ,  0.8642176 , -0.18555844, ...,  0.56418526,\n",
              "          0.68112606,  0.07197824],\n",
              "        [ 1.5002285 ,  0.47494358,  0.63678074, ...,  0.4426347 ,\n",
              "          0.8235208 , -0.01050968],\n",
              "        ...,\n",
              "        [ 0.05950332, -0.24278638,  0.780246  , ...,  0.3284092 ,\n",
              "         -0.30517122,  0.22839071],\n",
              "        [-0.02509978, -0.28723958,  0.64212275, ...,  0.3823421 ,\n",
              "         -0.21863818,  0.1011342 ],\n",
              "        [ 0.17154557, -0.20322394,  0.6900011 , ...,  0.6838688 ,\n",
              "         -0.5538932 ,  0.05536487]]], dtype=float32)>"
            ]
          },
          "metadata": {},
          "execution_count": 50
        }
      ]
    },
    {
      "cell_type": "code",
      "source": [
        "# The sequence_output is also the last vector of encoder_output\n",
        "results['encoder_outputs'][-1] == results['sequence_output'] # this captures the context sense of each word"
      ],
      "metadata": {
        "colab": {
          "base_uri": "https://localhost:8080/"
        },
        "id": "cwl4jy6eKer4",
        "outputId": "e8d63082-bcef-4571-f445-ed42370be6a7"
      },
      "execution_count": 51,
      "outputs": [
        {
          "output_type": "execute_result",
          "data": {
            "text/plain": [
              "<tf.Tensor: shape=(2, 128, 768), dtype=bool, numpy=\n",
              "array([[[ True,  True,  True, ...,  True,  True,  True],\n",
              "        [ True,  True,  True, ...,  True,  True,  True],\n",
              "        [ True,  True,  True, ...,  True,  True,  True],\n",
              "        ...,\n",
              "        [ True,  True,  True, ...,  True,  True,  True],\n",
              "        [ True,  True,  True, ...,  True,  True,  True],\n",
              "        [ True,  True,  True, ...,  True,  True,  True]],\n",
              "\n",
              "       [[ True,  True,  True, ...,  True,  True,  True],\n",
              "        [ True,  True,  True, ...,  True,  True,  True],\n",
              "        [ True,  True,  True, ...,  True,  True,  True],\n",
              "        ...,\n",
              "        [ True,  True,  True, ...,  True,  True,  True],\n",
              "        [ True,  True,  True, ...,  True,  True,  True],\n",
              "        [ True,  True,  True, ...,  True,  True,  True]]])>"
            ]
          },
          "metadata": {},
          "execution_count": 51
        }
      ]
    },
    {
      "cell_type": "markdown",
      "source": [
        "## E-mail Classification with BERT as encoder\n",
        "\n",
        "[Bert]('/content/drive/MyDrive/ColabNotebooks/bert_spam.png', 'image')"
      ],
      "metadata": {
        "id": "FYmY2NisSHXT"
      }
    },
    {
      "cell_type": "code",
      "source": [
        "# Define a BERT embeding function below\n",
        "def get_sentence_embeding(sentence):\n",
        "  # Get the preprocessor\n",
        "  bert_preprocessor = hub.KerasLayer('https://tfhub.dev/tensorflow/bert_en_uncased_preprocess/3') \n",
        "  # Get the preprocessed output\n",
        "  preprocessed_text = bert_preprocessor_model(sentence) \n",
        "  # Get the BERT encoder\n",
        "  bert_encoder = hub.KerasLayer('https://tfhub.dev/tensorflow/bert_en_uncased_L-12_H-768_A-12/3')\n",
        "  # return entire sentence embeding vectors maker with ('pooled_output')\n",
        "  return bert_encoder(preprocessed_text)['pooled_output'] "
      ],
      "metadata": {
        "id": "uhN4untwMLOe"
      },
      "execution_count": 52,
      "outputs": []
    },
    {
      "cell_type": "code",
      "source": [
        "import pandas as pd\n",
        "from sklearn.model_selection import train_test_split\n",
        "from sklearn.metrics.pairwise import cosine_similarity"
      ],
      "metadata": {
        "id": "rvhMu47ZcpQ6"
      },
      "execution_count": 54,
      "outputs": []
    },
    {
      "cell_type": "markdown",
      "source": [
        "## Get embeding vectors for few sample words. Compare them using cosine similarity"
      ],
      "metadata": {
        "id": "WxBrXnX9dMxe"
      }
    },
    {
      "cell_type": "code",
      "source": [
        "emb = get_sentence_embeding([\n",
        "    \"banana\", \n",
        "    \"tomato\",\n",
        "    \"mango\",\n",
        "    \"jeff bezos\",\n",
        "    \"elon musk\",\n",
        "    \"bill gates\"\n",
        "]\n",
        ")"
      ],
      "metadata": {
        "id": "7pWq7G5Act1m"
      },
      "execution_count": 55,
      "outputs": []
    },
    {
      "cell_type": "code",
      "source": [
        "emb[0][:10] # ten firs items"
      ],
      "metadata": {
        "colab": {
          "base_uri": "https://localhost:8080/"
        },
        "id": "55cD7_XQdqf3",
        "outputId": "f2e49c8c-9724-42f2-d0d2-d2ffe65e9298"
      },
      "execution_count": 58,
      "outputs": [
        {
          "output_type": "execute_result",
          "data": {
            "text/plain": [
              "<tf.Tensor: shape=(10,), dtype=float32, numpy=\n",
              "array([-0.7606917 , -0.14219375,  0.49604657,  0.5634575 , -0.32544863,\n",
              "       -0.10426541,  0.86149526,  0.15325738,  0.23656581, -0.9989279 ],\n",
              "      dtype=float32)>"
            ]
          },
          "metadata": {},
          "execution_count": 58
        }
      ]
    },
    {
      "cell_type": "code",
      "source": [
        "emb[2][:10] # ten firs items"
      ],
      "metadata": {
        "colab": {
          "base_uri": "https://localhost:8080/"
        },
        "id": "MjCWq9CKdyOj",
        "outputId": "e74e909e-ed78-48c4-bd82-ed858deedd05"
      },
      "execution_count": 70,
      "outputs": [
        {
          "output_type": "execute_result",
          "data": {
            "text/plain": [
              "<tf.Tensor: shape=(10,), dtype=float32, numpy=\n",
              "array([-0.7128861 , -0.154639  ,  0.38401696,  0.5236993 , -0.40326795,\n",
              "       -0.02961858,  0.82174104,  0.18807201,  0.1459225 , -0.99867284],\n",
              "      dtype=float32)>"
            ]
          },
          "metadata": {},
          "execution_count": 70
        }
      ]
    },
    {
      "cell_type": "code",
      "source": [
        "# Similary check banana and mango\n",
        "cosine_similarity([emb[0]], [emb[2]])"
      ],
      "metadata": {
        "colab": {
          "base_uri": "https://localhost:8080/"
        },
        "id": "GUDgREXYeGL9",
        "outputId": "a8561b98-a0c0-487f-8a86-55a79ea339f9"
      },
      "execution_count": 61,
      "outputs": [
        {
          "output_type": "execute_result",
          "data": {
            "text/plain": [
              "array([[0.9954098]], dtype=float32)"
            ]
          },
          "metadata": {},
          "execution_count": 61
        }
      ]
    },
    {
      "cell_type": "code",
      "source": [
        "# Similary check banana and tomato\n",
        "cosine_similarity([emb[0]], [emb[1]])"
      ],
      "metadata": {
        "colab": {
          "base_uri": "https://localhost:8080/"
        },
        "id": "Vn1SlOBrebaW",
        "outputId": "62c79cb4-1537-4acc-b182-a817f968f46d"
      },
      "execution_count": 62,
      "outputs": [
        {
          "output_type": "execute_result",
          "data": {
            "text/plain": [
              "array([[0.977188]], dtype=float32)"
            ]
          },
          "metadata": {},
          "execution_count": 62
        }
      ]
    },
    {
      "cell_type": "code",
      "source": [
        "# Similary check banana and Jeff bezos\n",
        "cosine_similarity([emb[0]], [emb[3]])"
      ],
      "metadata": {
        "colab": {
          "base_uri": "https://localhost:8080/"
        },
        "id": "4rhKCB4de7v6",
        "outputId": "de4722fc-d213-41c4-fe6d-f5a92c0709e6"
      },
      "execution_count": 65,
      "outputs": [
        {
          "output_type": "execute_result",
          "data": {
            "text/plain": [
              "array([[0.84703845]], dtype=float32)"
            ]
          },
          "metadata": {},
          "execution_count": 65
        }
      ]
    },
    {
      "cell_type": "code",
      "source": [
        "# Similary check elon musk and Jeff bezos\n",
        "cosine_similarity([emb[4]], [emb[3]])"
      ],
      "metadata": {
        "colab": {
          "base_uri": "https://localhost:8080/"
        },
        "id": "W0FbeqMdfRae",
        "outputId": "5ad9b5c1-d20a-4273-ce69-571849a1ac75"
      },
      "execution_count": 69,
      "outputs": [
        {
          "output_type": "execute_result",
          "data": {
            "text/plain": [
              "array([[0.98720354]], dtype=float32)"
            ]
          },
          "metadata": {},
          "execution_count": 69
        }
      ]
    },
    {
      "cell_type": "markdown",
      "source": [
        "Notebook link \n",
        "\n",
        "[Link](https://github.com/codebasics/deep-learning-keras-tf-tutorial/blob/master/47_BERT_text_classification/BERT_email_classification.ipynb)"
      ],
      "metadata": {
        "id": "2hUa61qXhLLk"
      }
    },
    {
      "cell_type": "code",
      "source": [
        ""
      ],
      "metadata": {
        "id": "j9EgCwOOfnc_"
      },
      "execution_count": null,
      "outputs": []
    }
  ]
}