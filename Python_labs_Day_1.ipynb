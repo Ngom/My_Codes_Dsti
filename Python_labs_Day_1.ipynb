{
  "nbformat": 4,
  "nbformat_minor": 0,
  "metadata": {
    "colab": {
      "name": "Python_labs_Day_1.ipynb",
      "provenance": [],
      "mount_file_id": "1aFE8EL4fJ0oxBemqj1uHVNzp0bQAOZ85",
      "authorship_tag": "ABX9TyNqEoXV97pC/SWRbFk34Xjh",
      "include_colab_link": true
    },
    "kernelspec": {
      "name": "python3",
      "display_name": "Python 3"
    },
    "language_info": {
      "name": "python"
    },
    "accelerator": "GPU"
  },
  "cells": [
    {
      "cell_type": "markdown",
      "metadata": {
        "id": "view-in-github",
        "colab_type": "text"
      },
      "source": [
        "<a href=\"https://colab.research.google.com/github/Ngom/My_Codes_Dsti/blob/main/Python_labs_Day_1.ipynb\" target=\"_parent\"><img src=\"https://colab.research.google.com/assets/colab-badge.svg\" alt=\"Open In Colab\"/></a>"
      ]
    },
    {
      "cell_type": "markdown",
      "metadata": {
        "id": "at2vtY2d6DjJ"
      },
      "source": [
        "# Part 1 : Code basics"
      ]
    },
    {
      "cell_type": "markdown",
      "metadata": {
        "id": "498Y4ZMyNDcv"
      },
      "source": [
        "## a. Colab"
      ]
    },
    {
      "cell_type": "code",
      "metadata": {
        "colab": {
          "base_uri": "https://localhost:8080/"
        },
        "id": "WeBTMyU_NQwx",
        "outputId": "c4ef3915-9613-43ac-e20f-82e3a06d030f"
      },
      "source": [
        "# Import and mount your drive \n",
        "from google.colab import drive\n",
        "drive.mount('/content/drive')"
      ],
      "execution_count": null,
      "outputs": [
        {
          "output_type": "stream",
          "name": "stdout",
          "text": [
            "Drive already mounted at /content/drive; to attempt to forcibly remount, call drive.mount(\"/content/drive\", force_remount=True).\n"
          ]
        }
      ]
    },
    {
      "cell_type": "markdown",
      "metadata": {
        "id": "nZkd2nP4Qjjz"
      },
      "source": [
        "List all the files in your drive"
      ]
    },
    {
      "cell_type": "code",
      "metadata": {
        "colab": {
          "base_uri": "https://localhost:8080/"
        },
        "id": "huT4wSHeWa0X",
        "outputId": "2ce31482-f949-4ea7-ef62-7a44d6fa9c7c"
      },
      "source": [
        "%ls"
      ],
      "execution_count": null,
      "outputs": [
        {
          "output_type": "stream",
          "name": "stdout",
          "text": [
            "\u001b[0m\u001b[01;34mdrive\u001b[0m/  \u001b[01;34msample_data\u001b[0m/\n"
          ]
        }
      ]
    },
    {
      "cell_type": "code",
      "metadata": {
        "colab": {
          "base_uri": "https://localhost:8080/"
        },
        "id": "Is0hgoBFWeyg",
        "outputId": "52d9af88-5585-4b78-f52a-b59619c00c0b"
      },
      "source": [
        "%cd drive"
      ],
      "execution_count": null,
      "outputs": [
        {
          "output_type": "stream",
          "name": "stdout",
          "text": [
            "/content/drive\n"
          ]
        }
      ]
    },
    {
      "cell_type": "code",
      "metadata": {
        "id": "uwtq4Bee6QoE",
        "colab": {
          "base_uri": "https://localhost:8080/"
        },
        "outputId": "14300226-d8fa-436a-f126-6e8947640ac8"
      },
      "source": [
        "# list elements\n",
        "%ls /content/drive/"
      ],
      "execution_count": null,
      "outputs": [
        {
          "output_type": "stream",
          "name": "stdout",
          "text": [
            "\u001b[0m\u001b[01;34mMyDrive\u001b[0m/\n"
          ]
        }
      ]
    },
    {
      "cell_type": "code",
      "metadata": {
        "id": "rTzvBIj0RnjD",
        "colab": {
          "base_uri": "https://localhost:8080/"
        },
        "outputId": "62c2021c-1dc0-4452-c21e-c817912d093a"
      },
      "source": [
        "# Move to MyDrive\n",
        "%cd /content/drive/MyDrive/"
      ],
      "execution_count": null,
      "outputs": [
        {
          "output_type": "stream",
          "name": "stdout",
          "text": [
            "/content/drive/MyDrive\n"
          ]
        }
      ]
    },
    {
      "cell_type": "code",
      "metadata": {
        "id": "04ccSTNKSTxM",
        "colab": {
          "base_uri": "https://localhost:8080/",
          "height": 35
        },
        "outputId": "a3fc3bf0-e29d-40cb-b217-2b6a47975b97"
      },
      "source": [
        "# Where are we\n",
        "%pwd"
      ],
      "execution_count": null,
      "outputs": [
        {
          "output_type": "execute_result",
          "data": {
            "application/vnd.google.colaboratory.intrinsic+json": {
              "type": "string"
            },
            "text/plain": [
              "'/content/drive/MyDrive'"
            ]
          },
          "metadata": {},
          "execution_count": 21
        }
      ]
    },
    {
      "cell_type": "code",
      "metadata": {
        "id": "vAo2BDKWRnSy"
      },
      "source": [
        "# list your drive content\n",
        "# %ls"
      ],
      "execution_count": null,
      "outputs": []
    },
    {
      "cell_type": "markdown",
      "metadata": {
        "id": "3HwpSo2BW7fz"
      },
      "source": [
        "## Up load iris dataset in your drive"
      ]
    },
    {
      "cell_type": "code",
      "metadata": {
        "id": "qoFErZWLXDyO"
      },
      "source": [
        "# To load a dataset from your pc type \n",
        "\n",
        "#from google.colab import files\n",
        "#uploaded = files.upload()"
      ],
      "execution_count": null,
      "outputs": []
    },
    {
      "cell_type": "markdown",
      "metadata": {
        "id": "q_i0na5TZL3E"
      },
      "source": [
        "**Use _wget -P + url_ to dowload direct from web here :**\n",
        "\n",
        "[Iris for ML](\"https://archive.ics.uci.edu/ml/datasets/iris\")\n",
        "\n",
        "[link Gitlab](\"http://colab.research.google.com/github\") "
      ]
    },
    {
      "cell_type": "code",
      "metadata": {
        "colab": {
          "base_uri": "https://localhost:8080/"
        },
        "id": "0J5tBpjJXRrB",
        "outputId": "d1b864aa-7104-45bf-da74-50ba26ef4462"
      },
      "source": [
        "!wget -P /MyDrive https://archive.ics.uci.edu/ml/machine-learning-databases/iris/iris.data"
      ],
      "execution_count": null,
      "outputs": [
        {
          "output_type": "stream",
          "name": "stdout",
          "text": [
            "--2021-11-24 10:09:17--  https://archive.ics.uci.edu/ml/machine-learning-databases/iris/iris.data\n",
            "Resolving archive.ics.uci.edu (archive.ics.uci.edu)... 128.195.10.252\n",
            "Connecting to archive.ics.uci.edu (archive.ics.uci.edu)|128.195.10.252|:443... connected.\n",
            "HTTP request sent, awaiting response... 200 OK\n",
            "Length: 4551 (4.4K) [application/x-httpd-php]\n",
            "Saving to: ‘/MyDrive/iris.data.1’\n",
            "\n",
            "\riris.data.1           0%[                    ]       0  --.-KB/s               \riris.data.1         100%[===================>]   4.44K  --.-KB/s    in 0s      \n",
            "\n",
            "2021-11-24 10:09:17 (80.8 MB/s) - ‘/MyDrive/iris.data.1’ saved [4551/4551]\n",
            "\n"
          ]
        }
      ]
    },
    {
      "cell_type": "code",
      "metadata": {
        "colab": {
          "base_uri": "https://localhost:8080/"
        },
        "id": "s9jR9YoWd2JO",
        "outputId": "e998e118-f921-4301-9f8f-f884b915dfdc"
      },
      "source": [
        "%ls /MyDrive/"
      ],
      "execution_count": null,
      "outputs": [
        {
          "output_type": "stream",
          "name": "stdout",
          "text": [
            "iris.data\n"
          ]
        }
      ]
    },
    {
      "cell_type": "code",
      "metadata": {
        "id": "Xb6YVwAcaAJu"
      },
      "source": [
        "# !rm /MyDrive/iris.data.1 \n",
        "# %ls\n",
        "# !mv /MyDrive/iris.data  /content/drive/MyDrive/"
      ],
      "execution_count": null,
      "outputs": []
    },
    {
      "cell_type": "markdown",
      "metadata": {
        "id": "Y-fNbauzf39B"
      },
      "source": [
        "**git clone file**\n",
        "git clone + \"giruleoffile\""
      ]
    },
    {
      "cell_type": "markdown",
      "metadata": {
        "id": "kHv7uLs4hpsS"
      },
      "source": [
        "## b. c. | Variables and functions"
      ]
    },
    {
      "cell_type": "code",
      "metadata": {
        "id": "H0jSyXGVgKgE"
      },
      "source": [
        "a = 5\n",
        "b = 2.5\n",
        "c = a + b"
      ],
      "execution_count": null,
      "outputs": []
    },
    {
      "cell_type": "code",
      "metadata": {
        "colab": {
          "base_uri": "https://localhost:8080/"
        },
        "id": "Ae6czsjuh4tJ",
        "outputId": "81d8feae-9b1e-454a-af48-c0ef53f14cbf"
      },
      "source": [
        "type(c) # checking types"
      ],
      "execution_count": null,
      "outputs": [
        {
          "output_type": "execute_result",
          "data": {
            "text/plain": [
              "float"
            ]
          },
          "metadata": {},
          "execution_count": 47
        }
      ]
    },
    {
      "cell_type": "code",
      "metadata": {
        "colab": {
          "base_uri": "https://localhost:8080/",
          "height": 35
        },
        "id": "spVVOwzSiF8X",
        "outputId": "8685bfc3-14d7-41b2-9814-ac4acc1a34d9"
      },
      "source": [
        "\"hello\" + '1' # concatenation of strings"
      ],
      "execution_count": null,
      "outputs": [
        {
          "output_type": "execute_result",
          "data": {
            "application/vnd.google.colaboratory.intrinsic+json": {
              "type": "string"
            },
            "text/plain": [
              "'hello1'"
            ]
          },
          "metadata": {},
          "execution_count": 50
        }
      ]
    },
    {
      "cell_type": "markdown",
      "metadata": {
        "id": "SlSo_UMVk1uJ"
      },
      "source": [
        "#### fstring "
      ]
    },
    {
      "cell_type": "code",
      "metadata": {
        "colab": {
          "base_uri": "https://localhost:8080/"
        },
        "id": "wdQKnG60k6Qh",
        "outputId": "c0d4d579-4285-4a9f-be83-14ad3fed8d65"
      },
      "source": [
        "t = \"Hello\" + \"3\"\n",
        "f = \"Hello\"*3\n",
        "print(f)"
      ],
      "execution_count": null,
      "outputs": [
        {
          "output_type": "stream",
          "name": "stdout",
          "text": [
            "HelloHelloHello\n"
          ]
        }
      ]
    },
    {
      "cell_type": "code",
      "metadata": {
        "colab": {
          "base_uri": "https://localhost:8080/",
          "height": 35
        },
        "id": "7t7jw5_wmL1k",
        "outputId": "c48fc492-2505-480d-f5b5-4d28ac568387"
      },
      "source": [
        "# Assignment\n",
        "name = \"Bob\"\n",
        "age = 20\n",
        "\n",
        "# variation to contenate srting and numbers \n",
        "\"Hello {}. You are {}\".format(name, age)"
      ],
      "execution_count": null,
      "outputs": [
        {
          "output_type": "execute_result",
          "data": {
            "application/vnd.google.colaboratory.intrinsic+json": {
              "type": "string"
            },
            "text/plain": [
              "'Hello Bob. You are 20'"
            ]
          },
          "metadata": {},
          "execution_count": 53
        }
      ]
    },
    {
      "cell_type": "code",
      "metadata": {
        "colab": {
          "base_uri": "https://localhost:8080/",
          "height": 35
        },
        "id": "dLzrI_wLm67P",
        "outputId": "471cc0e2-000b-4ee9-87ff-d73a1cd6ddff"
      },
      "source": [
        "# concatenate with fstring :\n",
        "f\"Hello, {name}. You are {age}\""
      ],
      "execution_count": null,
      "outputs": [
        {
          "output_type": "execute_result",
          "data": {
            "application/vnd.google.colaboratory.intrinsic+json": {
              "type": "string"
            },
            "text/plain": [
              "'Hello, Bob. You are 20'"
            ]
          },
          "metadata": {},
          "execution_count": 68
        }
      ]
    },
    {
      "cell_type": "code",
      "metadata": {
        "id": "aQTWZeGZnUg7"
      },
      "source": [
        "# function contenation \n",
        "\n",
        "def concat_func(a,b):\n",
        "  return str(a) + str(b)\n"
      ],
      "execution_count": null,
      "outputs": []
    },
    {
      "cell_type": "code",
      "metadata": {
        "colab": {
          "base_uri": "https://localhost:8080/",
          "height": 35
        },
        "id": "bGXnT6GfobUO",
        "outputId": "86ca03fd-ac50-446b-c068-1beb3e46e092"
      },
      "source": [
        "# Call the function\n",
        "concat_func(name,age)"
      ],
      "execution_count": null,
      "outputs": [
        {
          "output_type": "execute_result",
          "data": {
            "application/vnd.google.colaboratory.intrinsic+json": {
              "type": "string"
            },
            "text/plain": [
              "'Bob20'"
            ]
          },
          "metadata": {},
          "execution_count": 56
        }
      ]
    },
    {
      "cell_type": "code",
      "metadata": {
        "id": "8Fy0yzo0of-L"
      },
      "source": [
        "# 2nd way to write concate function\n",
        "def concat_num_str(a,b):\n",
        "  res ='{}{}'.format(a,b)\n",
        "  return res"
      ],
      "execution_count": null,
      "outputs": []
    },
    {
      "cell_type": "code",
      "metadata": {
        "colab": {
          "base_uri": "https://localhost:8080/",
          "height": 35
        },
        "id": "jooyn8Fnp8ZV",
        "outputId": "b9d03e74-bb5a-4b12-c3d8-b4e10db4dacb"
      },
      "source": [
        "# Call the function\n",
        "concat_num_str(name,age)"
      ],
      "execution_count": 70,
      "outputs": [
        {
          "output_type": "execute_result",
          "data": {
            "application/vnd.google.colaboratory.intrinsic+json": {
              "type": "string"
            },
            "text/plain": [
              "'Bob20'"
            ]
          },
          "metadata": {},
          "execution_count": 70
        }
      ]
    },
    {
      "cell_type": "markdown",
      "metadata": {
        "id": "8T44E2pL9JSk"
      },
      "source": [
        "Write a function that lists elements"
      ]
    },
    {
      "cell_type": "code",
      "metadata": {
        "id": "eqcKWuZm9KxS"
      },
      "source": [
        "import os\n",
        "\n",
        "def list_dir_content(input_path):\n",
        "  \"\"\"\n",
        "  Input : path of the directory\n",
        "  Output: list of the elements in the directory and the number of elements it contains.\n",
        "  \"\"\"\n",
        "  content = os.listdir(input_path)\n",
        "  numb = len(content)\n",
        "  return content, numb"
      ],
      "execution_count": 73,
      "outputs": []
    },
    {
      "cell_type": "code",
      "metadata": {
        "id": "Qq3aqUwE_PYU"
      },
      "source": [
        "filepath = \"/content/drive/MyDrive/\"\n",
        "!cd /content/drive/MyDrive"
      ],
      "execution_count": 83,
      "outputs": []
    },
    {
      "cell_type": "code",
      "metadata": {
        "id": "qhUMXfw9_b06"
      },
      "source": [
        "#!ls"
      ],
      "execution_count": 84,
      "outputs": []
    },
    {
      "cell_type": "code",
      "metadata": {
        "id": "ItnWdxb-_iww"
      },
      "source": [
        "dir_content, dir_size = list_dir_content(filepath)"
      ],
      "execution_count": 86,
      "outputs": []
    },
    {
      "cell_type": "code",
      "metadata": {
        "colab": {
          "base_uri": "https://localhost:8080/"
        },
        "id": "Yl2Ij9UjB5F6",
        "outputId": "a25ebf72-fb06-47af-c370-7756498b24e5"
      },
      "source": [
        "print(f\"My Google drive contains {dir_size} elements now !\")"
      ],
      "execution_count": 91,
      "outputs": [
        {
          "output_type": "stream",
          "name": "stdout",
          "text": [
            "My Google drive contains 89 elements now !\n"
          ]
        }
      ]
    },
    {
      "cell_type": "code",
      "metadata": {
        "colab": {
          "base_uri": "https://localhost:8080/"
        },
        "id": "g3OngjZQD5Pi",
        "outputId": "b675db66-fed9-4eb2-9b50-4f481aac7f05"
      },
      "source": [
        "dir_content[1:5] # get the 5 first files."
      ],
      "execution_count": 93,
      "outputs": [
        {
          "output_type": "execute_result",
          "data": {
            "text/plain": [
              "['doc',\n",
              " 'Application_form_IRTG2235.pdf',\n",
              " '2016-pg-application-form_finalmarch2016_4-1.doc',\n",
              " 'RENNES-LYON_PART_DIEU_28-06-17_MBENGUE_CHEIKH_AHMADOU_BAMBA_QBFUVY_xSEzFsWfes9LT3hbdRrF.pdf']"
            ]
          },
          "metadata": {},
          "execution_count": 93
        }
      ]
    },
    {
      "cell_type": "markdown",
      "metadata": {
        "id": "N6tUCVODFLwr"
      },
      "source": [
        "Let write a new function so that filters only files not folders."
      ]
    },
    {
      "cell_type": "code",
      "metadata": {
        "id": "l0xPzxYIE8Tm"
      },
      "source": [
        "def check_file(dir_cont):\n",
        "  \"\"\"\n",
        "  This function checks whether element in directory are file and list them.\n",
        "  Input : director content\n",
        "  Output : files and their number\n",
        "  \"\"\"\n",
        "  file_list = []\n",
        "  numb = 0\n",
        "  for element in dir_cont:\n",
        "    if os.path.isfile(element): # os.path.isfile(element) check files type\n",
        "      file_list.append(element)\n",
        "    numb = len(file_list)\n",
        "  return file_list, numb"
      ],
      "execution_count": 113,
      "outputs": []
    },
    {
      "cell_type": "code",
      "metadata": {
        "colab": {
          "base_uri": "https://localhost:8080/"
        },
        "id": "BlM3hCsYHj0D",
        "outputId": "515a09f8-118e-426a-b299-817bec63c62c"
      },
      "source": [
        "my_files, num_files = check_file(dir_content)\n",
        "# number of files\n",
        "print(f\"My Google drive contains exactly {num_files}  !\")"
      ],
      "execution_count": 115,
      "outputs": [
        {
          "output_type": "stream",
          "name": "stdout",
          "text": [
            "My Google drive contains exactly 82  !\n"
          ]
        }
      ]
    },
    {
      "cell_type": "code",
      "metadata": {
        "colab": {
          "base_uri": "https://localhost:8080/"
        },
        "id": "pykzoPkBI8q_",
        "outputId": "b5641ae5-b2ef-4ab3-cbdb-b7073935a0c4"
      },
      "source": [
        "my_files[1:5] # First 5 files are shown here :"
      ],
      "execution_count": 116,
      "outputs": [
        {
          "output_type": "execute_result",
          "data": {
            "text/plain": [
              "['Application_form_IRTG2235.pdf',\n",
              " '2016-pg-application-form_finalmarch2016_4-1.doc',\n",
              " 'RENNES-LYON_PART_DIEU_28-06-17_MBENGUE_CHEIKH_AHMADOU_BAMBA_QBFUVY_xSEzFsWfes9LT3hbdRrF.pdf',\n",
              " 'TENUE ET COMPORTEMENT.pdf']"
            ]
          },
          "metadata": {},
          "execution_count": 116
        }
      ]
    },
    {
      "cell_type": "markdown",
      "metadata": {
        "id": "HsY18x37Ne-y"
      },
      "source": [
        "Absolute path / relative path"
      ]
    },
    {
      "cell_type": "code",
      "metadata": {
        "id": "r7JvtubgQjNZ"
      },
      "source": [
        "def check_file2(input_path):\n",
        "  \"\"\"\n",
        "  This function checks whether element in directory are file and list them.\n",
        "  Input : director content\n",
        "  Output : files and their number\n",
        "  \"\"\"\n",
        "  file_list = []\n",
        "  numb = 0\n",
        "  content = os.listdir(input_path)\n",
        "  for element in content:\n",
        "    # define the full path here \n",
        "    full_path = os.path.join(input_path, element)\n",
        "    if os.path.isfile(full_path): # check if full_path contains file\n",
        "      file_list.append(full_path)\n",
        "    numb = len(file_list)\n",
        "  return file_list, numb"
      ],
      "execution_count": null,
      "outputs": []
    },
    {
      "cell_type": "code",
      "metadata": {
        "colab": {
          "base_uri": "https://localhost:8080/"
        },
        "id": "myuG20P6RTGI",
        "outputId": "9da25205-2caa-47ef-8fb2-c6e449d39817"
      },
      "source": [
        "my_fil, num_files = check_file2(filepath)\n",
        "# number of files\n",
        "print(f\"My Google drive contains exactly {num_fil}  !\")"
      ],
      "execution_count": 117,
      "outputs": [
        {
          "output_type": "stream",
          "name": "stdout",
          "text": [
            "My Google drive contains exactly 82  !\n"
          ]
        }
      ]
    },
    {
      "cell_type": "markdown",
      "metadata": {
        "id": "CpKbSy1zRpMl"
      },
      "source": [
        "Check and list all __.jpg__ images"
      ]
    },
    {
      "cell_type": "code",
      "metadata": {
        "id": "geheYFFdRsfh"
      },
      "source": [
        "def check_file3(input_path):\n",
        "  \"\"\"\n",
        "  This function checks whether element in directory are file and list them.\n",
        "  Input : director content\n",
        "  Output : files and their number\n",
        "  \"\"\"\n",
        "  file_list = []\n",
        "  numb = 0\n",
        "  content = os.listdir(input_path)\n",
        "  for element in content:\n",
        "    # define the full path here \n",
        "    full_path = os.path.join(input_path, element)\n",
        "    if os.path.isfile(full_path): # check if full_path contains file\n",
        "      if full_path.lower().endswith(\".jpg\"): # check file is .jpg\n",
        "        file_list.append(full_path)\n",
        "    numb = len(file_list)\n",
        "  return file_list, numb"
      ],
      "execution_count": 122,
      "outputs": []
    },
    {
      "cell_type": "code",
      "metadata": {
        "colab": {
          "base_uri": "https://localhost:8080/"
        },
        "id": "1CYAyhphS79L",
        "outputId": "cb614228-06b5-4c50-b267-5d98f9eb6b7d"
      },
      "source": [
        "my_files, num_fil = check_file3(filepath)\n",
        "# number of files\n",
        "print(f\"My Google drive contains exactly {num_fil}  !\")"
      ],
      "execution_count": 124,
      "outputs": [
        {
          "output_type": "stream",
          "name": "stdout",
          "text": [
            "My Google drive contains exactly 2  !\n"
          ]
        }
      ]
    },
    {
      "cell_type": "code",
      "metadata": {
        "colab": {
          "base_uri": "https://localhost:8080/"
        },
        "id": "qEDPZszSTrwi",
        "outputId": "672a5df6-b1fb-4cd4-b0c6-83a276546c8e"
      },
      "source": [
        "my_files"
      ],
      "execution_count": 125,
      "outputs": [
        {
          "output_type": "execute_result",
          "data": {
            "text/plain": [
              "['/content/drive/MyDrive/IMG_3405.JPG',\n",
              " '/content/drive/MyDrive/mode emploi kangourou.jpg']"
            ]
          },
          "metadata": {},
          "execution_count": 125
        }
      ]
    },
    {
      "cell_type": "markdown",
      "metadata": {
        "id": "TB3f2bqqV2Vy"
      },
      "source": [
        "List spefic files extentions now :\n",
        "- let's say __.pdf__, __.jpg__ or __.doc__"
      ]
    },
    {
      "cell_type": "code",
      "metadata": {
        "id": "73biUKiRWDjc"
      },
      "source": [
        "def list_extention(input_path, ext_list):\n",
        "  pdf_list = []\n",
        "  jpg_list = []\n",
        "  doc_list = []\n",
        "  n_pdf, n_jpg, n_doc  = 0, 0, 0\n",
        "\n",
        "  content = os.listdir(input_path)\n",
        "  for element in content:\n",
        "    # define the full path here \n",
        "    full_path = os.path.join(input_path, element)\n",
        "    if os.path.isfile(full_path): # check if full_path contains file\n",
        "      if full_path.lower().endswith(str(ext_list[0])): # check file is .pdf\n",
        "        pdf_list.append(full_path)\n",
        "      elif full_path.lower().endswith(str(ext_list[1])):\n",
        "        jpg_list.append(full_path)\n",
        "      elif full_path.lower().endswith(str(ext_list[2])):\n",
        "        doc_list.append(full_path)\n",
        "    n_pdf = len(pdf_list)\n",
        "    n_jpg = len(jpg_list)\n",
        "    n_doc = len(doc_list)\n",
        "  return pdf_list, n_pdf, jpg_list, n_jpg, doc_list, n_doc"
      ],
      "execution_count": 158,
      "outputs": []
    },
    {
      "cell_type": "code",
      "metadata": {
        "colab": {
          "base_uri": "https://localhost:8080/"
        },
        "id": "DXxIVaJhaLTE",
        "outputId": "da50bfc0-fe91-4807-f104-e0b0d4ac4a40"
      },
      "source": [
        "list_extention(filepath, [\".pdf\", \".jpg\", \".doc\"])"
      ],
      "execution_count": 160,
      "outputs": [
        {
          "output_type": "execute_result",
          "data": {
            "text/plain": [
              "(['/content/drive/MyDrive/How to get started with Drive.pdf',\n",
              "  '/content/drive/MyDrive/Application_form_IRTG2235.pdf',\n",
              "  '/content/drive/MyDrive/RENNES-LYON_PART_DIEU_28-06-17_MBENGUE_CHEIKH_AHMADOU_BAMBA_QBFUVY_xSEzFsWfes9LT3hbdRrF.pdf',\n",
              "  '/content/drive/MyDrive/TENUE ET COMPORTEMENT.pdf',\n",
              "  '/content/drive/MyDrive/CRconseildeclasse2H.pdf',\n",
              "  '/content/drive/MyDrive/demande_de_rendez-vous-ngom-elhadji-25-05-2018-15-15.pdf',\n",
              "  '/content/drive/MyDrive/NGOM.pdf',\n",
              "  '/content/drive/MyDrive/Did Géom 3 oct 19.pdf',\n",
              "  '/content/drive/MyDrive/plan de creation dune ecole privee a thiadiaye.pdf',\n",
              "  '/content/drive/MyDrive/Memoire_Didactique_Ngom.pdf'],\n",
              " 10,\n",
              " ['/content/drive/MyDrive/IMG_3405.JPG',\n",
              "  '/content/drive/MyDrive/mode emploi kangourou.jpg'],\n",
              " 2,\n",
              " ['/content/drive/MyDrive/2016-pg-application-form_finalmarch2016_4-1.doc'],\n",
              " 1)"
            ]
          },
          "metadata": {},
          "execution_count": 160
        }
      ]
    },
    {
      "cell_type": "code",
      "metadata": {
        "id": "1qVj0I0vY--h"
      },
      "source": [
        "import glob2 # Etract extension in directory\n",
        "# glop2 can extract all the .jpg as follows\n",
        "all_jpg_files = glob2.glob(os.path.join(filepath, \"*.jpg\"))"
      ],
      "execution_count": 143,
      "outputs": []
    },
    {
      "cell_type": "code",
      "metadata": {
        "colab": {
          "base_uri": "https://localhost:8080/"
        },
        "id": "3Eq4a3EzZCdz",
        "outputId": "c121db6f-68ce-4335-f418-664f01cc06cc"
      },
      "source": [
        "all_jpg_files"
      ],
      "execution_count": 144,
      "outputs": [
        {
          "output_type": "execute_result",
          "data": {
            "text/plain": [
              "['/content/drive/MyDrive/IMG_3405.JPG',\n",
              " '/content/drive/MyDrive/mode emploi kangourou.jpg']"
            ]
          },
          "metadata": {},
          "execution_count": 144
        }
      ]
    },
    {
      "cell_type": "code",
      "metadata": {
        "id": "qsvMX-HXbvM5"
      },
      "source": [
        "all_pdf = glob2.glob(os.path.join(filepath, \"*.pdf\"))"
      ],
      "execution_count": 145,
      "outputs": []
    },
    {
      "cell_type": "code",
      "metadata": {
        "colab": {
          "base_uri": "https://localhost:8080/"
        },
        "id": "UBjdzPsgcKyG",
        "outputId": "722d0b1d-4e08-475d-e489-23dcb596a2a7"
      },
      "source": [
        "all_pdf"
      ],
      "execution_count": 146,
      "outputs": [
        {
          "output_type": "execute_result",
          "data": {
            "text/plain": [
              "['/content/drive/MyDrive/How to get started with Drive.pdf',\n",
              " '/content/drive/MyDrive/Application_form_IRTG2235.pdf',\n",
              " '/content/drive/MyDrive/RENNES-LYON_PART_DIEU_28-06-17_MBENGUE_CHEIKH_AHMADOU_BAMBA_QBFUVY_xSEzFsWfes9LT3hbdRrF.pdf',\n",
              " '/content/drive/MyDrive/TENUE ET COMPORTEMENT.pdf',\n",
              " '/content/drive/MyDrive/CRconseildeclasse2H.pdf',\n",
              " '/content/drive/MyDrive/demande_de_rendez-vous-ngom-elhadji-25-05-2018-15-15.pdf',\n",
              " '/content/drive/MyDrive/NGOM.pdf',\n",
              " '/content/drive/MyDrive/Did Géom 3 oct 19.pdf',\n",
              " '/content/drive/MyDrive/plan de creation dune ecole privee a thiadiaye.pdf',\n",
              " '/content/drive/MyDrive/Memoire_Didactique_Ngom.pdf']"
            ]
          },
          "metadata": {},
          "execution_count": 146
        }
      ]
    },
    {
      "cell_type": "code",
      "metadata": {
        "colab": {
          "base_uri": "https://localhost:8080/"
        },
        "id": "d6KSI1mWcQvy",
        "outputId": "37df1f31-a188-4d09-9deb-1d83c30305aa"
      },
      "source": [
        "len(all_pdf)"
      ],
      "execution_count": 147,
      "outputs": [
        {
          "output_type": "execute_result",
          "data": {
            "text/plain": [
              "10"
            ]
          },
          "metadata": {},
          "execution_count": 147
        }
      ]
    },
    {
      "cell_type": "code",
      "metadata": {
        "colab": {
          "base_uri": "https://localhost:8080/"
        },
        "id": "HlZS3mi9cZDg",
        "outputId": "e7f4a4ec-eedf-48cb-e30b-4e086da199d1"
      },
      "source": [
        "pdfextension = \"*.pdf\"\n",
        "glob2.glob(os.path.join(filepath,pdfextension))"
      ],
      "execution_count": 148,
      "outputs": [
        {
          "output_type": "execute_result",
          "data": {
            "text/plain": [
              "['/content/drive/MyDrive/How to get started with Drive.pdf',\n",
              " '/content/drive/MyDrive/Application_form_IRTG2235.pdf',\n",
              " '/content/drive/MyDrive/RENNES-LYON_PART_DIEU_28-06-17_MBENGUE_CHEIKH_AHMADOU_BAMBA_QBFUVY_xSEzFsWfes9LT3hbdRrF.pdf',\n",
              " '/content/drive/MyDrive/TENUE ET COMPORTEMENT.pdf',\n",
              " '/content/drive/MyDrive/CRconseildeclasse2H.pdf',\n",
              " '/content/drive/MyDrive/demande_de_rendez-vous-ngom-elhadji-25-05-2018-15-15.pdf',\n",
              " '/content/drive/MyDrive/NGOM.pdf',\n",
              " '/content/drive/MyDrive/Did Géom 3 oct 19.pdf',\n",
              " '/content/drive/MyDrive/plan de creation dune ecole privee a thiadiaye.pdf',\n",
              " '/content/drive/MyDrive/Memoire_Didactique_Ngom.pdf']"
            ]
          },
          "metadata": {},
          "execution_count": 148
        }
      ]
    },
    {
      "cell_type": "code",
      "metadata": {
        "colab": {
          "base_uri": "https://localhost:8080/"
        },
        "id": "ztnhA1XSdFIA",
        "outputId": "0f409fe1-e3e8-4c6d-a3e6-907ab2d153c8"
      },
      "source": [
        "pdf_jpg_doc = [\"*.pdf\", \"*.jgp\", \"*.doc\"]\n",
        "my_Files = []\n",
        "for extention in pdf_jpg_doc:\n",
        "  file_ext = glob2.glob(os.path.join(filepath, extention))\n",
        "  my_Files += file_ext\n",
        "\n",
        "my_Files"
      ],
      "execution_count": 161,
      "outputs": [
        {
          "output_type": "execute_result",
          "data": {
            "text/plain": [
              "['/content/drive/MyDrive/How to get started with Drive.pdf',\n",
              " '/content/drive/MyDrive/Application_form_IRTG2235.pdf',\n",
              " '/content/drive/MyDrive/RENNES-LYON_PART_DIEU_28-06-17_MBENGUE_CHEIKH_AHMADOU_BAMBA_QBFUVY_xSEzFsWfes9LT3hbdRrF.pdf',\n",
              " '/content/drive/MyDrive/TENUE ET COMPORTEMENT.pdf',\n",
              " '/content/drive/MyDrive/CRconseildeclasse2H.pdf',\n",
              " '/content/drive/MyDrive/demande_de_rendez-vous-ngom-elhadji-25-05-2018-15-15.pdf',\n",
              " '/content/drive/MyDrive/NGOM.pdf',\n",
              " '/content/drive/MyDrive/Did Géom 3 oct 19.pdf',\n",
              " '/content/drive/MyDrive/plan de creation dune ecole privee a thiadiaye.pdf',\n",
              " '/content/drive/MyDrive/Memoire_Didactique_Ngom.pdf',\n",
              " '/content/drive/MyDrive/2016-pg-application-form_finalmarch2016_4-1.doc']"
            ]
          },
          "metadata": {},
          "execution_count": 161
        }
      ]
    }
  ]
}